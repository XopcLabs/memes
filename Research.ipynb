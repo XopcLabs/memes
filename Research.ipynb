{
 "cells": [
  {
   "cell_type": "code",
   "execution_count": 1,
   "metadata": {
    "inputHidden": false,
    "outputHidden": false
   },
   "outputs": [],
   "source": [
    "import os\n",
    "import requests\n",
    "\n",
    "import pandas as pd\n",
    "import numpy as np\n",
    "\n",
    "import matplotlib.pyplot as plt\n",
    "import matplotlib.image as mpimg\n",
    "import seaborn as sns\n",
    "%matplotlib inline\n",
    "sns.set()\n",
    "\n",
    "from datetime import datetime"
   ]
  },
  {
   "cell_type": "markdown",
   "metadata": {},
   "source": [
    "# Подготовка\n",
    "Создадим датафрейм ```memes``` и, на всякий случай, удалим все дубликаты."
   ]
  },
  {
   "cell_type": "code",
   "execution_count": 2,
   "metadata": {
    "inputHidden": false,
    "outputHidden": false
   },
   "outputs": [
    {
     "name": "stdout",
     "output_type": "stream",
     "text": [
      "<class 'pandas.core.frame.DataFrame'>\n",
      "Int64Index: 23813 entries, 0 to 23869\n",
      "Data columns (total 18 columns):\n",
      "name          23812 non-null object\n",
      "category      23812 non-null object\n",
      "status        23812 non-null object\n",
      "year          23812 non-null object\n",
      "added         23804 non-null object\n",
      "updated       23380 non-null object\n",
      "views         23813 non-null int64\n",
      "videos        23813 non-null int64\n",
      "photos        23813 non-null int64\n",
      "comments      23813 non-null int64\n",
      "tags          23810 non-null object\n",
      "type          11230 non-null object\n",
      "about         21512 non-null object\n",
      "history       14717 non-null object\n",
      "other         14594 non-null object\n",
      "origin        23807 non-null object\n",
      "picture       23812 non-null object\n",
      "scraped_at    23813 non-null object\n",
      "dtypes: int64(4), object(14)\n",
      "memory usage: 3.5+ MB\n"
     ]
    }
   ],
   "source": [
    "memes = pd.read_csv('data/data.csv')\n",
    "memes = memes.drop_duplicates(subset='name', keep='first')\n",
    "memes.info()"
   ]
  },
  {
   "cell_type": "markdown",
   "metadata": {},
   "source": [
    "Заполним все NaN в столбцах ```added``` ```updated``` с помощью forward-fill. После того, как у нас нет NaT, конвертируем все столбцы с датами в UTC. А затем установим ```added``` как индекс."
   ]
  },
  {
   "cell_type": "code",
   "execution_count": 3,
   "metadata": {
    "inputHidden": false,
    "outputHidden": false
   },
   "outputs": [
    {
     "data": {
      "text/plain": [
       "DatetimeIndex(['2020-01-02 23:31:57+00:00', '2020-01-02 22:07:28+00:00',\n",
       "               '2020-01-02 21:31:25+00:00', '2020-01-02 21:09:31+00:00',\n",
       "               '2020-01-02 20:50:43+00:00', '2020-01-02 20:10:23+00:00',\n",
       "               '2020-01-02 20:10:09+00:00', '2020-01-02 19:38:22+00:00',\n",
       "               '2020-01-02 19:38:16+00:00', '2020-01-02 18:28:50+00:00',\n",
       "               ...\n",
       "               '2008-12-12 20:11:32+00:00', '2008-12-12 20:11:00+00:00',\n",
       "               '2008-12-12 20:10:42+00:00', '2008-12-12 20:10:28+00:00',\n",
       "               '2008-12-12 20:10:09+00:00', '2008-12-10 21:09:26+00:00',\n",
       "               '2008-12-10 21:09:13+00:00', '2008-12-10 21:08:49+00:00',\n",
       "               '2008-12-10 21:08:39+00:00', '2008-12-10 21:08:04+00:00'],\n",
       "              dtype='datetime64[ns, UTC]', name='added', length=23813, freq=None)"
      ]
     },
     "execution_count": 3,
     "metadata": {},
     "output_type": "execute_result"
    }
   ],
   "source": [
    "memes.added.fillna(method='ffill', inplace=True)\n",
    "memes.updated.fillna(method='ffill', inplace=True)\n",
    "memes.fillna('', inplace=True)\n",
    "memes['added'] = pd.to_datetime(memes.added, utc=True)\n",
    "memes['updated'] = pd.to_datetime(memes.updated, utc=True)\n",
    "memes['scraped_at'] = pd.to_datetime(memes.scraped_at, utc=True)\n",
    "memes.set_index('added', inplace=True)\n",
    "memes.index"
   ]
  },
  {
   "cell_type": "markdown",
   "metadata": {},
   "source": [
    "Опустим часовой пояс у индекса."
   ]
  },
  {
   "cell_type": "code",
   "execution_count": 4,
   "metadata": {
    "inputHidden": false,
    "outputHidden": false
   },
   "outputs": [
    {
     "data": {
      "text/plain": [
       "DatetimeIndex(['2020-01-02 23:31:57', '2020-01-02 22:07:28',\n",
       "               '2020-01-02 21:31:25', '2020-01-02 21:09:31',\n",
       "               '2020-01-02 20:50:43', '2020-01-02 20:10:23',\n",
       "               '2020-01-02 20:10:09', '2020-01-02 19:38:22',\n",
       "               '2020-01-02 19:38:16', '2020-01-02 18:28:50',\n",
       "               ...\n",
       "               '2008-12-12 20:11:32', '2008-12-12 20:11:00',\n",
       "               '2008-12-12 20:10:42', '2008-12-12 20:10:28',\n",
       "               '2008-12-12 20:10:09', '2008-12-10 21:09:26',\n",
       "               '2008-12-10 21:09:13', '2008-12-10 21:08:49',\n",
       "               '2008-12-10 21:08:39', '2008-12-10 21:08:04'],\n",
       "              dtype='datetime64[ns]', name='added', length=23813, freq=None)"
      ]
     },
     "execution_count": 4,
     "metadata": {},
     "output_type": "execute_result"
    }
   ],
   "source": [
    "memes = memes.tz_convert(None)\n",
    "memes.index"
   ]
  },
  {
   "cell_type": "markdown",
   "metadata": {},
   "source": [
    "Взглянем на то, как теперь выглядит датафрейм."
   ]
  },
  {
   "cell_type": "code",
   "execution_count": 5,
   "metadata": {
    "inputHidden": false,
    "outputHidden": false
   },
   "outputs": [
    {
     "data": {
      "text/plain": [
       "Index(['name', 'category', 'status', 'year', 'updated', 'views', 'videos',\n",
       "       'photos', 'comments', 'tags', 'type', 'about', 'history', 'other',\n",
       "       'origin', 'picture', 'scraped_at'],\n",
       "      dtype='object')"
      ]
     },
     "execution_count": 5,
     "metadata": {},
     "output_type": "execute_result"
    }
   ],
   "source": [
    "memes.columns"
   ]
  },
  {
   "cell_type": "code",
   "execution_count": 6,
   "metadata": {
    "inputHidden": false,
    "outputHidden": false
   },
   "outputs": [
    {
     "data": {
      "text/html": [
       "<div>\n",
       "<style scoped>\n",
       "    .dataframe tbody tr th:only-of-type {\n",
       "        vertical-align: middle;\n",
       "    }\n",
       "\n",
       "    .dataframe tbody tr th {\n",
       "        vertical-align: top;\n",
       "    }\n",
       "\n",
       "    .dataframe thead th {\n",
       "        text-align: right;\n",
       "    }\n",
       "</style>\n",
       "<table border=\"1\" class=\"dataframe\">\n",
       "  <thead>\n",
       "    <tr style=\"text-align: right;\">\n",
       "      <th></th>\n",
       "      <th>name</th>\n",
       "      <th>category</th>\n",
       "      <th>status</th>\n",
       "      <th>year</th>\n",
       "      <th>updated</th>\n",
       "      <th>views</th>\n",
       "      <th>videos</th>\n",
       "      <th>photos</th>\n",
       "      <th>comments</th>\n",
       "      <th>tags</th>\n",
       "      <th>type</th>\n",
       "      <th>about</th>\n",
       "      <th>history</th>\n",
       "      <th>other</th>\n",
       "      <th>origin</th>\n",
       "      <th>picture</th>\n",
       "      <th>scraped_at</th>\n",
       "    </tr>\n",
       "    <tr>\n",
       "      <th>added</th>\n",
       "      <th></th>\n",
       "      <th></th>\n",
       "      <th></th>\n",
       "      <th></th>\n",
       "      <th></th>\n",
       "      <th></th>\n",
       "      <th></th>\n",
       "      <th></th>\n",
       "      <th></th>\n",
       "      <th></th>\n",
       "      <th></th>\n",
       "      <th></th>\n",
       "      <th></th>\n",
       "      <th></th>\n",
       "      <th></th>\n",
       "      <th></th>\n",
       "      <th></th>\n",
       "    </tr>\n",
       "  </thead>\n",
       "  <tbody>\n",
       "    <tr>\n",
       "      <th>2020-01-02 23:31:57</th>\n",
       "      <td>Gemini31292's Seizure Reaction</td>\n",
       "      <td>meme</td>\n",
       "      <td>submission</td>\n",
       "      <td>2018</td>\n",
       "      <td>2020-01-02 23:31:57+00:00</td>\n",
       "      <td>2</td>\n",
       "      <td>0</td>\n",
       "      <td>0</td>\n",
       "      <td>0</td>\n",
       "      <td>gemini31292, seizure, eye pop, shaking, black ...</td>\n",
       "      <td>exploitable</td>\n",
       "      <td>[W.I.P.]</td>\n",
       "      <td>On November 22nd, 2018, TikTok[1] user @gemini...</td>\n",
       "      <td>[1] TikTok – @geminiofficial</td>\n",
       "      <td>tiktok</td>\n",
       "      <td>https://i.kym-cdn.com/entries/icons/original/0...</td>\n",
       "      <td>2020-01-03 04:23:16.701385+00:00</td>\n",
       "    </tr>\n",
       "    <tr>\n",
       "      <th>2020-01-02 22:07:28</th>\n",
       "      <td>Which Is The Best Seat?</td>\n",
       "      <td>meme</td>\n",
       "      <td>submission</td>\n",
       "      <td>2019</td>\n",
       "      <td>2020-01-02 22:27:11+00:00</td>\n",
       "      <td>30</td>\n",
       "      <td>0</td>\n",
       "      <td>14</td>\n",
       "      <td>0</td>\n",
       "      <td>subway, where y'all sitting, lunch table, publ...</td>\n",
       "      <td>image macro</td>\n",
       "      <td>Which Is the Best Seat? is a viral debate abou...</td>\n",
       "      <td>On December 31st, 2019, Twitter[1] user @gplat...</td>\n",
       "      <td>The following day, late-night talkshow host De...</td>\n",
       "      <td>twitter</td>\n",
       "      <td>https://i.kym-cdn.com/entries/icons/original/0...</td>\n",
       "      <td>2020-01-03 04:23:19.226010+00:00</td>\n",
       "    </tr>\n",
       "    <tr>\n",
       "      <th>2020-01-02 21:31:25</th>\n",
       "      <td>Yoda Balloon</td>\n",
       "      <td>meme</td>\n",
       "      <td>submission</td>\n",
       "      <td>2018</td>\n",
       "      <td>2020-01-02 21:50:21+00:00</td>\n",
       "      <td>117</td>\n",
       "      <td>0</td>\n",
       "      <td>12</td>\n",
       "      <td>2</td>\n",
       "      <td>yoda, star wars, movies, cinema, movie memes, ...</td>\n",
       "      <td>image macro</td>\n",
       "      <td>Yoda Balloon is an image macro based on a 2018...</td>\n",
       "      <td>On August 11th, 2018, Flickr [1] user Arthur O...</td>\n",
       "      <td>Several months later, on December 4th, Reddito...</td>\n",
       "      <td>flickr</td>\n",
       "      <td>https://i.kym-cdn.com/entries/icons/original/0...</td>\n",
       "      <td>2020-01-03 04:23:21.728221+00:00</td>\n",
       "    </tr>\n",
       "  </tbody>\n",
       "</table>\n",
       "</div>"
      ],
      "text/plain": [
       "                                               name category      status  \\\n",
       "added                                                                      \n",
       "2020-01-02 23:31:57  Gemini31292's Seizure Reaction     meme  submission   \n",
       "2020-01-02 22:07:28         Which Is The Best Seat?     meme  submission   \n",
       "2020-01-02 21:31:25                    Yoda Balloon     meme  submission   \n",
       "\n",
       "                     year                   updated  views  videos  photos  \\\n",
       "added                                                                        \n",
       "2020-01-02 23:31:57  2018 2020-01-02 23:31:57+00:00      2       0       0   \n",
       "2020-01-02 22:07:28  2019 2020-01-02 22:27:11+00:00     30       0      14   \n",
       "2020-01-02 21:31:25  2018 2020-01-02 21:50:21+00:00    117       0      12   \n",
       "\n",
       "                     comments  \\\n",
       "added                           \n",
       "2020-01-02 23:31:57         0   \n",
       "2020-01-02 22:07:28         0   \n",
       "2020-01-02 21:31:25         2   \n",
       "\n",
       "                                                                  tags  \\\n",
       "added                                                                    \n",
       "2020-01-02 23:31:57  gemini31292, seizure, eye pop, shaking, black ...   \n",
       "2020-01-02 22:07:28  subway, where y'all sitting, lunch table, publ...   \n",
       "2020-01-02 21:31:25  yoda, star wars, movies, cinema, movie memes, ...   \n",
       "\n",
       "                            type  \\\n",
       "added                              \n",
       "2020-01-02 23:31:57  exploitable   \n",
       "2020-01-02 22:07:28  image macro   \n",
       "2020-01-02 21:31:25  image macro   \n",
       "\n",
       "                                                                 about  \\\n",
       "added                                                                    \n",
       "2020-01-02 23:31:57                                           [W.I.P.]   \n",
       "2020-01-02 22:07:28  Which Is the Best Seat? is a viral debate abou...   \n",
       "2020-01-02 21:31:25  Yoda Balloon is an image macro based on a 2018...   \n",
       "\n",
       "                                                               history  \\\n",
       "added                                                                    \n",
       "2020-01-02 23:31:57  On November 22nd, 2018, TikTok[1] user @gemini...   \n",
       "2020-01-02 22:07:28  On December 31st, 2019, Twitter[1] user @gplat...   \n",
       "2020-01-02 21:31:25  On August 11th, 2018, Flickr [1] user Arthur O...   \n",
       "\n",
       "                                                                 other  \\\n",
       "added                                                                    \n",
       "2020-01-02 23:31:57                       [1] TikTok – @geminiofficial   \n",
       "2020-01-02 22:07:28  The following day, late-night talkshow host De...   \n",
       "2020-01-02 21:31:25  Several months later, on December 4th, Reddito...   \n",
       "\n",
       "                      origin  \\\n",
       "added                          \n",
       "2020-01-02 23:31:57   tiktok   \n",
       "2020-01-02 22:07:28  twitter   \n",
       "2020-01-02 21:31:25   flickr   \n",
       "\n",
       "                                                               picture  \\\n",
       "added                                                                    \n",
       "2020-01-02 23:31:57  https://i.kym-cdn.com/entries/icons/original/0...   \n",
       "2020-01-02 22:07:28  https://i.kym-cdn.com/entries/icons/original/0...   \n",
       "2020-01-02 21:31:25  https://i.kym-cdn.com/entries/icons/original/0...   \n",
       "\n",
       "                                          scraped_at  \n",
       "added                                                 \n",
       "2020-01-02 23:31:57 2020-01-03 04:23:16.701385+00:00  \n",
       "2020-01-02 22:07:28 2020-01-03 04:23:19.226010+00:00  \n",
       "2020-01-02 21:31:25 2020-01-03 04:23:21.728221+00:00  "
      ]
     },
     "execution_count": 6,
     "metadata": {},
     "output_type": "execute_result"
    }
   ],
   "source": [
    "memes.head(3)"
   ]
  },
  {
   "cell_type": "markdown",
   "metadata": {},
   "source": [
    "# Распределение по категориям\n",
    "Каждая спрасенная страница отнесена к какой-то категории. Построим круговую диаграмму, которая покажет отношение количества страниц в каждой категории."
   ]
  },
  {
   "cell_type": "code",
   "execution_count": 7,
   "metadata": {
    "inputHidden": false,
    "outputHidden": false
   },
   "outputs": [
    {
     "data": {
      "image/png": "[encoded data removed]",
      "text/plain": [
       "<Figure size 432x288 with 1 Axes>"
      ]
     },
     "metadata": {},
     "output_type": "display_data"
    }
   ],
   "source": [
    "memes.category.value_counts().plot(kind='pie', title='Category')\n",
    "plt.axis(False)\n",
    "plt.show()"
   ]
  },
  {
   "cell_type": "markdown",
   "metadata": {},
   "source": [
    "# Распределение по статусу\n",
    "Каждая запись на сайте имеет один из трех статусов:\n",
    "* **Confirmed** - скорее всего, популярный мем, подтвержденный администрацией\n",
    "* **Submission** - недавно добавленный мем (или недостаточно популярный), не подтвержденный администрацией\n",
    "* **Deadpool** - мемы, не удовлетворяющие необходимым критериям оформления страницы\n",
    "Аналогично, построим круговую диаграмму, которая покажет распределение мемов по статусу."
   ]
  },
  {
   "cell_type": "code",
   "execution_count": 8,
   "metadata": {
    "inputHidden": false,
    "outputHidden": false
   },
   "outputs": [
    {
     "data": {
      "image/png": "[encoded data removed]",
      "text/plain": [
       "<Figure size 432x288 with 1 Axes>"
      ]
     },
     "metadata": {},
     "output_type": "display_data"
    }
   ],
   "source": [
    "memes.status.value_counts().plot(kind='pie', title='Status')\n",
    "plt.axis(False)\n",
    "plt.show()"
   ]
  },
  {
   "cell_type": "markdown",
   "metadata": {},
   "source": [
    "# Типы\n",
    "Столбец ```type``` также, как и ```category``` и ```status``` содержит лишь одно ключевое слово, однако, разных типов гораздо больше."
   ]
  },
  {
   "cell_type": "code",
   "execution_count": 9,
   "metadata": {
    "inputHidden": false,
    "outputHidden": false
   },
   "outputs": [
    {
     "data": {
      "text/plain": [
       "108"
      ]
     },
     "execution_count": 9,
     "metadata": {},
     "output_type": "execute_result"
    }
   ],
   "source": [
    "memes.type.nunique()"
   ]
  },
  {
   "cell_type": "markdown",
   "metadata": {},
   "source": [
    "Интересно посмотреть на самый популярные типы среди каждой из категорий. Построим гистограммы десяти самых популярных типов в каждой категории."
   ]
  },
  {
   "cell_type": "code",
   "execution_count": 10,
   "metadata": {
    "inputHidden": false,
    "outputHidden": false
   },
   "outputs": [
    {
     "data": {
      "image/png": "[encoded data removed]",
      "text/plain": [
       "<Figure size 720x360 with 6 Axes>"
      ]
     },
     "metadata": {
      "needs_background": "light"
     },
     "output_type": "display_data"
    }
   ],
   "source": [
    "categories = memes.category.value_counts().index\n",
    "fig, ax = plt.subplots(2, 3, figsize=(10, 5))\n",
    "index = 0\n",
    "for i in range(2):\n",
    "    for j in range(3):\n",
    "        plottable = memes[memes.category == categories[index]].type.value_counts().head(10)\n",
    "        plottable.plot(kind='barh', title=categories[index], ax=ax[i, j])\n",
    "        index += 1\n",
    "plt.tight_layout()\n",
    "plt.show()"
   ]
  },
  {
   "cell_type": "markdown",
   "metadata": {},
   "source": [
    "Среди мемов самыми популярными стали __exploitable__ и __image macro__. Первое - это обычно шаблонные пикчи, которые просто превратить в новый мем. __image macro__ - картинки с любой подписью, будь то демотиваторы, современные постироничные \"ты как из рубашки выбрался\" или древние advice-animals.  \n",
    "Также достаточно интересно, что среди страниц людей, страниц посвященных музыкантам почти вдвое больше, чем страниц, посвященных блоггерам."
   ]
  },
  {
   "cell_type": "markdown",
   "metadata": {},
   "source": [
    "# Количество загруженных мемов за каждый год\n",
    "Сгруппируем мемы по годам и построим гистограмму."
   ]
  },
  {
   "cell_type": "code",
   "execution_count": 11,
   "metadata": {
    "inputHidden": false,
    "outputHidden": false
   },
   "outputs": [
    {
     "data": {
      "image/png": "[encoded data removed]",
      "text/plain": [
       "<Figure size 432x288 with 1 Axes>"
      ]
     },
     "metadata": {
      "needs_background": "light"
     },
     "output_type": "display_data"
    }
   ],
   "source": [
    "by_year = memes.groupby(memes.index.year).count()\n",
    "by_year[by_year.index < 2020].name.plot(kind='bar')\n",
    "plt.xlabel('')\n",
    "plt.title('Uploads each year')\n",
    "plt.show()"
   ]
  },
  {
   "cell_type": "markdown",
   "metadata": {},
   "source": [
    "Судя по гистограмме, 2019 год получился самым \"меметичным\"."
   ]
  },
  {
   "cell_type": "markdown",
   "metadata": {},
   "source": [
    "# В какие месяца загружают больше всего мемов?\n",
    "Здесь я построю две диаграммы рядом. В одной будет абсолютное значение количества созданных страниц за каждый месяц, а в другой среднее значение созданных страниц каждый день в течение месяца.\n",
    "Учтем високосные года, установив количество дней в феврале 28.25. Не лучшее решение, зато просто..."
   ]
  },
  {
   "cell_type": "code",
   "execution_count": 12,
   "metadata": {
    "inputHidden": false,
    "outputHidden": false
   },
   "outputs": [
    {
     "data": {
      "image/png": "[encoded data removed]",
      "text/plain": [
       "<Figure size 432x288 with 2 Axes>"
      ]
     },
     "metadata": {
      "needs_background": "light"
     },
     "output_type": "display_data"
    }
   ],
   "source": [
    "month_names = ['January', 'February', 'March', 'April', 'May', 'June', 'Jule', 'August', 'September', 'October', 'November', 'December']\n",
    "days_in_month = np.array([31, 28.25, 31, 30, 31, 30, 31, 31, 30, 31, 30, 31])\n",
    "\n",
    "by_month = memes.groupby(memes.index.month).count()\n",
    "by_month = by_month.name\n",
    "\n",
    "fig, ax = plt.subplots(2, 1, sharex=True)\n",
    "by_month.plot(kind='bar', ax=ax[0], title='Uploads each month')\n",
    "(by_month/days_in_month).plot(kind='bar', ax=ax[1], title='Uploads per day each month')\n",
    "plt.xlabel('')\n",
    "plt.xticks(np.arange(12), month_names)\n",
    "plt.show()"
   ]
  },
  {
   "cell_type": "markdown",
   "metadata": {},
   "source": [
    "Однако, из полученного графика мало чего можно сказать. Мемы распределены достаточно равномерно по всем месяцам."
   ]
  },
  {
   "cell_type": "markdown",
   "metadata": {},
   "source": [
    "# Загрузки по дням недели"
   ]
  },
  {
   "cell_type": "code",
   "execution_count": 13,
   "metadata": {
    "inputHidden": false,
    "outputHidden": false
   },
   "outputs": [
    {
     "data": {
      "image/png": "[encoded data removed]",
      "text/plain": [
       "<Figure size 432x288 with 1 Axes>"
      ]
     },
     "metadata": {
      "needs_background": "light"
     },
     "output_type": "display_data"
    }
   ],
   "source": [
    "weekday_names = ['Monday', 'Tuesday', 'Wednesday', 'Thursday', 'Friday', 'Saturday', 'Sunday']\n",
    "memes.groupby(memes.index.weekday).count().name.plot(kind='bar')\n",
    "plt.title('Uploads each weekday')\n",
    "plt.xlabel('')\n",
    "plt.xticks(np.arange(7), weekday_names)\n",
    "plt.show()"
   ]
  },
  {
   "cell_type": "markdown",
   "metadata": {},
   "source": [
    "Это уже интересней. На выходных активность снижается почти в два раза. Причина мне, к сожалению, не ясна. Неужели люди действительно отдыхают или занимаются чем-то полезным?..."
   ]
  },
  {
   "cell_type": "markdown",
   "metadata": {},
   "source": [
    "# Загрузки по часам\n",
    "Посмотрим на то, во сколько люди обычно загружают мемы."
   ]
  },
  {
   "cell_type": "code",
   "execution_count": 14,
   "metadata": {
    "inputHidden": false,
    "outputHidden": false
   },
   "outputs": [
    {
     "data": {
      "image/png": "[encoded data removed]",
      "text/plain": [
       "<Figure size 576x576 with 2 Axes>"
      ]
     },
     "metadata": {
      "needs_background": "light"
     },
     "output_type": "display_data"
    }
   ],
   "source": [
    "workdays = memes[memes.index.weekday.isin(range(5))]\n",
    "weekends = memes[memes.index.weekday.isin(range(5, 7))]\n",
    "fig, ax = plt.subplots(2, 1, figsize=(8, 8))\n",
    "fig.suptitle('Uploads each hour', fontsize=16)\n",
    "workdays.groupby(workdays.index.hour).count().name.plot(kind='bar', ax=ax[0])\n",
    "ax[0].set_title('Workdays')\n",
    "weekends.groupby(weekends.index.hour).count().name.plot(kind='bar', ax=ax[1])\n",
    "ax[1].set_title('Weekends')\n",
    "plt.xlabel('')\n",
    "plt.tight_layout()\n",
    "fig.subplots_adjust(top=0.9)\n",
    "plt.show()"
   ]
  },
  {
   "cell_type": "markdown",
   "metadata": {},
   "source": [
    "Красиво! И вполне ожидаемо.  \n",
    "В будни минимум достигается в 7-9 часов, когда всем надо уже топать на работу или учебу, а пик активности под вечер - в 19 часов.  \n",
    "В выходные же, распределение куда более равномерное. Люди чаще сидят за компьютером допоздна. Настолько, что количество созданных страниц в 20 и 00 практически одинаково."
   ]
  },
  {
   "cell_type": "markdown",
   "metadata": {},
   "source": [
    "# Год появления\n",
    "\"Опишем\" стобец, хранящий год появляения мема. Поскольку столбец имеет NaN значения, а также значения с 'Unknown', отнесем все NaN к 'Unknown'."
   ]
  },
  {
   "cell_type": "code",
   "execution_count": 15,
   "metadata": {
    "inputHidden": false,
    "outputHidden": false
   },
   "outputs": [
    {
     "data": {
      "text/plain": [
       "count    21974.000000\n",
       "mean      2008.876536\n",
       "std         31.168080\n",
       "min       1000.000000\n",
       "25%       2009.000000\n",
       "50%       2012.000000\n",
       "75%       2016.000000\n",
       "max       2916.000000\n",
       "Name: year, dtype: float64"
      ]
     },
     "execution_count": 15,
     "metadata": {},
     "output_type": "execute_result"
    }
   ],
   "source": [
    "memes.year.fillna('Unknown', inplace=True)\n",
    "years = memes.year[memes.year.str.isdigit()].map(int)\n",
    "years.describe()"
   ]
  },
  {
   "cell_type": "markdown",
   "metadata": {},
   "source": [
    "Самый старый мем датируется 1000ым годом. А самый \"новый\" мем - 2916. Что, очевидно, является опечаткой. Построим гистограмму, которая покажет все мемы этого века."
   ]
  },
  {
   "cell_type": "code",
   "execution_count": 16,
   "metadata": {
    "inputHidden": false,
    "outputHidden": false
   },
   "outputs": [
    {
     "data": {
      "image/png": "[encoded data removed]",
      "text/plain": [
       "<Figure size 432x288 with 1 Axes>"
      ]
     },
     "metadata": {
      "needs_background": "light"
     },
     "output_type": "display_data"
    }
   ],
   "source": [
    "limited = years[(years < 2020) & (years >= 2000)].value_counts()\n",
    "limited.sort_index().plot(kind='bar', title='Memes origin year')\n",
    "plt.ylabel('Quantity')\n",
    "plt.show()"
   ]
  },
  {
   "cell_type": "markdown",
   "metadata": {},
   "source": [
    "# Работа с тэгами\n",
    "Напишем функцию, которая будет принимать датафрейм и тэг (или список тэгов) и будет возвращать датафрейм, содержащий только те записи, которые включают в себя указанные тэги."
   ]
  },
  {
   "cell_type": "code",
   "execution_count": 17,
   "metadata": {
    "inputHidden": false,
    "outputHidden": false
   },
   "outputs": [],
   "source": [
    "def find_tagged(df, tags):\n",
    "    if type(tags) == str:\n",
    "        df = df[df['tags'].str.contains(tags)]\n",
    "        return df\n",
    "    else:\n",
    "        for tag in tags:\n",
    "            df = find_tagged(df, tag)\n",
    "        return df"
   ]
  },
  {
   "cell_type": "markdown",
   "metadata": {},
   "source": [
    "Попробуем найти все мемы с собаками"
   ]
  },
  {
   "cell_type": "code",
   "execution_count": 18,
   "metadata": {
    "inputHidden": false,
    "outputHidden": false
   },
   "outputs": [
    {
     "data": {
      "text/html": [
       "<div>\n",
       "<style scoped>\n",
       "    .dataframe tbody tr th:only-of-type {\n",
       "        vertical-align: middle;\n",
       "    }\n",
       "\n",
       "    .dataframe tbody tr th {\n",
       "        vertical-align: top;\n",
       "    }\n",
       "\n",
       "    .dataframe thead th {\n",
       "        text-align: right;\n",
       "    }\n",
       "</style>\n",
       "<table border=\"1\" class=\"dataframe\">\n",
       "  <thead>\n",
       "    <tr style=\"text-align: right;\">\n",
       "      <th></th>\n",
       "      <th>name</th>\n",
       "      <th>category</th>\n",
       "      <th>status</th>\n",
       "      <th>year</th>\n",
       "      <th>updated</th>\n",
       "      <th>views</th>\n",
       "      <th>videos</th>\n",
       "      <th>photos</th>\n",
       "      <th>comments</th>\n",
       "      <th>tags</th>\n",
       "      <th>type</th>\n",
       "      <th>about</th>\n",
       "      <th>history</th>\n",
       "      <th>other</th>\n",
       "      <th>origin</th>\n",
       "      <th>picture</th>\n",
       "      <th>scraped_at</th>\n",
       "    </tr>\n",
       "    <tr>\n",
       "      <th>added</th>\n",
       "      <th></th>\n",
       "      <th></th>\n",
       "      <th></th>\n",
       "      <th></th>\n",
       "      <th></th>\n",
       "      <th></th>\n",
       "      <th></th>\n",
       "      <th></th>\n",
       "      <th></th>\n",
       "      <th></th>\n",
       "      <th></th>\n",
       "      <th></th>\n",
       "      <th></th>\n",
       "      <th></th>\n",
       "      <th></th>\n",
       "      <th></th>\n",
       "      <th></th>\n",
       "    </tr>\n",
       "  </thead>\n",
       "  <tbody>\n",
       "    <tr>\n",
       "      <th>2019-12-30 16:43:17</th>\n",
       "      <td>Dogwifhat</td>\n",
       "      <td>meme</td>\n",
       "      <td>submission</td>\n",
       "      <td>2019</td>\n",
       "      <td>2020-01-01 19:21:45+00:00</td>\n",
       "      <td>7973</td>\n",
       "      <td>0</td>\n",
       "      <td>30</td>\n",
       "      <td>8</td>\n",
       "      <td>esports, beanie, hat, dog, profile picture, ro...</td>\n",
       "      <td></td>\n",
       "      <td>Dogwifhat refers to a photograph of a Shiba In...</td>\n",
       "      <td>On November 6th, 2019, professional Fortnite p...</td>\n",
       "      <td>Between November 20th and December 6th, a numb...</td>\n",
       "      <td>twitter</td>\n",
       "      <td>https://i.kym-cdn.com/entries/icons/original/0...</td>\n",
       "      <td>2020-01-03 04:24:28.495024+00:00</td>\n",
       "    </tr>\n",
       "    <tr>\n",
       "      <th>2019-12-27 21:38:21</th>\n",
       "      <td>Ok, So Basically Im Very Smol</td>\n",
       "      <td>meme</td>\n",
       "      <td>submission</td>\n",
       "      <td>2015</td>\n",
       "      <td>2019-12-28 16:42:43+00:00</td>\n",
       "      <td>5730</td>\n",
       "      <td>0</td>\n",
       "      <td>24</td>\n",
       "      <td>4</td>\n",
       "      <td>little, dog, puppy, pupper, interview, news, a...</td>\n",
       "      <td>image macro</td>\n",
       "      <td></td>\n",
       "      <td>On August 10th, 2015, the Tumblr[1] account go...</td>\n",
       "      <td>Less than one month later, on September 3rd, T...</td>\n",
       "      <td>tumblr</td>\n",
       "      <td>https://i.kym-cdn.com/entries/icons/original/0...</td>\n",
       "      <td>2020-01-03 04:25:01.263050+00:00</td>\n",
       "    </tr>\n",
       "    <tr>\n",
       "      <th>2019-12-17 15:57:24</th>\n",
       "      <td>Cat Looking at Man Holding Dog</td>\n",
       "      <td>meme</td>\n",
       "      <td>submission</td>\n",
       "      <td>2019</td>\n",
       "      <td>2019-12-19 11:25:45+00:00</td>\n",
       "      <td>3477</td>\n",
       "      <td>0</td>\n",
       "      <td>25</td>\n",
       "      <td>2</td>\n",
       "      <td>jealous cat, sad cat, heartbroken cat, man hol...</td>\n",
       "      <td>exploitable</td>\n",
       "      <td>Cat Looking at Man Holding Dog or Jealous Cat ...</td>\n",
       "      <td>On August 17th, 2019, Redditor[1] angiexxn pos...</td>\n",
       "      <td>On September 22nd, 2019, Redditor[7] Jforcetea...</td>\n",
       "      <td>reddit</td>\n",
       "      <td>https://i.kym-cdn.com/entries/icons/original/0...</td>\n",
       "      <td>2020-01-03 04:28:47.989035+00:00</td>\n",
       "    </tr>\n",
       "    <tr>\n",
       "      <th>2019-12-06 14:23:47</th>\n",
       "      <td>I Lied to You, Take Off Your Clothes / There I...</td>\n",
       "      <td>meme</td>\n",
       "      <td>submission</td>\n",
       "      <td>2019</td>\n",
       "      <td>2019-12-08 09:08:55+00:00</td>\n",
       "      <td>16801</td>\n",
       "      <td>0</td>\n",
       "      <td>22</td>\n",
       "      <td>16</td>\n",
       "      <td>doge, barack obama, there is no meme, i lied t...</td>\n",
       "      <td>image macro</td>\n",
       "      <td>I Lied to You, Take Off Your Clothes refers to...</td>\n",
       "      <td>The exact origin of the meme is unknown. The e...</td>\n",
       "      <td>In the following days, the image has been wide...</td>\n",
       "      <td>unknown</td>\n",
       "      <td>https://i.kym-cdn.com/entries/icons/original/0...</td>\n",
       "      <td>2020-01-03 04:32:30.627018+00:00</td>\n",
       "    </tr>\n",
       "    <tr>\n",
       "      <th>2019-12-02 16:38:39</th>\n",
       "      <td>Cheems</td>\n",
       "      <td>meme</td>\n",
       "      <td>submission</td>\n",
       "      <td>2019</td>\n",
       "      <td>2019-12-18 15:50:15+00:00</td>\n",
       "      <td>19866</td>\n",
       "      <td>2</td>\n",
       "      <td>24</td>\n",
       "      <td>10</td>\n",
       "      <td>ironic, doge, cheemsburger, octatracking, fede...</td>\n",
       "      <td>character</td>\n",
       "      <td>Cheems is an Ironic Doge character popular on ...</td>\n",
       "      <td>On August 8th, 2019, Redditor Octatracking pos...</td>\n",
       "      <td>Over the following months, the character and i...</td>\n",
       "      <td>reddit</td>\n",
       "      <td>https://i.kym-cdn.com/entries/icons/original/0...</td>\n",
       "      <td>2020-01-03 04:34:29.794579+00:00</td>\n",
       "    </tr>\n",
       "  </tbody>\n",
       "</table>\n",
       "</div>"
      ],
      "text/plain": [
       "                                                                  name  \\\n",
       "added                                                                    \n",
       "2019-12-30 16:43:17                                          Dogwifhat   \n",
       "2019-12-27 21:38:21                      Ok, So Basically Im Very Smol   \n",
       "2019-12-17 15:57:24                     Cat Looking at Man Holding Dog   \n",
       "2019-12-06 14:23:47  I Lied to You, Take Off Your Clothes / There I...   \n",
       "2019-12-02 16:38:39                                             Cheems   \n",
       "\n",
       "                    category      status  year                   updated  \\\n",
       "added                                                                      \n",
       "2019-12-30 16:43:17     meme  submission  2019 2020-01-01 19:21:45+00:00   \n",
       "2019-12-27 21:38:21     meme  submission  2015 2019-12-28 16:42:43+00:00   \n",
       "2019-12-17 15:57:24     meme  submission  2019 2019-12-19 11:25:45+00:00   \n",
       "2019-12-06 14:23:47     meme  submission  2019 2019-12-08 09:08:55+00:00   \n",
       "2019-12-02 16:38:39     meme  submission  2019 2019-12-18 15:50:15+00:00   \n",
       "\n",
       "                     views  videos  photos  comments  \\\n",
       "added                                                  \n",
       "2019-12-30 16:43:17   7973       0      30         8   \n",
       "2019-12-27 21:38:21   5730       0      24         4   \n",
       "2019-12-17 15:57:24   3477       0      25         2   \n",
       "2019-12-06 14:23:47  16801       0      22        16   \n",
       "2019-12-02 16:38:39  19866       2      24        10   \n",
       "\n",
       "                                                                  tags  \\\n",
       "added                                                                    \n",
       "2019-12-30 16:43:17  esports, beanie, hat, dog, profile picture, ro...   \n",
       "2019-12-27 21:38:21  little, dog, puppy, pupper, interview, news, a...   \n",
       "2019-12-17 15:57:24  jealous cat, sad cat, heartbroken cat, man hol...   \n",
       "2019-12-06 14:23:47  doge, barack obama, there is no meme, i lied t...   \n",
       "2019-12-02 16:38:39  ironic, doge, cheemsburger, octatracking, fede...   \n",
       "\n",
       "                            type  \\\n",
       "added                              \n",
       "2019-12-30 16:43:17                \n",
       "2019-12-27 21:38:21  image macro   \n",
       "2019-12-17 15:57:24  exploitable   \n",
       "2019-12-06 14:23:47  image macro   \n",
       "2019-12-02 16:38:39    character   \n",
       "\n",
       "                                                                 about  \\\n",
       "added                                                                    \n",
       "2019-12-30 16:43:17  Dogwifhat refers to a photograph of a Shiba In...   \n",
       "2019-12-27 21:38:21                                                      \n",
       "2019-12-17 15:57:24  Cat Looking at Man Holding Dog or Jealous Cat ...   \n",
       "2019-12-06 14:23:47  I Lied to You, Take Off Your Clothes refers to...   \n",
       "2019-12-02 16:38:39  Cheems is an Ironic Doge character popular on ...   \n",
       "\n",
       "                                                               history  \\\n",
       "added                                                                    \n",
       "2019-12-30 16:43:17  On November 6th, 2019, professional Fortnite p...   \n",
       "2019-12-27 21:38:21  On August 10th, 2015, the Tumblr[1] account go...   \n",
       "2019-12-17 15:57:24  On August 17th, 2019, Redditor[1] angiexxn pos...   \n",
       "2019-12-06 14:23:47  The exact origin of the meme is unknown. The e...   \n",
       "2019-12-02 16:38:39  On August 8th, 2019, Redditor Octatracking pos...   \n",
       "\n",
       "                                                                 other  \\\n",
       "added                                                                    \n",
       "2019-12-30 16:43:17  Between November 20th and December 6th, a numb...   \n",
       "2019-12-27 21:38:21  Less than one month later, on September 3rd, T...   \n",
       "2019-12-17 15:57:24  On September 22nd, 2019, Redditor[7] Jforcetea...   \n",
       "2019-12-06 14:23:47  In the following days, the image has been wide...   \n",
       "2019-12-02 16:38:39  Over the following months, the character and i...   \n",
       "\n",
       "                      origin  \\\n",
       "added                          \n",
       "2019-12-30 16:43:17  twitter   \n",
       "2019-12-27 21:38:21   tumblr   \n",
       "2019-12-17 15:57:24   reddit   \n",
       "2019-12-06 14:23:47  unknown   \n",
       "2019-12-02 16:38:39   reddit   \n",
       "\n",
       "                                                               picture  \\\n",
       "added                                                                    \n",
       "2019-12-30 16:43:17  https://i.kym-cdn.com/entries/icons/original/0...   \n",
       "2019-12-27 21:38:21  https://i.kym-cdn.com/entries/icons/original/0...   \n",
       "2019-12-17 15:57:24  https://i.kym-cdn.com/entries/icons/original/0...   \n",
       "2019-12-06 14:23:47  https://i.kym-cdn.com/entries/icons/original/0...   \n",
       "2019-12-02 16:38:39  https://i.kym-cdn.com/entries/icons/original/0...   \n",
       "\n",
       "                                          scraped_at  \n",
       "added                                                 \n",
       "2019-12-30 16:43:17 2020-01-03 04:24:28.495024+00:00  \n",
       "2019-12-27 21:38:21 2020-01-03 04:25:01.263050+00:00  \n",
       "2019-12-17 15:57:24 2020-01-03 04:28:47.989035+00:00  \n",
       "2019-12-06 14:23:47 2020-01-03 04:32:30.627018+00:00  \n",
       "2019-12-02 16:38:39 2020-01-03 04:34:29.794579+00:00  "
      ]
     },
     "execution_count": 18,
     "metadata": {},
     "output_type": "execute_result"
    }
   ],
   "source": [
    "dog = find_tagged(memes, ['dog'])\n",
    "dog = dog[dog.category=='meme']\n",
    "dog.head()"
   ]
  },
  {
   "cell_type": "markdown",
   "metadata": {},
   "source": [
    "Теперь можно посмотреть, откуда у этих мемов \"лапы растут\". Построим гистограмму по столбцу ```origin```"
   ]
  },
  {
   "cell_type": "code",
   "execution_count": 19,
   "metadata": {
    "inputHidden": false,
    "outputHidden": false
   },
   "outputs": [
    {
     "data": {
      "image/png": "[encoded data removed]",
      "text/plain": [
       "<Figure size 432x288 with 1 Axes>"
      ]
     },
     "metadata": {
      "needs_background": "light"
     },
     "output_type": "display_data"
    }
   ],
   "source": [
    "dogs_origin = dog.origin.value_counts().head(10)\n",
    "dogs_origin.plot(kind='barh', title='Dog memes origin')\n",
    "plt.show()"
   ]
  },
  {
   "cell_type": "code",
   "execution_count": 20,
   "metadata": {
    "inputHidden": false,
    "outputHidden": false
   },
   "outputs": [
    {
     "data": {
      "image/png": "[encoded data removed]",
      "text/plain": [
       "<Figure size 432x288 with 1 Axes>"
      ]
     },
     "metadata": {
      "needs_background": "light"
     },
     "output_type": "display_data"
    }
   ],
   "source": [
    "dog.resample('M').sum().views.plot(title='Dog memes views')\n",
    "plt.xlabel('Date added')\n",
    "plt.ylabel('Views')\n",
    "plt.show()"
   ]
  },
  {
   "cell_type": "markdown",
   "metadata": {},
   "source": [
    "Судя по дате этого скачка, я (а, наверное, и вы) практически уверен в том, какой мем собрал столько просмотров. Давайте проверим."
   ]
  },
  {
   "cell_type": "code",
   "execution_count": 21,
   "metadata": {
    "inputHidden": false,
    "outputHidden": false
   },
   "outputs": [
    {
     "data": {
      "text/html": [
       "<div>\n",
       "<style scoped>\n",
       "    .dataframe tbody tr th:only-of-type {\n",
       "        vertical-align: middle;\n",
       "    }\n",
       "\n",
       "    .dataframe tbody tr th {\n",
       "        vertical-align: top;\n",
       "    }\n",
       "\n",
       "    .dataframe thead th {\n",
       "        text-align: right;\n",
       "    }\n",
       "</style>\n",
       "<table border=\"1\" class=\"dataframe\">\n",
       "  <thead>\n",
       "    <tr style=\"text-align: right;\">\n",
       "      <th></th>\n",
       "      <th>name</th>\n",
       "      <th>category</th>\n",
       "      <th>status</th>\n",
       "      <th>year</th>\n",
       "      <th>updated</th>\n",
       "      <th>views</th>\n",
       "      <th>videos</th>\n",
       "      <th>photos</th>\n",
       "      <th>comments</th>\n",
       "      <th>tags</th>\n",
       "      <th>type</th>\n",
       "      <th>about</th>\n",
       "      <th>history</th>\n",
       "      <th>other</th>\n",
       "      <th>origin</th>\n",
       "      <th>picture</th>\n",
       "      <th>scraped_at</th>\n",
       "    </tr>\n",
       "    <tr>\n",
       "      <th>added</th>\n",
       "      <th></th>\n",
       "      <th></th>\n",
       "      <th></th>\n",
       "      <th></th>\n",
       "      <th></th>\n",
       "      <th></th>\n",
       "      <th></th>\n",
       "      <th></th>\n",
       "      <th></th>\n",
       "      <th></th>\n",
       "      <th></th>\n",
       "      <th></th>\n",
       "      <th></th>\n",
       "      <th></th>\n",
       "      <th></th>\n",
       "      <th></th>\n",
       "      <th></th>\n",
       "    </tr>\n",
       "  </thead>\n",
       "  <tbody>\n",
       "    <tr>\n",
       "      <th>2013-07-24 20:29:55</th>\n",
       "      <td>Doge</td>\n",
       "      <td>meme</td>\n",
       "      <td>confirmed</td>\n",
       "      <td>2013</td>\n",
       "      <td>2019-12-06 13:30:40+00:00</td>\n",
       "      <td>13122848</td>\n",
       "      <td>62</td>\n",
       "      <td>1666</td>\n",
       "      <td>918</td>\n",
       "      <td>animal, dog, shiba inu, shibe, such doge, supe...</td>\n",
       "      <td>animal</td>\n",
       "      <td>Doge is a slang term for \"dog\" that is primari...</td>\n",
       "      <td>The use of the misspelled word \"doge\" to refer...</td>\n",
       "      <td>On October 28th, 2010, a photo of Kabosu was s...</td>\n",
       "      <td>tumblr</td>\n",
       "      <td>https://i.kym-cdn.com/entries/icons/original/0...</td>\n",
       "      <td>2020-01-03 15:35:40.232899+00:00</td>\n",
       "    </tr>\n",
       "  </tbody>\n",
       "</table>\n",
       "</div>"
      ],
      "text/plain": [
       "                     name category     status  year                   updated  \\\n",
       "added                                                                           \n",
       "2013-07-24 20:29:55  Doge     meme  confirmed  2013 2019-12-06 13:30:40+00:00   \n",
       "\n",
       "                        views  videos  photos  comments  \\\n",
       "added                                                     \n",
       "2013-07-24 20:29:55  13122848      62    1666       918   \n",
       "\n",
       "                                                                  tags  \\\n",
       "added                                                                    \n",
       "2013-07-24 20:29:55  animal, dog, shiba inu, shibe, such doge, supe...   \n",
       "\n",
       "                       type  \\\n",
       "added                         \n",
       "2013-07-24 20:29:55  animal   \n",
       "\n",
       "                                                                 about  \\\n",
       "added                                                                    \n",
       "2013-07-24 20:29:55  Doge is a slang term for \"dog\" that is primari...   \n",
       "\n",
       "                                                               history  \\\n",
       "added                                                                    \n",
       "2013-07-24 20:29:55  The use of the misspelled word \"doge\" to refer...   \n",
       "\n",
       "                                                                 other  \\\n",
       "added                                                                    \n",
       "2013-07-24 20:29:55  On October 28th, 2010, a photo of Kabosu was s...   \n",
       "\n",
       "                     origin  \\\n",
       "added                         \n",
       "2013-07-24 20:29:55  tumblr   \n",
       "\n",
       "                                                               picture  \\\n",
       "added                                                                    \n",
       "2013-07-24 20:29:55  https://i.kym-cdn.com/entries/icons/original/0...   \n",
       "\n",
       "                                          scraped_at  \n",
       "added                                                 \n",
       "2013-07-24 20:29:55 2020-01-03 15:35:40.232899+00:00  "
      ]
     },
     "execution_count": 21,
     "metadata": {},
     "output_type": "execute_result"
    }
   ],
   "source": [
    "dog.sort_values('views', ascending=False).head(1)"
   ]
  },
  {
   "cell_type": "markdown",
   "metadata": {},
   "source": [
    "Конечно же doge!\n",
    "![doge](https://static1.fjcdn.com/comments/+_c850d7c5c3b027bc5479c1576b41bdee.png)"
   ]
  },
  {
   "cell_type": "markdown",
   "metadata": {},
   "source": [
    "# Популярность\n",
    "Добавим новый столбец ```popularity```. Популярностью будем считать количество просмотров в день за промежуток между моментом, когда страница была спарсена, и моментов добавления мема.  \n",
    "Посмотрим на самые популярные мемы"
   ]
  },
  {
   "cell_type": "code",
   "execution_count": 22,
   "metadata": {
    "inputHidden": false,
    "outputHidden": false
   },
   "outputs": [
    {
     "data": {
      "text/html": [
       "<div>\n",
       "<style scoped>\n",
       "    .dataframe tbody tr th:only-of-type {\n",
       "        vertical-align: middle;\n",
       "    }\n",
       "\n",
       "    .dataframe tbody tr th {\n",
       "        vertical-align: top;\n",
       "    }\n",
       "\n",
       "    .dataframe thead th {\n",
       "        text-align: right;\n",
       "    }\n",
       "</style>\n",
       "<table border=\"1\" class=\"dataframe\">\n",
       "  <thead>\n",
       "    <tr style=\"text-align: right;\">\n",
       "      <th></th>\n",
       "      <th>name</th>\n",
       "      <th>category</th>\n",
       "      <th>status</th>\n",
       "      <th>year</th>\n",
       "      <th>updated</th>\n",
       "      <th>views</th>\n",
       "      <th>videos</th>\n",
       "      <th>photos</th>\n",
       "      <th>comments</th>\n",
       "      <th>tags</th>\n",
       "      <th>type</th>\n",
       "      <th>about</th>\n",
       "      <th>history</th>\n",
       "      <th>other</th>\n",
       "      <th>origin</th>\n",
       "      <th>picture</th>\n",
       "      <th>scraped_at</th>\n",
       "      <th>popularity</th>\n",
       "    </tr>\n",
       "    <tr>\n",
       "      <th>added</th>\n",
       "      <th></th>\n",
       "      <th></th>\n",
       "      <th></th>\n",
       "      <th></th>\n",
       "      <th></th>\n",
       "      <th></th>\n",
       "      <th></th>\n",
       "      <th></th>\n",
       "      <th></th>\n",
       "      <th></th>\n",
       "      <th></th>\n",
       "      <th></th>\n",
       "      <th></th>\n",
       "      <th></th>\n",
       "      <th></th>\n",
       "      <th></th>\n",
       "      <th></th>\n",
       "      <th></th>\n",
       "    </tr>\n",
       "  </thead>\n",
       "  <tbody>\n",
       "    <tr>\n",
       "      <th>2020-01-02 15:38:12</th>\n",
       "      <td>New Guy</td>\n",
       "      <td>meme</td>\n",
       "      <td>submission</td>\n",
       "      <td>2019</td>\n",
       "      <td>2020-01-02 18:43:57+00:00</td>\n",
       "      <td>33010</td>\n",
       "      <td>1</td>\n",
       "      <td>53</td>\n",
       "      <td>151</td>\n",
       "      <td>sweetbeans99, pewdiepie, comic, fan art</td>\n",
       "      <td>character</td>\n",
       "      <td>New Guy refers to a character in a comic strip...</td>\n",
       "      <td>On December 2nd, 2019, PewDiePie's home with M...</td>\n",
       "      <td>The comic began spreading on Twitter in late 2...</td>\n",
       "      <td>sweetbeans99</td>\n",
       "      <td>https://i.kym-cdn.com/entries/icons/original/0...</td>\n",
       "      <td>2020-01-03 04:24:01.660595+00:00</td>\n",
       "      <td>33010.000000</td>\n",
       "    </tr>\n",
       "    <tr>\n",
       "      <th>2019-06-20 15:14:05</th>\n",
       "      <td>Woman Yelling at a Cat</td>\n",
       "      <td>meme</td>\n",
       "      <td>confirmed</td>\n",
       "      <td>2019</td>\n",
       "      <td>2019-11-24 07:06:55+00:00</td>\n",
       "      <td>3978969</td>\n",
       "      <td>22</td>\n",
       "      <td>382</td>\n",
       "      <td>34</td>\n",
       "      <td>cat, food, dinner, chair, the real housewives ...</td>\n",
       "      <td>exploitable</td>\n",
       "      <td>Woman Yelling at a Cat refers to a meme format...</td>\n",
       "      <td>On December 5th, 2011, episode 14 \"Malibu Beac...</td>\n",
       "      <td>On May 2nd, Twitter user @lc28__ made the firs...</td>\n",
       "      <td>twitter</td>\n",
       "      <td>https://i.kym-cdn.com/entries/icons/original/0...</td>\n",
       "      <td>2020-01-03 05:45:51.033742+00:00</td>\n",
       "      <td>20300.862245</td>\n",
       "    </tr>\n",
       "    <tr>\n",
       "      <th>2019-12-23 18:23:05</th>\n",
       "      <td>Billie Eilish's 18th Birthday</td>\n",
       "      <td>event</td>\n",
       "      <td>submission</td>\n",
       "      <td>2019</td>\n",
       "      <td>2019-12-25 09:16:01+00:00</td>\n",
       "      <td>197140</td>\n",
       "      <td>0</td>\n",
       "      <td>5</td>\n",
       "      <td>72</td>\n",
       "      <td>drake, creeps, legal, teen, ssinamonspice, ogm...</td>\n",
       "      <td></td>\n",
       "      <td>Billie Eilish's 18th Birthday refers to Americ...</td>\n",
       "      <td></td>\n",
       "      <td></td>\n",
       "      <td>unknown</td>\n",
       "      <td>https://i.kym-cdn.com/entries/icons/original/0...</td>\n",
       "      <td>2020-01-03 04:26:30.193435+00:00</td>\n",
       "      <td>19714.000000</td>\n",
       "    </tr>\n",
       "    <tr>\n",
       "      <th>2019-10-22 15:23:09</th>\n",
       "      <td>Video 1444</td>\n",
       "      <td>meme</td>\n",
       "      <td>submission</td>\n",
       "      <td>2019</td>\n",
       "      <td>2019-12-18 14:31:38+00:00</td>\n",
       "      <td>988801</td>\n",
       "      <td>0</td>\n",
       "      <td>31</td>\n",
       "      <td>144</td>\n",
       "      <td>suicide, carbine, ня пока, gleb korablev, shot...</td>\n",
       "      <td>creepypasta</td>\n",
       "      <td>Video 1444, also known simply as 1444, refers ...</td>\n",
       "      <td>On October 17th, 2019, Russian VK user Gleb Ko...</td>\n",
       "      <td>On the same day, the suicide footage was poste...</td>\n",
       "      <td>vk</td>\n",
       "      <td>https://i.kym-cdn.com/entries/icons/original/0...</td>\n",
       "      <td>2020-01-03 04:52:50.539145+00:00</td>\n",
       "      <td>13733.347222</td>\n",
       "    </tr>\n",
       "    <tr>\n",
       "      <th>2019-11-22 12:19:48</th>\n",
       "      <td>spritecranberry.net</td>\n",
       "      <td>meme</td>\n",
       "      <td>submission</td>\n",
       "      <td>2019</td>\n",
       "      <td>2019-12-25 09:29:54+00:00</td>\n",
       "      <td>398302</td>\n",
       "      <td>0</td>\n",
       "      <td>11</td>\n",
       "      <td>52</td>\n",
       "      <td>sprite cranberry, dog, anus, glands, finger, v...</td>\n",
       "      <td>hoax</td>\n",
       "      <td>spritecranberry.net is a shock site that refer...</td>\n",
       "      <td>On November 1st, 2019, an unknown user registe...</td>\n",
       "      <td>On November 2nd, 2019, Redditor macnoah6996 po...</td>\n",
       "      <td>unknown</td>\n",
       "      <td>https://i.kym-cdn.com/entries/icons/original/0...</td>\n",
       "      <td>2020-01-03 04:38:32.848980+00:00</td>\n",
       "      <td>9714.682927</td>\n",
       "    </tr>\n",
       "  </tbody>\n",
       "</table>\n",
       "</div>"
      ],
      "text/plain": [
       "                                              name category      status  year  \\\n",
       "added                                                                           \n",
       "2020-01-02 15:38:12                        New Guy     meme  submission  2019   \n",
       "2019-06-20 15:14:05         Woman Yelling at a Cat     meme   confirmed  2019   \n",
       "2019-12-23 18:23:05  Billie Eilish's 18th Birthday    event  submission  2019   \n",
       "2019-10-22 15:23:09                     Video 1444     meme  submission  2019   \n",
       "2019-11-22 12:19:48            spritecranberry.net     meme  submission  2019   \n",
       "\n",
       "                                      updated    views  videos  photos  \\\n",
       "added                                                                    \n",
       "2020-01-02 15:38:12 2020-01-02 18:43:57+00:00    33010       1      53   \n",
       "2019-06-20 15:14:05 2019-11-24 07:06:55+00:00  3978969      22     382   \n",
       "2019-12-23 18:23:05 2019-12-25 09:16:01+00:00   197140       0       5   \n",
       "2019-10-22 15:23:09 2019-12-18 14:31:38+00:00   988801       0      31   \n",
       "2019-11-22 12:19:48 2019-12-25 09:29:54+00:00   398302       0      11   \n",
       "\n",
       "                     comments  \\\n",
       "added                           \n",
       "2020-01-02 15:38:12       151   \n",
       "2019-06-20 15:14:05        34   \n",
       "2019-12-23 18:23:05        72   \n",
       "2019-10-22 15:23:09       144   \n",
       "2019-11-22 12:19:48        52   \n",
       "\n",
       "                                                                  tags  \\\n",
       "added                                                                    \n",
       "2020-01-02 15:38:12            sweetbeans99, pewdiepie, comic, fan art   \n",
       "2019-06-20 15:14:05  cat, food, dinner, chair, the real housewives ...   \n",
       "2019-12-23 18:23:05  drake, creeps, legal, teen, ssinamonspice, ogm...   \n",
       "2019-10-22 15:23:09  suicide, carbine, ня пока, gleb korablev, shot...   \n",
       "2019-11-22 12:19:48  sprite cranberry, dog, anus, glands, finger, v...   \n",
       "\n",
       "                            type  \\\n",
       "added                              \n",
       "2020-01-02 15:38:12    character   \n",
       "2019-06-20 15:14:05  exploitable   \n",
       "2019-12-23 18:23:05                \n",
       "2019-10-22 15:23:09  creepypasta   \n",
       "2019-11-22 12:19:48         hoax   \n",
       "\n",
       "                                                                 about  \\\n",
       "added                                                                    \n",
       "2020-01-02 15:38:12  New Guy refers to a character in a comic strip...   \n",
       "2019-06-20 15:14:05  Woman Yelling at a Cat refers to a meme format...   \n",
       "2019-12-23 18:23:05  Billie Eilish's 18th Birthday refers to Americ...   \n",
       "2019-10-22 15:23:09  Video 1444, also known simply as 1444, refers ...   \n",
       "2019-11-22 12:19:48  spritecranberry.net is a shock site that refer...   \n",
       "\n",
       "                                                               history  \\\n",
       "added                                                                    \n",
       "2020-01-02 15:38:12  On December 2nd, 2019, PewDiePie's home with M...   \n",
       "2019-06-20 15:14:05  On December 5th, 2011, episode 14 \"Malibu Beac...   \n",
       "2019-12-23 18:23:05                                                      \n",
       "2019-10-22 15:23:09  On October 17th, 2019, Russian VK user Gleb Ko...   \n",
       "2019-11-22 12:19:48  On November 1st, 2019, an unknown user registe...   \n",
       "\n",
       "                                                                 other  \\\n",
       "added                                                                    \n",
       "2020-01-02 15:38:12  The comic began spreading on Twitter in late 2...   \n",
       "2019-06-20 15:14:05  On May 2nd, Twitter user @lc28__ made the firs...   \n",
       "2019-12-23 18:23:05                                                      \n",
       "2019-10-22 15:23:09  On the same day, the suicide footage was poste...   \n",
       "2019-11-22 12:19:48  On November 2nd, 2019, Redditor macnoah6996 po...   \n",
       "\n",
       "                           origin  \\\n",
       "added                               \n",
       "2020-01-02 15:38:12  sweetbeans99   \n",
       "2019-06-20 15:14:05       twitter   \n",
       "2019-12-23 18:23:05       unknown   \n",
       "2019-10-22 15:23:09            vk   \n",
       "2019-11-22 12:19:48       unknown   \n",
       "\n",
       "                                                               picture  \\\n",
       "added                                                                    \n",
       "2020-01-02 15:38:12  https://i.kym-cdn.com/entries/icons/original/0...   \n",
       "2019-06-20 15:14:05  https://i.kym-cdn.com/entries/icons/original/0...   \n",
       "2019-12-23 18:23:05  https://i.kym-cdn.com/entries/icons/original/0...   \n",
       "2019-10-22 15:23:09  https://i.kym-cdn.com/entries/icons/original/0...   \n",
       "2019-11-22 12:19:48  https://i.kym-cdn.com/entries/icons/original/0...   \n",
       "\n",
       "                                          scraped_at    popularity  \n",
       "added                                                               \n",
       "2020-01-02 15:38:12 2020-01-03 04:24:01.660595+00:00  33010.000000  \n",
       "2019-06-20 15:14:05 2020-01-03 05:45:51.033742+00:00  20300.862245  \n",
       "2019-12-23 18:23:05 2020-01-03 04:26:30.193435+00:00  19714.000000  \n",
       "2019-10-22 15:23:09 2020-01-03 04:52:50.539145+00:00  13733.347222  \n",
       "2019-11-22 12:19:48 2020-01-03 04:38:32.848980+00:00   9714.682927  "
      ]
     },
     "execution_count": 22,
     "metadata": {},
     "output_type": "execute_result"
    }
   ],
   "source": [
    "memes['popularity'] = memes.scraped_at - memes.index.tz_localize('UTC')\n",
    "to_days = lambda x: x.days if x.days != 0 else 1\n",
    "memes['popularity'] = memes.popularity.map(to_days)\n",
    "memes['popularity'] = memes.views / memes.popularity\n",
    "most_popular = memes.sort_values('popularity', ascending=False).head(100)\n",
    "most_popular.head()"
   ]
  },
  {
   "cell_type": "markdown",
   "metadata": {},
   "source": [
    "Самым популярным оказался один из самых новых мемов. Меньше, чем за день он набрал 33000 просмотров. "
   ]
  },
  {
   "cell_type": "markdown",
   "metadata": {},
   "source": [
    "Построим гисторграмму самых частых тэгов среди сотни самых популярных мемов"
   ]
  },
  {
   "cell_type": "code",
   "execution_count": 23,
   "metadata": {
    "inputHidden": false,
    "outputHidden": false
   },
   "outputs": [
    {
     "data": {
      "image/png": "[encoded data removed]",
      "text/plain": [
       "<Figure size 432x288 with 1 Axes>"
      ]
     },
     "metadata": {
      "needs_background": "light"
     },
     "output_type": "display_data"
    }
   ],
   "source": [
    "popular_tags = most_popular.tags.map(lambda x: x.split(', ')).sum()\n",
    "popular_tags = pd.Series(popular_tags).value_counts()\n",
    "popular_tags.head(10).plot(kind='barh', title='Most frequent tags in popular memes')\n",
    "plt.show()"
   ]
  },
  {
   "cell_type": "markdown",
   "metadata": {},
   "source": [
    "Взглянем, какие тэги были самыми популярными за последние 11 лет."
   ]
  },
  {
   "cell_type": "code",
   "execution_count": 24,
   "metadata": {
    "inputHidden": false,
    "outputHidden": false
   },
   "outputs": [
    {
     "data": {
      "image/png": "[encoded data removed]",
      "text/plain": [
       "<Figure size 1080x720 with 12 Axes>"
      ]
     },
     "metadata": {
      "needs_background": "light"
     },
     "output_type": "display_data"
    }
   ],
   "source": [
    "year_tags = memes.resample('Y').tags.apply(lambda x: x.sum())\n",
    "year_tags = year_tags.map(lambda x: x.split(', '))\n",
    "year_tags = year_tags.map(lambda x: pd.Series(x).value_counts())\n",
    "years = year_tags.index.year\n",
    "\n",
    "fig, ax = plt.subplots(4, 3, figsize=(15, 10), sharex='col')\n",
    "st = fig.suptitle('Most frequent tags each year', fontsize=14)\n",
    "index = 0\n",
    "for i in range(4):\n",
    "    for j in range(3):\n",
    "        plottable = year_tags.iloc[index].head(5)\n",
    "        plottable.plot(kind='barh', title=years[index], ax=ax[i, j])\n",
    "        index += 1\n",
    "fig.tight_layout()\n",
    "st.set_y(0.95)\n",
    "fig.subplots_adjust(top=0.9)\n",
    "plt.show()"
   ]
  },
  {
   "cell_type": "code",
   "execution_count": 25,
   "metadata": {
    "inputHidden": false,
    "outputHidden": false
   },
   "outputs": [
    {
     "data": {
      "text/html": [
       "<div>\n",
       "<style scoped>\n",
       "    .dataframe tbody tr th:only-of-type {\n",
       "        vertical-align: middle;\n",
       "    }\n",
       "\n",
       "    .dataframe tbody tr th {\n",
       "        vertical-align: top;\n",
       "    }\n",
       "\n",
       "    .dataframe thead th {\n",
       "        text-align: right;\n",
       "    }\n",
       "</style>\n",
       "<table border=\"1\" class=\"dataframe\">\n",
       "  <thead>\n",
       "    <tr style=\"text-align: right;\">\n",
       "      <th></th>\n",
       "      <th>name</th>\n",
       "      <th>category</th>\n",
       "      <th>status</th>\n",
       "      <th>year</th>\n",
       "      <th>updated</th>\n",
       "      <th>views</th>\n",
       "      <th>videos</th>\n",
       "      <th>photos</th>\n",
       "      <th>comments</th>\n",
       "      <th>tags</th>\n",
       "      <th>type</th>\n",
       "      <th>about</th>\n",
       "      <th>history</th>\n",
       "      <th>other</th>\n",
       "      <th>origin</th>\n",
       "      <th>picture</th>\n",
       "      <th>scraped_at</th>\n",
       "      <th>popularity</th>\n",
       "    </tr>\n",
       "    <tr>\n",
       "      <th>added</th>\n",
       "      <th></th>\n",
       "      <th></th>\n",
       "      <th></th>\n",
       "      <th></th>\n",
       "      <th></th>\n",
       "      <th></th>\n",
       "      <th></th>\n",
       "      <th></th>\n",
       "      <th></th>\n",
       "      <th></th>\n",
       "      <th></th>\n",
       "      <th></th>\n",
       "      <th></th>\n",
       "      <th></th>\n",
       "      <th></th>\n",
       "      <th></th>\n",
       "      <th></th>\n",
       "      <th></th>\n",
       "    </tr>\n",
       "  </thead>\n",
       "  <tbody>\n",
       "    <tr>\n",
       "      <th>2012-10-12 08:37:07</th>\n",
       "      <td>BP Oil Spill</td>\n",
       "      <td>event</td>\n",
       "      <td>confirmed</td>\n",
       "      <td>2010</td>\n",
       "      <td>2015-06-26 03:27:15+00:00</td>\n",
       "      <td>8019</td>\n",
       "      <td>12</td>\n",
       "      <td>86</td>\n",
       "      <td>11</td>\n",
       "      <td>2010, british petroleum, gulf of mexico, oil s...</td>\n",
       "      <td>disaster</td>\n",
       "      <td></td>\n",
       "      <td></td>\n",
       "      <td></td>\n",
       "      <td>gulf of mexico oil spill</td>\n",
       "      <td>https://i.kym-cdn.com/entries/icons/original/0...</td>\n",
       "      <td>2020-01-03 16:40:58.338502+00:00</td>\n",
       "      <td>3.038651</td>\n",
       "    </tr>\n",
       "    <tr>\n",
       "      <th>2009-09-04 02:40:01</th>\n",
       "      <td>Extended Cut YTMNDs</td>\n",
       "      <td>meme</td>\n",
       "      <td>confirmed</td>\n",
       "      <td>2006</td>\n",
       "      <td>2010-06-24 20:11:03+00:00</td>\n",
       "      <td>8116</td>\n",
       "      <td>0</td>\n",
       "      <td>2</td>\n",
       "      <td>7</td>\n",
       "      <td>forced meme, ytmnd</td>\n",
       "      <td></td>\n",
       "      <td>The Extended Cut YTMND meme consists of YTMNDs...</td>\n",
       "      <td></td>\n",
       "      <td></td>\n",
       "      <td>ytmnd</td>\n",
       "      <td>https://i.kym-cdn.com/entries/icons/original/0...</td>\n",
       "      <td>2020-01-03 22:36:55.867623+00:00</td>\n",
       "      <td>2.151073</td>\n",
       "    </tr>\n",
       "    <tr>\n",
       "      <th>2014-08-15 21:10:15</th>\n",
       "      <td>Downton Abbey</td>\n",
       "      <td>subculture</td>\n",
       "      <td>confirmed</td>\n",
       "      <td>2010</td>\n",
       "      <td>2019-10-15 08:26:56+00:00</td>\n",
       "      <td>9755</td>\n",
       "      <td>11</td>\n",
       "      <td>19</td>\n",
       "      <td>16</td>\n",
       "      <td>bbc, tv show, period drama</td>\n",
       "      <td>tv show</td>\n",
       "      <td>Downton Abbey is a British historical period T...</td>\n",
       "      <td>Downton Abbey was conceived by British TV exec...</td>\n",
       "      <td>Throughout its run, Downton Abbey became a hug...</td>\n",
       "      <td>unknown</td>\n",
       "      <td>https://i.kym-cdn.com/entries/icons/original/0...</td>\n",
       "      <td>2020-01-03 14:11:07.749434+00:00</td>\n",
       "      <td>4.961851</td>\n",
       "    </tr>\n",
       "    <tr>\n",
       "      <th>2014-06-17 22:53:52</th>\n",
       "      <td>GO! GO! MANIAC</td>\n",
       "      <td>meme</td>\n",
       "      <td>confirmed</td>\n",
       "      <td>2010</td>\n",
       "      <td>2017-04-18 12:43:08+00:00</td>\n",
       "      <td>9894</td>\n",
       "      <td>4</td>\n",
       "      <td>1</td>\n",
       "      <td>6</td>\n",
       "      <td>youtube, japan, anime, niconico douga, k-on!, ...</td>\n",
       "      <td>parody</td>\n",
       "      <td>\"GO! GO! MANIAC\" is the 1st opening theme song...</td>\n",
       "      <td>The 2nd season for K-ON! was aired from April ...</td>\n",
       "      <td>Against the backdrop of a huge popularity of t...</td>\n",
       "      <td>niconico</td>\n",
       "      <td>https://i.kym-cdn.com/entries/icons/original/0...</td>\n",
       "      <td>2020-01-03 14:26:06.411126+00:00</td>\n",
       "      <td>4.885926</td>\n",
       "    </tr>\n",
       "    <tr>\n",
       "      <th>2012-05-25 04:03:36</th>\n",
       "      <td>Chubby Chubby Chip Chip / Flash YTPMVs</td>\n",
       "      <td>meme</td>\n",
       "      <td>confirmed</td>\n",
       "      <td>1992</td>\n",
       "      <td>2016-05-06 14:23:37+00:00</td>\n",
       "      <td>10209</td>\n",
       "      <td>57</td>\n",
       "      <td>0</td>\n",
       "      <td>8</td>\n",
       "      <td>youtube, video, music, poop, flash, chiptune, ...</td>\n",
       "      <td></td>\n",
       "      <td>\"Chubby Chubby Chip Chip\" is a chiptune song p...</td>\n",
       "      <td>The song was composed and produced in August 1...</td>\n",
       "      <td>In the early 1990's, the song \"Chubby Chubby C...</td>\n",
       "      <td>mark tdk knight</td>\n",
       "      <td>https://i.kym-cdn.com/entries/icons/original/0...</td>\n",
       "      <td>2020-01-03 17:30:52.249457+00:00</td>\n",
       "      <td>3.673624</td>\n",
       "    </tr>\n",
       "    <tr>\n",
       "      <th>2009-07-13 01:14:44</th>\n",
       "      <td>Britt-Marie</td>\n",
       "      <td>meme</td>\n",
       "      <td>confirmed</td>\n",
       "      <td>2008</td>\n",
       "      <td>2015-08-11 00:38:04+00:00</td>\n",
       "      <td>10633</td>\n",
       "      <td>0</td>\n",
       "      <td>0</td>\n",
       "      <td>19</td>\n",
       "      <td>sweden, tv, catchphrase, non-english, exploitable</td>\n",
       "      <td></td>\n",
       "      <td></td>\n",
       "      <td></td>\n",
       "      <td></td>\n",
       "      <td>yotube</td>\n",
       "      <td>https://i.kym-cdn.com/entries/icons/original/0...</td>\n",
       "      <td>2020-01-03 22:48:37.031231+00:00</td>\n",
       "      <td>2.779143</td>\n",
       "    </tr>\n",
       "    <tr>\n",
       "      <th>2015-05-04 14:36:48</th>\n",
       "      <td>Banjo-Kazooie</td>\n",
       "      <td>subculture</td>\n",
       "      <td>confirmed</td>\n",
       "      <td>1998</td>\n",
       "      <td>2019-06-11 20:17:26+00:00</td>\n",
       "      <td>10713</td>\n",
       "      <td>24</td>\n",
       "      <td>103</td>\n",
       "      <td>32</td>\n",
       "      <td>videogame, videogame (title), rare, rareware, ...</td>\n",
       "      <td>video game</td>\n",
       "      <td></td>\n",
       "      <td>The percursor of Banjo-Kazooie began as a SNES...</td>\n",
       "      <td>The series received positive reception from cr...</td>\n",
       "      <td>rare</td>\n",
       "      <td>https://i.kym-cdn.com/entries/icons/original/0...</td>\n",
       "      <td>2020-01-03 13:17:00.728763+00:00</td>\n",
       "      <td>6.286972</td>\n",
       "    </tr>\n",
       "    <tr>\n",
       "      <th>2013-11-06 19:57:13</th>\n",
       "      <td>Durarara!!</td>\n",
       "      <td>subculture</td>\n",
       "      <td>confirmed</td>\n",
       "      <td>2004</td>\n",
       "      <td>2015-03-21 20:51:11+00:00</td>\n",
       "      <td>10874</td>\n",
       "      <td>0</td>\n",
       "      <td>29</td>\n",
       "      <td>7</td>\n",
       "      <td>durarara!!, anime (title), drrr!!, adult swim,...</td>\n",
       "      <td>anime</td>\n",
       "      <td>Durarara!! (Japanese: デュラララ!!), sometimes abbr...</td>\n",
       "      <td>Durarara!! originally started out as a series ...</td>\n",
       "      <td>Durarara!! has garnered a significant online f...</td>\n",
       "      <td>ryohgo narita</td>\n",
       "      <td>https://i.kym-cdn.com/entries/icons/original/0...</td>\n",
       "      <td>2020-01-03 15:18:13.840869+00:00</td>\n",
       "      <td>4.837189</td>\n",
       "    </tr>\n",
       "    <tr>\n",
       "      <th>2018-11-02 21:20:30</th>\n",
       "      <td>Thanksgiving</td>\n",
       "      <td>event</td>\n",
       "      <td>confirmed</td>\n",
       "      <td>1621</td>\n",
       "      <td>2019-11-27 20:38:11+00:00</td>\n",
       "      <td>11244</td>\n",
       "      <td>10</td>\n",
       "      <td>83</td>\n",
       "      <td>41</td>\n",
       "      <td>turkey, food, family, pilgrims, native america...</td>\n",
       "      <td>holiday</td>\n",
       "      <td>Thanksgiving, as observed in the United States...</td>\n",
       "      <td></td>\n",
       "      <td></td>\n",
       "      <td>united states of america</td>\n",
       "      <td>https://i.kym-cdn.com/entries/icons/original/0...</td>\n",
       "      <td>2020-01-03 07:29:41.117710+00:00</td>\n",
       "      <td>26.394366</td>\n",
       "    </tr>\n",
       "    <tr>\n",
       "      <th>2013-10-30 04:41:31</th>\n",
       "      <td>Demi Tuhan</td>\n",
       "      <td>meme</td>\n",
       "      <td>confirmed</td>\n",
       "      <td>2013</td>\n",
       "      <td>2016-06-12 09:25:32+00:00</td>\n",
       "      <td>11402</td>\n",
       "      <td>4</td>\n",
       "      <td>7</td>\n",
       "      <td>1</td>\n",
       "      <td>arya wiguna, eyang subur, for god's sake, demi...</td>\n",
       "      <td>remix</td>\n",
       "      <td>Demi Tuhan (roughly translate as For God's Sak...</td>\n",
       "      <td>In 2013, Spiritual Teacher Eyang Subur was acc...</td>\n",
       "      <td>On April 20th, 2013, a thread started on the i...</td>\n",
       "      <td>youtube</td>\n",
       "      <td>https://i.kym-cdn.com/entries/icons/original/0...</td>\n",
       "      <td>2020-01-03 15:20:35.056637+00:00</td>\n",
       "      <td>5.054078</td>\n",
       "    </tr>\n",
       "  </tbody>\n",
       "</table>\n",
       "</div>"
      ],
      "text/plain": [
       "                                                       name    category  \\\n",
       "added                                                                     \n",
       "2012-10-12 08:37:07                            BP Oil Spill       event   \n",
       "2009-09-04 02:40:01                     Extended Cut YTMNDs        meme   \n",
       "2014-08-15 21:10:15                           Downton Abbey  subculture   \n",
       "2014-06-17 22:53:52                          GO! GO! MANIAC        meme   \n",
       "2012-05-25 04:03:36  Chubby Chubby Chip Chip / Flash YTPMVs        meme   \n",
       "2009-07-13 01:14:44                             Britt-Marie        meme   \n",
       "2015-05-04 14:36:48                           Banjo-Kazooie  subculture   \n",
       "2013-11-06 19:57:13                              Durarara!!  subculture   \n",
       "2018-11-02 21:20:30                            Thanksgiving       event   \n",
       "2013-10-30 04:41:31                              Demi Tuhan        meme   \n",
       "\n",
       "                        status  year                   updated  views  videos  \\\n",
       "added                                                                           \n",
       "2012-10-12 08:37:07  confirmed  2010 2015-06-26 03:27:15+00:00   8019      12   \n",
       "2009-09-04 02:40:01  confirmed  2006 2010-06-24 20:11:03+00:00   8116       0   \n",
       "2014-08-15 21:10:15  confirmed  2010 2019-10-15 08:26:56+00:00   9755      11   \n",
       "2014-06-17 22:53:52  confirmed  2010 2017-04-18 12:43:08+00:00   9894       4   \n",
       "2012-05-25 04:03:36  confirmed  1992 2016-05-06 14:23:37+00:00  10209      57   \n",
       "2009-07-13 01:14:44  confirmed  2008 2015-08-11 00:38:04+00:00  10633       0   \n",
       "2015-05-04 14:36:48  confirmed  1998 2019-06-11 20:17:26+00:00  10713      24   \n",
       "2013-11-06 19:57:13  confirmed  2004 2015-03-21 20:51:11+00:00  10874       0   \n",
       "2018-11-02 21:20:30  confirmed  1621 2019-11-27 20:38:11+00:00  11244      10   \n",
       "2013-10-30 04:41:31  confirmed  2013 2016-06-12 09:25:32+00:00  11402       4   \n",
       "\n",
       "                     photos  comments  \\\n",
       "added                                   \n",
       "2012-10-12 08:37:07      86        11   \n",
       "2009-09-04 02:40:01       2         7   \n",
       "2014-08-15 21:10:15      19        16   \n",
       "2014-06-17 22:53:52       1         6   \n",
       "2012-05-25 04:03:36       0         8   \n",
       "2009-07-13 01:14:44       0        19   \n",
       "2015-05-04 14:36:48     103        32   \n",
       "2013-11-06 19:57:13      29         7   \n",
       "2018-11-02 21:20:30      83        41   \n",
       "2013-10-30 04:41:31       7         1   \n",
       "\n",
       "                                                                  tags  \\\n",
       "added                                                                    \n",
       "2012-10-12 08:37:07  2010, british petroleum, gulf of mexico, oil s...   \n",
       "2009-09-04 02:40:01                                 forced meme, ytmnd   \n",
       "2014-08-15 21:10:15                         bbc, tv show, period drama   \n",
       "2014-06-17 22:53:52  youtube, japan, anime, niconico douga, k-on!, ...   \n",
       "2012-05-25 04:03:36  youtube, video, music, poop, flash, chiptune, ...   \n",
       "2009-07-13 01:14:44  sweden, tv, catchphrase, non-english, exploitable   \n",
       "2015-05-04 14:36:48  videogame, videogame (title), rare, rareware, ...   \n",
       "2013-11-06 19:57:13  durarara!!, anime (title), drrr!!, adult swim,...   \n",
       "2018-11-02 21:20:30  turkey, food, family, pilgrims, native america...   \n",
       "2013-10-30 04:41:31  arya wiguna, eyang subur, for god's sake, demi...   \n",
       "\n",
       "                           type  \\\n",
       "added                             \n",
       "2012-10-12 08:37:07    disaster   \n",
       "2009-09-04 02:40:01               \n",
       "2014-08-15 21:10:15     tv show   \n",
       "2014-06-17 22:53:52      parody   \n",
       "2012-05-25 04:03:36               \n",
       "2009-07-13 01:14:44               \n",
       "2015-05-04 14:36:48  video game   \n",
       "2013-11-06 19:57:13       anime   \n",
       "2018-11-02 21:20:30     holiday   \n",
       "2013-10-30 04:41:31       remix   \n",
       "\n",
       "                                                                 about  \\\n",
       "added                                                                    \n",
       "2012-10-12 08:37:07                                                      \n",
       "2009-09-04 02:40:01  The Extended Cut YTMND meme consists of YTMNDs...   \n",
       "2014-08-15 21:10:15  Downton Abbey is a British historical period T...   \n",
       "2014-06-17 22:53:52  \"GO! GO! MANIAC\" is the 1st opening theme song...   \n",
       "2012-05-25 04:03:36  \"Chubby Chubby Chip Chip\" is a chiptune song p...   \n",
       "2009-07-13 01:14:44                                                      \n",
       "2015-05-04 14:36:48                                                      \n",
       "2013-11-06 19:57:13  Durarara!! (Japanese: デュラララ!!), sometimes abbr...   \n",
       "2018-11-02 21:20:30  Thanksgiving, as observed in the United States...   \n",
       "2013-10-30 04:41:31  Demi Tuhan (roughly translate as For God's Sak...   \n",
       "\n",
       "                                                               history  \\\n",
       "added                                                                    \n",
       "2012-10-12 08:37:07                                                      \n",
       "2009-09-04 02:40:01                                                      \n",
       "2014-08-15 21:10:15  Downton Abbey was conceived by British TV exec...   \n",
       "2014-06-17 22:53:52  The 2nd season for K-ON! was aired from April ...   \n",
       "2012-05-25 04:03:36  The song was composed and produced in August 1...   \n",
       "2009-07-13 01:14:44                                                      \n",
       "2015-05-04 14:36:48  The percursor of Banjo-Kazooie began as a SNES...   \n",
       "2013-11-06 19:57:13  Durarara!! originally started out as a series ...   \n",
       "2018-11-02 21:20:30                                                      \n",
       "2013-10-30 04:41:31  In 2013, Spiritual Teacher Eyang Subur was acc...   \n",
       "\n",
       "                                                                 other  \\\n",
       "added                                                                    \n",
       "2012-10-12 08:37:07                                                      \n",
       "2009-09-04 02:40:01                                                      \n",
       "2014-08-15 21:10:15  Throughout its run, Downton Abbey became a hug...   \n",
       "2014-06-17 22:53:52  Against the backdrop of a huge popularity of t...   \n",
       "2012-05-25 04:03:36  In the early 1990's, the song \"Chubby Chubby C...   \n",
       "2009-07-13 01:14:44                                                      \n",
       "2015-05-04 14:36:48  The series received positive reception from cr...   \n",
       "2013-11-06 19:57:13  Durarara!! has garnered a significant online f...   \n",
       "2018-11-02 21:20:30                                                      \n",
       "2013-10-30 04:41:31  On April 20th, 2013, a thread started on the i...   \n",
       "\n",
       "                                       origin  \\\n",
       "added                                           \n",
       "2012-10-12 08:37:07  gulf of mexico oil spill   \n",
       "2009-09-04 02:40:01                     ytmnd   \n",
       "2014-08-15 21:10:15                   unknown   \n",
       "2014-06-17 22:53:52                  niconico   \n",
       "2012-05-25 04:03:36           mark tdk knight   \n",
       "2009-07-13 01:14:44                    yotube   \n",
       "2015-05-04 14:36:48                      rare   \n",
       "2013-11-06 19:57:13             ryohgo narita   \n",
       "2018-11-02 21:20:30  united states of america   \n",
       "2013-10-30 04:41:31                   youtube   \n",
       "\n",
       "                                                               picture  \\\n",
       "added                                                                    \n",
       "2012-10-12 08:37:07  https://i.kym-cdn.com/entries/icons/original/0...   \n",
       "2009-09-04 02:40:01  https://i.kym-cdn.com/entries/icons/original/0...   \n",
       "2014-08-15 21:10:15  https://i.kym-cdn.com/entries/icons/original/0...   \n",
       "2014-06-17 22:53:52  https://i.kym-cdn.com/entries/icons/original/0...   \n",
       "2012-05-25 04:03:36  https://i.kym-cdn.com/entries/icons/original/0...   \n",
       "2009-07-13 01:14:44  https://i.kym-cdn.com/entries/icons/original/0...   \n",
       "2015-05-04 14:36:48  https://i.kym-cdn.com/entries/icons/original/0...   \n",
       "2013-11-06 19:57:13  https://i.kym-cdn.com/entries/icons/original/0...   \n",
       "2018-11-02 21:20:30  https://i.kym-cdn.com/entries/icons/original/0...   \n",
       "2013-10-30 04:41:31  https://i.kym-cdn.com/entries/icons/original/0...   \n",
       "\n",
       "                                          scraped_at  popularity  \n",
       "added                                                             \n",
       "2012-10-12 08:37:07 2020-01-03 16:40:58.338502+00:00    3.038651  \n",
       "2009-09-04 02:40:01 2020-01-03 22:36:55.867623+00:00    2.151073  \n",
       "2014-08-15 21:10:15 2020-01-03 14:11:07.749434+00:00    4.961851  \n",
       "2014-06-17 22:53:52 2020-01-03 14:26:06.411126+00:00    4.885926  \n",
       "2012-05-25 04:03:36 2020-01-03 17:30:52.249457+00:00    3.673624  \n",
       "2009-07-13 01:14:44 2020-01-03 22:48:37.031231+00:00    2.779143  \n",
       "2015-05-04 14:36:48 2020-01-03 13:17:00.728763+00:00    6.286972  \n",
       "2013-11-06 19:57:13 2020-01-03 15:18:13.840869+00:00    4.837189  \n",
       "2018-11-02 21:20:30 2020-01-03 07:29:41.117710+00:00   26.394366  \n",
       "2013-10-30 04:41:31 2020-01-03 15:20:35.056637+00:00    5.054078  "
      ]
     },
     "execution_count": 25,
     "metadata": {},
     "output_type": "execute_result"
    }
   ],
   "source": [
    "memes[memes.status=='confirmed'].sort_values('views', ascending=True).head(10)"
   ]
  }
 ],
 "metadata": {
  "kernelspec": {
   "display_name": "Python 3",
   "language": "python",
   "name": "python3"
  },
  "language_info": {
   "codemirror_mode": {
    "name": "ipython",
    "version": 3
   },
   "file_extension": ".py",
   "mimetype": "text/x-python",
   "name": "python",
   "nbconvert_exporter": "python",
   "pygments_lexer": "ipython3",
   "version": "3.7.3"
  }
 },
 "nbformat": 4,
 "nbformat_minor": 1
}
