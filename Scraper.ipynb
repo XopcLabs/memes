{
 "cells": [
  {
   "cell_type": "markdown",
   "metadata": {},
   "source": [
    " Нам предстоит соскрейпить всю интересную информацию с [**knowyourmeme.com**](https://knowyourmeme.com).  \n",
    " Решение задачи, на данный момент, можно разбить на две части:\n",
    " #### 1.  Получение ссылок со страниц.  \n",
    " Сайт загружает по 16 мемов на страницу, необходимо вытащить на них ссылки, а также реализовать какой-нибудь механизм загрузки других страниц.\n",
    " \n",
    " #### 2.  Получение информации со страницы мема  \n",
    " Попробуем спарсить всю статистику по мему, а также ссылку на картинку и его текстовое описание.\n"
   ]
  },
  {
   "cell_type": "markdown",
   "metadata": {},
   "source": [
    "## 1. Получение ссылок со страницы\n",
    " ### 1.1. Первый запрос\n",
    "  Подключим библиотеку Requests. Она позволяет выполнять HTTP-запросы и обладает очень простым синтаксисом. "
   ]
  },
  {
   "cell_type": "code",
   "execution_count": 1,
   "metadata": {},
   "outputs": [],
   "source": [
    "import requests"
   ]
  },
  {
   "cell_type": "markdown",
   "metadata": {},
   "source": [
    "Попробуем произвести наш первый запрос к серверу. В Requests GET-запрос выполняется следующим образом. Чтобы убедиться, что все прошло хорошо, выведем статус-код."
   ]
  },
  {
   "cell_type": "code",
   "execution_count": 2,
   "metadata": {},
   "outputs": [
    {
     "data": {
      "text/plain": [
       "403"
      ]
     },
     "execution_count": 2,
     "metadata": {},
     "output_type": "execute_result"
    }
   ],
   "source": [
    "url = 'http://knowyourmeme.com/memes'\n",
    "request = requests.get(url)\n",
    "request.status_code"
   ]
  },
  {
   "cell_type": "markdown",
   "metadata": {},
   "source": [
    "Однако, вместо желанного 200 (OK) мы получили 403 (Forbidden). Связано это с тем, что сервер посмотрел на наш User Agent и распознал в нас бота. Для того, чтобы обойти это, импортнем ```UserAgent``` из библиотеки ```fake_useragent```. Затем создадим словарь, в котором сгенерим *человеческого* юзер-агента."
   ]
  },
  {
   "cell_type": "code",
   "execution_count": 3,
   "metadata": {},
   "outputs": [],
   "source": [
    "from fake_useragent import UserAgent"
   ]
  },
  {
   "cell_type": "code",
   "execution_count": 4,
   "metadata": {},
   "outputs": [
    {
     "data": {
      "text/plain": [
       "200"
      ]
     },
     "execution_count": 4,
     "metadata": {},
     "output_type": "execute_result"
    }
   ],
   "source": [
    "ua = UserAgent()\n",
    "header = {'User-Agent':str(ua.chrome)}\n",
    "request = requests.get(url, headers=header)\n",
    "request.status_code"
   ]
  },
  {
   "cell_type": "markdown",
   "metadata": {},
   "source": [
    "Отлично, на этот раз все прошло успешно. Впредь будем использовать этот словарь каждый раз, когда будем делать запрос к серверу.\n",
    "\n",
    "## 1.2. Парсинг HTML с помощью Beautiful Soup  \n",
    "Успешно выполнив запрос с помощью ```requests``` мы получаем допуступ к html-коду страницы. Писать свой парсер мы, конечно, не будем, посколько все уже изобретено до нас. Например, библиотека Beautiful Soup. Она позволяет искать нужные тэги и извлекать из них информацию. То, что нам  нужно.  \n",
    "Импортируем ```BeautifulSoup``` из ```bs4```.\n"
   ]
  },
  {
   "cell_type": "code",
   "execution_count": 5,
   "metadata": {},
   "outputs": [],
   "source": [
    "from bs4 import BeautifulSoup"
   ]
  },
  {
   "cell_type": "markdown",
   "metadata": {},
   "source": [
    "Для того, чтобы начать что-то искать на странице, нужно создать экземпляр класса BeautifulSoup. Итак, *сварим суп*, и посмотрим на его содержимое:"
   ]
  },
  {
   "cell_type": "code",
   "execution_count": 6,
   "metadata": {
    "scrolled": true
   },
   "outputs": [
    {
     "data": {
      "text/plain": [
       "<!DOCTYPE html>\n",
       "<html xmlns=\"https://www.w3.org/1999/xhtml\" xmlns:fb=\"https://www.facebook.com/2008/fbml\">\n",
       "<head>\n",
       "<meta content=\"text/html; charset=utf-8\" http-equiv=\"Content-Type\"/>\n",
       "<script type=\"text/javascript\">window.NREUM||(NREUM={});NREUM.info={\"beacon\":\"bam.nr-data.net\",\"errorBeacon\":\"bam.nr-data.net\",\"licenseKey\":\"c1a6d52f38\",\"applicationID\":\"31165848\",\"transactionName\":\"dFdfRUpeWglTQB8GDUNKWFRLHl8LUldI\",\"queueTime\":0,\"applicationTime\":59,\"agent\":\"\"}</script>\n",
       "<script type=\"text/javascript\">(window.NREUM||(NREUM={})).loader_config={licenseKey:\"c1a6d52f38\",applicationID:\"31165848\"};window.NREUM||(NREUM={}),__nr_require=function(n,e,t){function r(t){if(!e[t]){var i=e[t]={exports:{}};n[t][0].call(i.exports,function(e){var i=n[t][1][e];return r(i||e)},i,i.exports)}return e[t].exports}if(\"function\"==typeof __nr_require)return __nr_require;for(var i=0;i<t.length;i++)r(t[i]);return r}({1:[function(n,e,t){function r(){}function i(n,e,t){return function(){return o(n,[u.now()].concat(f(arguments)),e?null:this,t),e?void 0:this}}var o=n(\"handle\"),a=n(4),f=n(5),c=n(\"ee\").get(\"tracer\"),u=n(\"loader\"),s=NREUM;\"undefined\"==typeof window.newrelic&&(newrelic=s);var p=[\"setPageViewName\",\"setCustomAttribute\",\"setErrorHandler\",\"finished\",\"addToTrace\",\"inlineHit\",\"addRelease\"],d=\"api-\",l=d+\"ixn-\";a(p,function(n,e){s[e]=i(d+e,!0,\"api\")}),s.addPageAction=i(d+\"addPageAction\",!0),s.setCurrentRouteName=i(d+\"routeName\",!0),e.exports=newrelic,s.interaction=function(){return(new r).get()};var m=r.prototype={createTracer:function(n,e){var t={},r=this,i=\"function\"==typeof e;return o(l+\"tracer\",[u.now(),n,t],r),function(){if(c.emit((i?\"\":\"no-\")+\"fn-start\",[u.now(),r,i],t),i)try{return e.apply(this,arguments)}catch(n){throw c.emit(\"fn-err\",[arguments,this,n],t),n}finally{c.emit(\"fn-end\",[u.now()],t)}}}};a(\"actionText,setName,setAttribute,save,ignore,onEnd,getContext,end,get\".split(\",\"),function(n,e){m[e]=i(l+e)}),newrelic.noticeError=function(n,e){\"string\"==typeof n&&(n=new Error(n)),o(\"err\",[n,u.now(),!1,e])}},{}],2:[function(n,e,t){function r(n,e){var t=n.getEntries();t.forEach(function(n){\"first-paint\"===n.name?a(\"timing\",[\"fp\",Math.floor(n.startTime)]):\"first-contentful-paint\"===n.name&&a(\"timing\",[\"fcp\",Math.floor(n.startTime)])})}function i(n){if(n instanceof c&&!s){var e,t=Math.round(n.timeStamp);e=t>1e12?Date.now()-t:f.now()-t,s=!0,a(\"timing\",[\"fi\",t,{type:n.type,fid:e}])}}if(!(\"init\"in NREUM&&\"page_view_timing\"in NREUM.init&&\"enabled\"in NREUM.init.page_view_timing&&NREUM.init.page_view_timing.enabled===!1)){var o,a=n(\"handle\"),f=n(\"loader\"),c=NREUM.o.EV;if(\"PerformanceObserver\"in window&&\"function\"==typeof window.PerformanceObserver){o=new PerformanceObserver(r);try{o.observe({entryTypes:[\"paint\"]})}catch(u){}}if(\"addEventListener\"in document){var s=!1,p=[\"click\",\"keydown\",\"mousedown\",\"pointerdown\",\"touchstart\"];p.forEach(function(n){document.addEventListener(n,i,!1)})}}},{}],3:[function(n,e,t){function r(n,e){if(!i)return!1;if(n!==i)return!1;if(!e)return!0;if(!o)return!1;for(var t=o.split(\".\"),r=e.split(\".\"),a=0;a<r.length;a++)if(r[a]!==t[a])return!1;return!0}var i=null,o=null,a=/Version\\/(\\S+)\\s+Safari/;if(navigator.userAgent){var f=navigator.userAgent,c=f.match(a);c&&f.indexOf(\"Chrome\")===-1&&f.indexOf(\"Chromium\")===-1&&(i=\"Safari\",o=c[1])}e.exports={agent:i,version:o,match:r}},{}],4:[function(n,e,t){function r(n,e){var t=[],r=\"\",o=0;for(r in n)i.call(n,r)&&(t[o]=e(r,n[r]),o+=1);return t}var i=Object.prototype.hasOwnProperty;e.exports=r},{}],5:[function(n,e,t){function r(n,e,t){e||(e=0),\"undefined\"==typeof t&&(t=n?n.length:0);for(var r=-1,i=t-e||0,o=Array(i<0?0:i);++r<i;)o[r]=n[e+r];return o}e.exports=r},{}],6:[function(n,e,t){e.exports={exists:\"undefined\"!=typeof window.performance&&window.performance.timing&&\"undefined\"!=typeof window.performance.timing.navigationStart}},{}],ee:[function(n,e,t){function r(){}function i(n){function e(n){return n&&n instanceof r?n:n?c(n,f,o):o()}function t(t,r,i,o){if(!d.aborted||o){n&&n(t,r,i);for(var a=e(i),f=v(t),c=f.length,u=0;u<c;u++)f[u].apply(a,r);var p=s[y[t]];return p&&p.push([b,t,r,a]),a}}function l(n,e){h[n]=v(n).concat(e)}function m(n,e){var t=h[n];if(t)for(var r=0;r<t.length;r++)t[r]===e&&t.splice(r,1)}function v(n){return h[n]||[]}function g(n){return p[n]=p[n]||i(t)}function w(n,e){u(n,function(n,t){e=e||\"feature\",y[t]=e,e in s||(s[e]=[])})}var h={},y={},b={on:l,addEventListener:l,removeEventListener:m,emit:t,get:g,listeners:v,context:e,buffer:w,abort:a,aborted:!1};return b}function o(){return new r}function a(){(s.api||s.feature)&&(d.aborted=!0,s=d.backlog={})}var f=\"nr@context\",c=n(\"gos\"),u=n(4),s={},p={},d=e.exports=i();d.backlog=s},{}],gos:[function(n,e,t){function r(n,e,t){if(i.call(n,e))return n[e];var r=t();if(Object.defineProperty&&Object.keys)try{return Object.defineProperty(n,e,{value:r,writable:!0,enumerable:!1}),r}catch(o){}return n[e]=r,r}var i=Object.prototype.hasOwnProperty;e.exports=r},{}],handle:[function(n,e,t){function r(n,e,t,r){i.buffer([n],r),i.emit(n,e,t)}var i=n(\"ee\").get(\"handle\");e.exports=r,r.ee=i},{}],id:[function(n,e,t){function r(n){var e=typeof n;return!n||\"object\"!==e&&\"function\"!==e?-1:n===window?0:a(n,o,function(){return i++})}var i=1,o=\"nr@id\",a=n(\"gos\");e.exports=r},{}],loader:[function(n,e,t){function r(){if(!x++){var n=E.info=NREUM.info,e=l.getElementsByTagName(\"script\")[0];if(setTimeout(s.abort,3e4),!(n&&n.licenseKey&&n.applicationID&&e))return s.abort();u(y,function(e,t){n[e]||(n[e]=t)}),c(\"mark\",[\"onload\",a()+E.offset],null,\"api\");var t=l.createElement(\"script\");t.src=\"https://\"+n.agent,e.parentNode.insertBefore(t,e)}}function i(){\"complete\"===l.readyState&&o()}function o(){c(\"mark\",[\"domContent\",a()+E.offset],null,\"api\")}function a(){return O.exists&&performance.now?Math.round(performance.now()):(f=Math.max((new Date).getTime(),f))-E.offset}var f=(new Date).getTime(),c=n(\"handle\"),u=n(4),s=n(\"ee\"),p=n(3),d=window,l=d.document,m=\"addEventListener\",v=\"attachEvent\",g=d.XMLHttpRequest,w=g&&g.prototype;NREUM.o={ST:setTimeout,SI:d.setImmediate,CT:clearTimeout,XHR:g,REQ:d.Request,EV:d.Event,PR:d.Promise,MO:d.MutationObserver};var h=\"\"+location,y={beacon:\"bam.nr-data.net\",errorBeacon:\"bam.nr-data.net\",agent:\"js-agent.newrelic.com/nr-1158.min.js\"},b=g&&w&&w[m]&&!/CriOS/.test(navigator.userAgent),E=e.exports={offset:f,now:a,origin:h,features:{},xhrWrappable:b,userAgent:p};n(1),n(2),l[m]?(l[m](\"DOMContentLoaded\",o,!1),d[m](\"load\",r,!1)):(l[v](\"onreadystatechange\",i),d[v](\"onload\",r)),c(\"mark\",[\"firstbyte\",f],null,\"api\");var x=0,O=n(6)},{}],\"wrap-function\":[function(n,e,t){function r(n){return!(n&&n instanceof Function&&n.apply&&!n[a])}var i=n(\"ee\"),o=n(5),a=\"nr@original\",f=Object.prototype.hasOwnProperty,c=!1;e.exports=function(n,e){function t(n,e,t,i){function nrWrapper(){var r,a,f,c;try{a=this,r=o(arguments),f=\"function\"==typeof t?t(r,a):t||{}}catch(u){d([u,\"\",[r,a,i],f])}s(e+\"start\",[r,a,i],f);try{return c=n.apply(a,r)}catch(p){throw s(e+\"err\",[r,a,p],f),p}finally{s(e+\"end\",[r,a,c],f)}}return r(n)?n:(e||(e=\"\"),nrWrapper[a]=n,p(n,nrWrapper),nrWrapper)}function u(n,e,i,o){i||(i=\"\");var a,f,c,u=\"-\"===i.charAt(0);for(c=0;c<e.length;c++)f=e[c],a=n[f],r(a)||(n[f]=t(a,u?f+i:i,o,f))}function s(t,r,i){if(!c||e){var o=c;c=!0;try{n.emit(t,r,i,e)}catch(a){d([a,t,r,i])}c=o}}function p(n,e){if(Object.defineProperty&&Object.keys)try{var t=Object.keys(n);return t.forEach(function(t){Object.defineProperty(e,t,{get:function(){return n[t]},set:function(e){return n[t]=e,e}})}),e}catch(r){d([r])}for(var i in n)f.call(n,i)&&(e[i]=n[i]);return e}function d(e){try{n.emit(\"internal-error\",e)}catch(t){}}return n||(n=i),t.inPlace=u,t.flag=a,t}},{}]},{},[\"loader\"]);</script>\n",
       "<meta content=\"Confirmed Entries\" property=\"og:title\"/>\n",
       "<meta content=\"Know Your Meme\" property=\"og:site_name\"/>\n",
       "<meta content=\"https://s.kym-cdn.com/assets/kym-logo-large.png\" property=\"og:image\"/>\n",
       "<meta content=\"600\" property=\"og:image:width\"/>\n",
       "<meta content=\"315\" property=\"og:image:height\"/>\n",
       "<meta content=\"article\" property=\"og:type\"/>\n",
       "<meta content=\"104675392961482\" property=\"fb:app_id\"/>\n",
       "<meta content=\"88519108736\" property=\"fb:pages\"/>\n",
       "<meta content=\"https://www.facebook.com/knowyourmeme\" property=\"article:publisher\"/>\n",
       "<meta content=\"Know Your Meme | Our confirmed section features over 1,000 entries on a wide range of Internet-related topics carefully researched and verified by the research staff.\" name=\"description\"/>\n",
       "<meta content=\"https://knowyourmeme.com/memes\" property=\"og:url\"/>\n",
       "<meta content=\"Know Your Meme | Our confirmed section features over 1,000 entries on a wide range of Internet-related topics carefully researched and verified by the research staff.\" property=\"og:description\"/>\n",
       "<meta content=\"unsafe-url\" name=\"referrer\"/>\n",
       "<link href=\"https://s.kym-cdn.com/favicon.ico\" rel=\"shortcut icon\" type=\"image/vnd.microsoft.icon\"/>\n",
       "<link href=\"https://s.kym-cdn.com/assets/kym-10ad2b8dcec00928efbdba0cdc12c66f.jpg\" rel=\"apple-touch-icon\" type=\"image/jpg\"/>\n",
       "<title>Confirmed Entries | Know Your Meme</title>\n",
       "<link href=\"https://s.kym-cdn.com/assets/desktop-a4f3562ec32c566667093e5577767ee7.css\" media=\"screen\" rel=\"stylesheet\" type=\"text/css\"/>\n",
       "<script src=\"https://s.kym-cdn.com/assets/desktop-e3fab6991d23b483c3970ddead803d81.js\" type=\"text/javascript\"></script>\n",
       "<script> (function(i,s,o,g,r,a,m){i['GoogleAnalyticsObject']=r;i[r]=i[r]||function(){ (i[r].q=i[r].q||[]).push(arguments)},i[r].l=1*new Date();a=s.createElement(o), m=s.getElementsByTagName(o)[0];a.async=1;a.src=g;m.parentNode.insertBefore(a,m) })(window,document,'script','https://www.google-analytics.com/analytics.js','ga'); ga('create', 'UA-15176568-9', 'auto', { 'useAmpClientId': true }); ga('set', 'dimension1', \"entries-index\"); ga('set', 'dimension2', \"false\"); ga('set', 'dimension3', \"false\"); ga('set', 'dimension4', \"false\"); ga('set', 'dimension5', \"false\"); ga('send', 'pageview'); </script>\n",
       "<link href=\"/newsfeed.rss\" rel=\"alternate\" title=\"Know Your Meme News Feed\" type=\"application/rss+xml\"/>\n",
       "<link href=\"/news.rss\" rel=\"alternate\" title=\"Know Your Meme News\" type=\"application/rss+xml\"/>\n",
       "<link href=\"/editorials.rss\" rel=\"alternate\" title=\"Know Your Meme Blog\" type=\"application/rss+xml\"/>\n",
       "<link href=\"/memes.rss\" rel=\"alternate\" title=\"Know Your Meme Latest Featured Entries\" type=\"application/rss+xml\"/>\n",
       "<link href=\"/memes/submissions.rss\" rel=\"alternate\" title=\"Know Your Meme Latest Submitted Entries\" type=\"application/rss+xml\"/>\n",
       "<link href=\"/photos.rss\" rel=\"alternate\" title=\"Know Your Meme Latest Images\" type=\"application/rss+xml\"/>\n",
       "<link href=\"https://knowyourmeme.com/memes\" rel=\"canonical\"/>\n",
       "<script src=\"https://www.zergnet.com/zerg-inf-multi.js\" type=\"text/javascript\"></script>\n",
       "<script> (function(h,o,t,j,a,r){ h.hj=h.hj||function(){(h.hj.q=h.hj.q||[]).push(arguments)}; h._hjSettings={hjid:1004046,hjsv:6}; a=o.getElementsByTagName('head')[0]; r=o.createElement('script');r.async=1; r.src=t+h._hjSettings.hjid+j+h._hjSettings.hjsv; a.appendChild(r); })(window,document,'https://static.hotjar.com/c/hotjar-','.js?sv='); </script>\n",
       "<meta content=\"3fa925d06e2f3c4af076ced1e6e951cf\" name=\"p:domain_verify\"/>\n",
       "<script async=\"true\" type=\"text/javascript\"> var elem = document.createElement('script'); elem.src = 'https://quantcast.mgr.consensu.org/cmp.js'; elem.async = true; elem.type = 'text/javascript'; var scpt = document.getElementsByTagName('script')[0]; scpt.parentNode.insertBefore(elem, scpt); (function() { var gdprAppliesGlobally = true; function addFrame() { if (!window.frames['__cmpLocator']) { if (document.body) { var body = document.body; var iframe = document.createElement('iframe'); iframe.style = 'display:none'; iframe.name = '__cmpLocator'; body.appendChild(iframe); } else { setTimeout(addFrame, 5); } } } addFrame(); function cmpMsgHandler(event) { var msgIsString = typeof event.data === 'string'; var json; if (msgIsString) { json = event.data.indexOf('__cmpCall') != -1 ? JSON.parse(event.data) : {}; } else { json = event.data; } if (json.__cmpCall) { var i = json.__cmpCall; window.__cmp(i.command, i.parameter, function(retValue, success) { var returnMsg = { '__cmpReturn': { 'returnValue': retValue, 'success': success, 'callId': i.callId } }; event.source.postMessage(msgIsString ? JSON.stringify(returnMsg) : returnMsg, '*'); }); } } window.__cmp = function(c) { var b = arguments; if (!b.length) { return __cmp.a; } else if (b[0] === 'ping') { b[2]({ 'gdprAppliesGlobally': gdprAppliesGlobally, 'cmpLoaded': false }, true); } else if (c == '__cmp') { return false; } else { if (typeof __cmp.a === 'undefined') { __cmp.a = []; } __cmp.a.push([].slice.apply(b)); } }; window.__cmp.gdprAppliesGlobally = gdprAppliesGlobally; window.__cmp.msgHandler = cmpMsgHandler; if (window.addEventListener) { window.addEventListener('message', cmpMsgHandler, false); } else { window.attachEvent('onmessage', cmpMsgHandler); } })(); window.__cmp('init', { 'Language': 'en', 'Initial Screen Reject Button Text': 'I do not accept', 'Initial Screen Accept Button Text': 'I accept', 'Purpose Screen Body Text': 'You can set your consent preferences and determine how you want your data to be used based on the purposes below. You may set your preferences for us independently from those of third-party partners. Each purpose has a description so that you know how we and partners use your data.', 'Vendor Screen Body Text': 'You can set consent preferences for each individual third-party company below. Expand each company list item to see what purposes they use data for to help make your choices. In some cases, companies may disclose that they use your data without asking for your consent, based on their legitimate interests. You can click on their privacy policies for more information and to opt out.', 'Vendor Screen Accept All Button Text': 'Accept all', 'Vendor Screen Reject All Button Text': 'Reject all', 'Initial Screen Body Text': 'We and our partners use technology such as cookies on our site to personalise content and ads, provide social media features, and analyse our traffic. Click below to consent to the use of this technology across the web. You can change your mind and change your consent choices at anytime by returning to this site.', 'Initial Screen Body Text Option': 1, 'Publisher Name': 'Know Your Meme', 'Publisher Logo': 'https://s.kym-cdn.com/assets/kym-logo-large.png', 'Publisher Purpose IDs': [1, 2, 3, 5], 'Publisher Purpose Legitimate Interest IDs': [1, 2, 5], 'Display UI': 'inEU', 'No Option': false, 'Display Persistent Consent Link': false }); </script>\n",
       "<script type=\"text/javascript\">\n",
       "window.suggestmeyes_loaded = true;\n",
       "</script>\n",
       "</head>\n",
       "<body class=\"cols guest entries entries_index production\" data-ad-page-type=\"Misc\" data-controller-action=\"entries-index\" data-demonetized=\"false\" data-layout=\"desktop\" data-nsfw=\"false\">\n",
       "<div data-exclude=\"ugc\" data-script=\"https://media.complex.com/common/cmnUNT.js\" data-silo=\"s_pop\" data-site=\"knowyourmeme\" data-tier=\"to,t2,subhome\" data-zone=\"misc\" id=\"complex-data\"></div>\n",
       "<div data-sticky=\"kym_ros_sticky\" id=\"dfp-data\"></div>\n",
       "<script type=\"text/javascript\"> (function() { function async_load(script_url) { var protocol = ('https:' == document.location.protocol ? 'https://' : 'http://'); var scr = document.createElement('script'); scr.src = protocol + script_url; var position = document.getElementsByTagName('script')[0]; position.parentNode.insertBefore(scr, position); } jQuery(document).ready(function() { async_load('literally-media.videoplayerhub.com/galleryplayer.js'); }); })(); </script>\n",
       "<div id=\"container\">\n",
       "<div class=\"longcat wrap\">\n",
       "<div class=\"rel\" id=\"omgkym\">\n",
       "<script type=\"text/javascript\"> window.fbAsyncInit = function() { FB.init({ appId: '104675392961482', status: false, xfbml: true, version: 'v3.3' }); $(document).trigger('fb-loaded'); }; (function(d, s, id) { var js, fjs = d.getElementsByTagName(s)[0]; if (d.getElementById(id)) return; js = d.createElement(s); js.id = id; js.src = 'https://connect.facebook.net/en_US/sdk.js'; fjs.parentNode.insertBefore(js, fjs); }(document, 'script', 'facebook-jssdk')); </script> <script type=\"text/javascript\"> (function() { var po = document.createElement('script'); po.type = 'text/javascript'; po.async = true; po.src = 'https://apis.google.com/js/plusone.js'; var s = document.getElementsByTagName('script')[0]; s.parentNode.insertBefore(po, s); })(); </script> <script async=\"\" data-pin-build=\"parsePins\" defer=\"\" src=\"https://assets.pinterest.com/js/pinit.js\" type=\"text/javascript\"></script> <script> window.twttr = (function(d, s, id) { var js, fjs = d.getElementsByTagName(s)[0], t = window.twttr || {}; if (d.getElementById(id)) return t; js = d.createElement(s); js.id = id; js.src = 'https://platform.twitter.com/widgets.js'; fjs.parentNode.insertBefore(js, fjs); t._e = []; t.ready = function(f) { t._e.push(f); }; return t; }(document, 'script', 'twitter-wjs')); </script> <header class=\"c\" id=\"mast\"> <div class=\"left\" id=\"logo\"> <a href=\"/\" title=\"Know Your Meme\"></a> </div> <div class=\"right\" id=\"search\"> <form action=\"/search\" id=\"search_form\" method=\"get\"> <input id=\"sort\" name=\"sort\" type=\"hidden\" value=\"newest\"/> <input autocapitalize=\"off\" autocorrect=\"off\" class=\"search-box\" id=\"search_box\" name=\"q\" placeholder=\"Search the database…\" type=\"text\" value=\"\"/><button id=\"search-submit\" type=\"submit\"></button></form> <div class=\"advanced-search-protips\"> <a href=\"/editorials/kym-database-search-operators\">Advanced Search Protips</a> </div> </div> <div class=\"right rel\" id=\"mast_links\"> <nav class=\"abs\" id=\"secondary_nav\"> <ul class=\"horiz\"> <li> <a href=\"/about\" rel=\"nofollow\">About</a> </li> <li> <a href=\"/editorials/rules-and-guidelines/\" id=\"rules_link\" rel=\"nofollow\"> <strong>Rules</strong> </a> </li> <li> <a href=\"/chat\" rel=\"nofollow\">Chat</a> </li> <li> <a class=\"random_button\" href=\"/random\" rel=\"nofollow\">Random</a> </li> <li> <a href=\"/activity\" rel=\"nofollow\">Activity</a> </li> </ul> </nav> <aside class=\"x_brt6 c abs\"> <p class=\"welcome\"> Welcome! <a class=\"b\" href=\"/login\" rel=\"nofollow\">Login</a> or <a class=\"b\" href=\"/signup\" rel=\"nofollow\">signup</a> now! </p> </aside> </div> </header>\n",
       "<nav id=\"navigation\"> <ul id=\"navigation-links\"> <li class=\"top-level\"> <a href=\"/\">Home</a> </li> <li class=\"top-level\"> <a href=\"/memes\">Memes</a> <ul class=\"dropdown\"> <li> <a href=\"/memes\">Confirmed</a> </li> <li> <a href=\"/memes/submissions\">Submissions</a> </li> <li> <a href=\"/memes/researching\">Researching</a> </li> <li> <a href=\"/memes/newsworthy\">Newsworthy</a> </li> <li> <a href=\"/memes/popular\">Popular</a> </li> <li> <a href=\"/memes/deadpool\">Deadpool</a> </li> <li> <a href=\"/memes/all\">All</a> </li> <li> <hr/> </li> <li> <a href=\"/memes/new?guidelines=1\" rel=\"nofollow\">Submit an Entry</a> </li> </ul> </li> <li class=\"top-level\"> <a href=\"/categories\">Categories</a> <ul class=\"dropdown\"> <li> <a href=\"/categories/culture\">Cultures</a> </li> <li> <a href=\"/categories/event\">Events</a> </li> <li> <a href=\"/categories/meme\">Memes</a> </li> <li> <a href=\"/categories/person\">People</a> </li> <li> <a href=\"/categories/site\">Sites</a> </li> <li> <a href=\"/categories/subculture\">Subcultures</a> </li> </ul> </li> <li class=\"top-level\"> <a href=\"//news.knowyourmeme.com:443/news\">News</a> </li> <li class=\"top-level\"> <a href=\"/photos\">Images</a> <ul class=\"dropdown\"> <li> <a href=\"/photos/trending\">Trending</a> </li> <li> <a href=\"/photos/most-commented\">Most Commented</a> </li> <li> <a href=\"/photos/most-favorited\">Most Favorited</a> </li> <li> <a href=\"/photos/most-liked\">Most Liked</a> </li> <li> <a href=\"/photos/least-liked\">Least Liked</a> </li> <li> <a href=\"/photos/most-viewed\">Most Viewed</a> </li> <li> <a href=\"/photos\">All</a> </li> <li> <hr/> </li> <li> <a href=\"/photos/templates\">Templates</a> </li> <li> <hr/> </li> <li> <a href=\"/photos/new\" rel=\"nofollow\">Upload an Image</a> </li> </ul> </li> <li class=\"top-level\"> <a href=\"/videos\">Videos</a> <ul class=\"dropdown\"> <li> <a href=\"/videos/trending\">Trending</a> </li> <li> <a href=\"/videos/most-commented\">Most Commented</a> </li> <li> <a href=\"/videos/most-favorited\">Most Favorited</a> </li> <li> <a href=\"/videos/most-liked\">Most Liked</a> </li> <li> <a href=\"/videos/most-viewed\">Most Viewed</a> </li> <li> <a href=\"/videos\">All</a> </li> <li> <hr/> </li> <li> <a href=\"/videos/new\" rel=\"nofollow\">Upload a Video</a> </li> </ul> </li> <li class=\"top-level\"> <a href=\"/forums\">Forums</a> <ul class=\"dropdown\"> <li> <a href=\"/forums/section/discussion\" rel=\"nofollow\">Discussion</a> </li> <li> <a href=\"/forums/general\">   General </a></li> <li> <a href=\"/forums/meme-research\">   Meme Research </a></li> <li> <a href=\"/forums/serious-debate\">   Serious Debate </a></li> <li> <a href=\"/forums/q-a\">   Q &amp; A </a></li> <li> <hr/> </li> <li> <a href=\"/forums/section/media\" rel=\"nofollow\">Media</a> </li> <li> <a href=\"/forums/video-games\">   Video Games </a></li> <li> <a href=\"/forums/moving-images\">   Moving Images </a></li> <li> <a href=\"/forums/books-comics\">   Books &amp; Comics </a></li> <li> <a href=\"/forums/music\">   Music </a></li> <li> <a href=\"/forums/websites\">   Websites </a></li> <li> <hr/> </li> <li> <a href=\"/forums/section/fun\" rel=\"nofollow\">Fun!</a> </li> <li> <a href=\"/forums/creative\">   Creative </a></li> <li> <a href=\"/forums/forum-games\">   Forum Games </a></li> <li> <a href=\"/forums/just-for-fun\">   Just For Fun </a></li> <li> <a href=\"/forums/riff-raff\">   Riff-Raff </a></li> <li> <a href=\"/forums/memeory-lane\">   Memeory Lane </a></li> <li> <hr/> </li> <li> <a href=\"/forums/section/maintenance\" rel=\"nofollow\">Maintenance</a> </li> <li> <a href=\"/forums/report-problems\">   Report Problems </a></li> <li> <a href=\"/forums/announcements\">   Announcements </a></li> <li> <a href=\"/forums/suggest-ideas\">   Suggest Ideas </a></li> <li> <hr/> </li> <li> <a href=\"/forums/all\" rel=\"nofollow\">All</a> </li> </ul> </li> <li class=\"top-level\"> <a href=\"/editorials\">Editorials</a> <ul class=\"dropdown\"> <li> <a href=\"/editorials/interviews\">Interviews</a> </li> <li> <a href=\"/editorials/in-the-media\">In the Media</a> </li> <li> <a href=\"/editorials/white-papers\">White Papers</a> </li> <li> <a href=\"/editorials/episode-notes\">Episode Notes</a> </li> <li> <a href=\"/editorials/behind-the-scenes\">Behind the Scenes</a> </li> <li> <a href=\"/editorials/meme-review\">Meme Review</a> </li> <li> <a href=\"/editorials/collections\">Collections</a> </li> <li> <a href=\"/editorials/poll\">Poll</a> </li> <li> <a href=\"/editorials\">All</a> </li> </ul> </li> <li class=\"top-level\"> <a href=\"/episodes\">Episodes</a> </li> <li class=\"top-level\"> <a href=\"https://store.knowyourmeme.com/?utm_source=knowyourmeme.com&amp;utm_medium=header\" id=\"store_navigation\" target=\"blank\">The Meme Store</a> </li> </ul> </nav>\n",
       "<section id=\"leaderboard\"> <ul> <li data-index=\"1\"> <article class=\"rel c entry\" id=\"newsfeed_lb_10244\"> <a class=\"photo left\" href=\"/memes/events/aap-rocky-sex-tape-leak\" target=\"_self\"><img alt=\"A$AP Rocky Responds To Sex Tape Leak\" data-src=\"https://i.kym-cdn.com/featured_items/icons/wide/000/010/244/8b9.jpg\" height=\"112\" src=\"https://s.kym-cdn.com/assets/blank-b3f96f160b75b1b49b426754ba188fe8.gif\" title=\"A$AP Rocky Responds To Sex Tape Leak\" width=\"198\"/> <div class=\"info abs\"> <div class=\"c\"> A$AP Rocky Responds To Sex Tape Leak </div> </div> </a></article> </li> <li data-index=\"2\"> <article class=\"rel c entry\" id=\"newsfeed_lb_10243\"> <a class=\"photo left\" href=\"/memes/events/wine-cave\" target=\"_self\"><img alt=\"Pete Buttigieg Slammed For His Wine Cave Fundraiser During Last Night's Debate\" data-src=\"https://i.kym-cdn.com/featured_items/icons/wide/000/010/243/Untitled-1.png\" height=\"112\" src=\"https://s.kym-cdn.com/assets/blank-b3f96f160b75b1b49b426754ba188fe8.gif\" title=\"Pete Buttigieg Slammed For His Wine Cave Fundraiser During Last Night's Debate\" width=\"198\"/> <div class=\"info abs\"> <div class=\"c\"> Pete Buttigieg Slammed For His Wine Cave Fundraiser During Last Night's Debate </div> </div> </a></article> </li> <li data-index=\"3\"> <article class=\"rel c entry\" id=\"newsfeed_lb_10242\"> <a class=\"photo left\" href=\"/memes/sites/africa-check\" target=\"_self\"><img alt=\"On Instagram, Africa Would Like To Check Your Vibe\" data-src=\"https://i.kym-cdn.com/featured_items/icons/wide/000/010/242/f32.jpg\" height=\"112\" src=\"https://s.kym-cdn.com/assets/blank-b3f96f160b75b1b49b426754ba188fe8.gif\" title=\"On Instagram, Africa Would Like To Check Your Vibe\" width=\"198\"/> <div class=\"info abs\"> <div class=\"c\"> On Instagram, Africa Would Like To Check Your Vibe </div> </div> </a></article> </li> <li data-index=\"4\"> <article class=\"rel c entry\" id=\"newsfeed_lb_10241\"> <a class=\"photo left\" href=\"/memes/events/justine-saccos-aids-tweet-controversy\" target=\"_self\"><img alt=\"This Day In Internet History: Justine Sacco's Africa Tweet\" data-src=\"https://i.kym-cdn.com/featured_items/icons/wide/000/010/241/527.jpg\" height=\"112\" src=\"https://s.kym-cdn.com/assets/blank-b3f96f160b75b1b49b426754ba188fe8.gif\" title=\"This Day In Internet History: Justine Sacco's Africa Tweet\" width=\"198\"/> <div class=\"info abs\"> <div class=\"c\"> This Day In Internet History: Justine Sacco's Africa Tweet </div> </div> </a></article> </li> <li data-index=\"5\"> <article class=\"rel c entry\" id=\"newsfeed_lb_10240\"> <a class=\"photo left\" href=\"/memes/events/instagram-fact-checking\" target=\"_self\"><img alt=\"Memers Are Exploiting Instagram's New Fact-Checking System\" data-src=\"https://i.kym-cdn.com/featured_items/icons/wide/000/010/240/344.jpg\" height=\"112\" src=\"https://s.kym-cdn.com/assets/blank-b3f96f160b75b1b49b426754ba188fe8.gif\" title=\"Memers Are Exploiting Instagram's New Fact-Checking System\" width=\"198\"/> <div class=\"info abs\"> <div class=\"c\"> Memers Are Exploiting Instagram's New Fact-Checking System </div> </div> </a></article> </li> </ul> </section> <section id=\"trending-bar\"> <h5 class=\"left\"> Also Trending: </h5> <a href=\"/memes/goomer\" title=\"Goomer\">Goomer</a> <a href=\"/memes/events/impeachment-of-president-donald-trump\" title=\"Impeachment of President Donald Trump\">Impeachment of President Donald Trump</a> <a href=\"/memes/subcultures/star-wars\" title=\"Star Wars\">Star Wars</a> <a href=\"/memes/events/istandwithmaya\" title=\"#IStandWithMaya\">#IStandWithMaya</a> <a href=\"/memes/hatsune-miku-created-minecraft\" title=\"Hatsune Miku Created Minecraft\">Hatsune Miku Created Minecraft</a> <a href=\"/memes/events/wine-cave\" title=\"Wine Cave\">Wine Cave</a> <a href=\"/memes/events/olive-alayne-heiligenthal-resurrection-gofundme\" title=\"Olive Alayne Heiligenthal Resurrection GoFundMe\">Olive Alayne Heiligenthal Resurrection GoFundMe</a> <a href=\"/memes/pansexuals-attracted-to-pans\" title=\"Pansexuals Attracted to Pans\">Pansexuals Attracted to Pans</a> <a href=\"/memes/chef-boyardee-challenge\" title=\"Chef Boyardee Challenge\">Chef Boyardee Challenge</a> <a href=\"/memes/subcultures/dont-fk-with-cats\" title=\"Don't F**k With Cats (NSFW)\">Don't F**k With Cats (NSFW)</a> <a href=\"/memes/subcultures/cats-2019-film\" title=\"Cats (2019 Film)\">Cats (2019 Film)</a> <a href=\"/memes/subcultures/star-vs-the-forces-of-evil\" title=\"Star vs. the Forces of Evil\">Star vs. the Forces of Evil</a> </section>\n",
       "</div>\n",
       "</div>\n",
       "</div>\n",
       "<div class=\"header-unit-wrapper complex-ad-wrapper\"> <div class=\"complex-header-unit complex-ad\" data-complex=\"true\" data-dfp-name=\"kym_ros_atf_leaderboard\" data-dfp-size=\"[[728, 90], [970, 250]]\" data-name=\"3x3\" data-options='{\"containerId\":\"header-unit\"}' id=\"header-unit\"> <div class=\"fw_knowyourmeme\" id=\"cmn_ad_tag_head\"></div> </div> <span class=\"bt-uid-tg\" data-uid=\"5ca27b02ae-353\" style=\"display: none !important\"></span> </div>\n",
       "<div class=\"x_brb6 c\" id=\"content\">\n",
       "<div class=\"\" id=\"maru\">\n",
       "<div class=\"c\" id=\"section_header_wrap\">\n",
       "<header class=\"c\" id=\"section_header\">\n",
       "<hgroup class=\"left\"> <h1> Meme Database </h1> <br/> <p>Browsing all 4,140 confirmed meme entries.</p> <br/> </hgroup> <p class=\"right\"> <a class=\"button large red\" href=\"/memes/new?guidelines=1\" rel=\"nofollow\">+ Add an Entry</a> </p> <div class=\"homepage-share\"> <div class=\"facebook-homepage-like\"> <div class=\"like-text\">Like us on Facebook!</div> <div class=\"fb-like\" data-href=\"https://facebook.com/knowyourmeme\" data-position=\"header\" data-ref=\"page-like\" data-send=\"false\" data-show-faces=\"false\" data-width=\"475\"></div> </div> </div>\n",
       "</header>\n",
       "</div>\n",
       "<div id=\"flashes\"> </div>\n",
       "<nav>\n",
       "<ul class=\"tabs\" id=\"entry-gallery-tabs\">\n",
       "<li class=\"current\">\n",
       "<a href=\"/memes\">Confirmed</a>\n",
       "</li>\n",
       "<li>\n",
       "<a href=\"/memes/submissions\">Submissions</a>\n",
       "</li>\n",
       "<li>\n",
       "<a href=\"/memes/researching\">Researching</a>\n",
       "</li>\n",
       "<li>\n",
       "<a href=\"/memes/newsworthy\">Newsworthy</a>\n",
       "</li>\n",
       "<li>\n",
       "<a href=\"/memes/popular\">Most Popular</a>\n",
       "</li>\n",
       "<li>\n",
       "<a href=\"/memes/deadpool\">Deadpool</a>\n",
       "</li>\n",
       "<li>\n",
       "<a href=\"/memes/all\">All Entries</a>\n",
       "</li>\n",
       "</ul>\n",
       "</nav>\n",
       "<div id=\"infinite-scroll-wrapper\">\n",
       "<section id=\"entries\">\n",
       "<div class=\"entry-sort-options\">\n",
       "<p>\n",
       "<span class=\"entry-sort-link-text\">Sorted by:</span>\n",
       "<a class=\"type-sort-link selected sort-link-tooltip\" href=\"/memes\" title=\"Show newest entries added to the site first\">Newest</a>\n",
       "<a class=\"type-sort-link sort-link-tooltip\" href=\"/memes?sort=oldest\" title=\"Show oldest entries added to the site first\">Oldest</a>\n",
       "<a class=\"type-sort-link\" href=\"/memes?sort=views\">Views</a>\n",
       "<a class=\"type-sort-link sort-link-tooltip\" href=\"/memes?sort=chronological\" title=\"Show oldest entries by year first\">Chronological</a>\n",
       "<a class=\"type-sort-link sort-link-tooltip\" href=\"/memes?sort=reverse-chronological\" title=\"Show newest entries by year first\">Reverse Chronological</a>\n",
       "<a class=\"type-sort-link\" href=\"/memes?sort=comments\">Comments</a>\n",
       "<a class=\"type-sort-link\" href=\"/memes?sort=images\">Images</a>\n",
       "<a class=\"type-sort-link\" href=\"/memes?sort=videos\">Videos</a>\n",
       "</p>\n",
       "</div>\n",
       "<div class=\"item_listings\" id=\"entries_list\">\n",
       "<table class=\"entry_list\"> <tbody class=\"entry-grid-body infinite\"> <tr> <td class=\"entry_27475\"> <a class=\"photo\" href=\"/memes/surprised-pikachu\"><img alt=\"Surprised Pikachu\" data-src=\"https://i.kym-cdn.com/entries/icons/medium/000/027/475/Screen_Shot_2018-10-25_at_11.02.15_AM.png\" src=\"https://s.kym-cdn.com/assets/blank-b3f96f160b75b1b49b426754ba188fe8.gif\" title=\"Surprised Pikachu\"/> <div class=\"entry-labels\"> </div> </a><h2> <a href=\"/memes/surprised-pikachu\">Surprised Pikachu</a> </h2> </td> <td class=\"entry_30780\"> <a class=\"photo\" href=\"/memes/cursed-emojis\"><img alt=\"Cursed Emojis\" data-src=\"https://i.kym-cdn.com/entries/icons/medium/000/030/780/cover8.jpg\" src=\"https://s.kym-cdn.com/assets/blank-b3f96f160b75b1b49b426754ba188fe8.gif\" title=\"Cursed Emojis\"/> <div class=\"entry-labels\"> </div> </a><h2> <a href=\"/memes/cursed-emojis\">Cursed Emojis</a> </h2> </td> <td class=\"entry_21813\"> <a class=\"photo\" href=\"/memes/folgers-brother-and-sister-commercial\"><img alt='Folgers \"Brother and Sister\" Commercial' data-src=\"https://i.kym-cdn.com/entries/icons/medium/000/021/813/folgers-brother-sister-commercial-matthew-alan-explained.jpg\" src=\"https://s.kym-cdn.com/assets/blank-b3f96f160b75b1b49b426754ba188fe8.gif\" title='Folgers \"Brother and Sister\" Commercial'/> <div class=\"entry-labels\"> </div> </a><h2> <a href=\"/memes/folgers-brother-and-sister-commercial\">Folgers \"Brother and Sister\" Commercial</a> </h2> </td> <td class=\"entry_19472\"> <a class=\"photo\" href=\"/memes/blini-cat\"><img alt=\"Blini Cat\" data-src=\"https://i.kym-cdn.com/entries/icons/medium/000/019/472/Screen_Shot_2019-12-04_at_3.23.56_PM.png\" src=\"https://s.kym-cdn.com/assets/blank-b3f96f160b75b1b49b426754ba188fe8.gif\" title=\"Blini Cat\"/> <div class=\"entry-labels\"> </div> </a><h2> <a href=\"/memes/blini-cat\">Blini Cat</a> </h2> </td> </tr> <tr> <td class=\"entry_23060\"> <a class=\"photo\" href=\"/memes/subcultures/petscop\"><img alt=\"Petscop\" data-src=\"https://i.kym-cdn.com/entries/icons/medium/000/023/060/Petscop_7-29_screenshot.png\" src=\"https://s.kym-cdn.com/assets/blank-b3f96f160b75b1b49b426754ba188fe8.gif\" title=\"Petscop\"/> <div class=\"entry-labels\"> <span class=\"label\" style=\"background: #5d1cb1; color: white;\">Subculture</span> </div> </a><h2> <a href=\"/memes/subcultures/petscop\">Petscop</a> </h2> </td> <td class=\"entry_27627\"> <a class=\"photo\" href=\"/memes/short-tyler1\"><img alt=\"Short Tyler1\" data-src=\"https://i.kym-cdn.com/entries/icons/medium/000/027/627/tyler.jpg\" src=\"https://s.kym-cdn.com/assets/blank-b3f96f160b75b1b49b426754ba188fe8.gif\" title=\"Short Tyler1\"/> <div class=\"entry-labels\"> </div> </a><h2> <a href=\"/memes/short-tyler1\">Short Tyler1</a> </h2> </td> <td class=\"entry_12468\"> <a class=\"photo\" href=\"/memes/epic-handshake\"><img alt=\"Epic Handshake\" data-src=\"https://i.kym-cdn.com/entries/icons/medium/000/012/468/shakeee.jpg\" src=\"https://s.kym-cdn.com/assets/blank-b3f96f160b75b1b49b426754ba188fe8.gif\" title=\"Epic Handshake\"/> <div class=\"entry-labels\"> </div> </a><h2> <a href=\"/memes/epic-handshake\">Epic Handshake</a> </h2> </td> <td class=\"entry_31656\"> <a class=\"photo\" href=\"/memes/ok-boomer\"><img alt=\"OK Boomer\" data-src=\"https://i.kym-cdn.com/entries/icons/medium/000/031/656/cover5.jpg\" src=\"https://s.kym-cdn.com/assets/blank-b3f96f160b75b1b49b426754ba188fe8.gif\" title=\"OK Boomer\"/> <div class=\"entry-labels\"> </div> </a><h2> <a href=\"/memes/ok-boomer\">OK Boomer</a> </h2> </td> </tr> <tr> <td colspan=\"4\"> <div class=\"combo-wrapper\"> <div class=\"combo-left\"> <a class=\"promotion-widget\" data-name=\"Woman Yelling at a Cat Pillow\" href=\"https://store.knowyourmeme.com/products/women-yelling-at-a-cat-throw-pillow?_pos=1&amp;_sid=8f3e4c8ec&amp;_ss=r&amp;utm_campaign=WomanYellingAtaCat\" target=\"_blank\"><img alt=\"Woman Yelling at a Cat Pillow\" data-src=\"https://i.kym-cdn.com/promotions/images/wide/000/000/012/e76.png\" height=\"250\" src=\"https://s.kym-cdn.com/assets/blank-b3f96f160b75b1b49b426754ba188fe8.gif\" title=\"Woman Yelling at a Cat Pillow\" width=\"350\"/> </a></div> <div class=\"combo-right\"> <div class=\"rectangle-unit-wrapper complex-ad-wrapper\"> <div class=\"complex-rectangle-unit complex-ad\" data-complex=\"true\" data-dfp-lazy=\"true\" data-dfp-name=\"kym_ros_mtf_mediumrect\" data-dfp-size=\"[300, 250]\" data-dynamic=\"true\" data-name=\"300x250\" data-options='{\"containerId\":\"rectangle-unit-entries-index-1-page-1\",\"lazyLoad\":true}' id=\"rectangle-unit-entries-index-1-page-1\"></div> </div> </div> <div class=\"clearfix\"></div> </div> </td> </tr> <tr> <td class=\"entry_23744\"> <a class=\"photo\" href=\"/memes/double-ds-facts-book\"><img alt=\"Double D's Facts Book\" data-src=\"https://i.kym-cdn.com/entries/icons/medium/000/023/744/20954030_831592997016553_6062127520271218546_n_-_Edited_(1).jpg\" src=\"https://s.kym-cdn.com/assets/blank-b3f96f160b75b1b49b426754ba188fe8.gif\" title=\"Double D's Facts Book\"/> <div class=\"entry-labels\"> </div> </a><h2> <a href=\"/memes/double-ds-facts-book\">Double D's Facts Book</a> </h2> </td> <td class=\"entry_31124\"> <a class=\"photo\" href=\"/memes/dont-dead-open-inside\"><img alt=\"Don't Dead Open Inside\" data-src=\"https://i.kym-cdn.com/entries/icons/medium/000/031/124/1aP7omzYv5xfFz9E3EWNIL8NJqFBoSuh0HobfpNTHHQ.jpg\" src=\"https://s.kym-cdn.com/assets/blank-b3f96f160b75b1b49b426754ba188fe8.gif\" title=\"Don't Dead Open Inside\"/> <div class=\"entry-labels\"> </div> </a><h2> <a href=\"/memes/dont-dead-open-inside\">Don't Dead Open Inside</a> </h2> </td> <td class=\"entry_25999\"> <a class=\"photo\" href=\"/memes/fat-yoshi\"><img alt=\"Fat Yoshi\" data-src=\"https://i.kym-cdn.com/entries/icons/medium/000/025/999/Screen_Shot_2018-04-24_at_1.33.44_PM.png\" src=\"https://s.kym-cdn.com/assets/blank-b3f96f160b75b1b49b426754ba188fe8.gif\" title=\"Fat Yoshi\"/> <div class=\"entry-labels\"> </div> </a><h2> <a href=\"/memes/fat-yoshi\">Fat Yoshi</a> </h2> </td> <td class=\"entry_20466\"> <a class=\"photo\" href=\"/memes/marisaface-kanmarisa\"><img alt=\"Marisaface / Kanmarisa\" data-src=\"https://i.kym-cdn.com/entries/icons/medium/000/020/466/marimeme_7.jpg\" src=\"https://s.kym-cdn.com/assets/blank-b3f96f160b75b1b49b426754ba188fe8.gif\" title=\"Marisaface / Kanmarisa\"/> <div class=\"entry-labels\"> </div> </a><h2> <a href=\"/memes/marisaface-kanmarisa\">Marisaface / Kanmarisa</a> </h2> </td> </tr> <tr> <td class=\"entry_30157\"> <a class=\"photo\" href=\"/memes/woman-yelling-at-a-cat\"><img alt=\"Woman Yelling at a Cat\" data-src=\"https://i.kym-cdn.com/entries/icons/medium/000/030/157/womanyellingcat.jpg\" src=\"https://s.kym-cdn.com/assets/blank-b3f96f160b75b1b49b426754ba188fe8.gif\" title=\"Woman Yelling at a Cat\"/> <div class=\"entry-labels\"> </div> </a><h2> <a href=\"/memes/woman-yelling-at-a-cat\">Woman Yelling at a Cat</a> </h2> </td> <td class=\"entry_29174\"> <a class=\"photo\" href=\"/memes/subcultures/joker-2019-film\"><img alt=\"Joker (2019 Film)\" data-src=\"https://i.kym-cdn.com/entries/icons/medium/000/029/174/jokerposter.jpg\" src=\"https://s.kym-cdn.com/assets/blank-b3f96f160b75b1b49b426754ba188fe8.gif\" title=\"Joker (2019 Film)\"/> <div class=\"entry-labels\"> <span class=\"label\" style=\"background: #5d1cb1; color: white;\">Subculture</span> </div> </a><h2> <a href=\"/memes/subcultures/joker-2019-film\">Joker (2019 Film)</a> </h2> </td> <td class=\"entry_18492\"> <a class=\"photo\" href=\"/memes/wow-hot-a-what-baabhabhiat\"><img alt=\"WOW! HOT a What Baabhabhiat\" data-src=\"https://i.kym-cdn.com/entries/icons/medium/000/018/492/WOW!_HOT_a_What_Baabhabhiat.png\" src=\"https://s.kym-cdn.com/assets/blank-b3f96f160b75b1b49b426754ba188fe8.gif\" title=\"WOW! HOT a What Baabhabhiat\"/> <div class=\"entry-labels\"> </div> </a><h2> <a href=\"/memes/wow-hot-a-what-baabhabhiat\">WOW! HOT a What Baabhabhiat</a> </h2> </td> <td class=\"entry_13636\"> <a class=\"photo\" href=\"/memes/dean-mccoppin-mug\"><img alt=\"Dean McCoppin Mug\" data-src=\"https://i.kym-cdn.com/entries/icons/medium/000/013/636/12312312313213321.png\" src=\"https://s.kym-cdn.com/assets/blank-b3f96f160b75b1b49b426754ba188fe8.gif\" title=\"Dean McCoppin Mug\"/> <div class=\"entry-labels\"> </div> </a><h2> <a href=\"/memes/dean-mccoppin-mug\">Dean McCoppin Mug</a> </h2> </td> </tr> </tbody> </table>\n",
       "</div>\n",
       "<aside><div class=\"pagination_bottom c\"><div class=\"pagination\"><span class=\"previous_page disabled\">Previous</span> <em class=\"current\">1</em> <a href=\"/memes/page/2\" rel=\"next\">2</a> <a href=\"/memes/page/3\">3</a> <a href=\"/memes/page/4\">4</a> <a href=\"/memes/page/5\">5</a> <a href=\"/memes/page/6\">6</a> <a href=\"/memes/page/7\">7</a> <a href=\"/memes/page/8\">8</a> <a href=\"/memes/page/9\">9</a> <span class=\"gap\"></span> <a href=\"/memes/page/258\">258</a> <a href=\"/memes/page/259\">259</a> <a class=\"next_page\" href=\"/memes/page/2\" rel=\"next\">Next</a></div></div></aside>\n",
       "</section>\n",
       "</div>\n",
       "</div>\n",
       "<aside class=\"right\" id=\"sidebar\">\n",
       "<div class=\"sidebar_box c\" id=\"entry-categories-sidebar\"> <h3> <a data-category=\"Heading\" href=\"/categories\">Entry Categories</a> </h3> <a class=\"sidebar-category-badge\" data-category=\"Events\" href=\"/categories/event\" style=\"background: #0b6a40; color: white;\">Events <span>1,926</span></a> <a class=\"sidebar-category-badge\" data-category=\"Memes\" href=\"/categories/meme\" style=\"background: #220a51; color: white;\">Memes <span>17,736</span></a> <a class=\"sidebar-category-badge\" data-category=\"People\" href=\"/categories/person\" style=\"background: #d32f2e; color: white;\">People <span>1,599</span></a> <a class=\"sidebar-category-badge\" data-category=\"Sites\" href=\"/categories/site\" style=\"background: #e09f02; color: white;\">Sites <span>527</span></a> <a class=\"sidebar-category-badge\" data-category=\"Subcultures\" href=\"/categories/subculture\" style=\"background: #5d1cb1; color: white;\">Subcultures <span>1,806</span></a> </div> <div class=\"rectangle-unit-wrapper complex-ad-wrapper\"> <div class=\"complex-rectangle-unit complex-ad\" data-complex=\"true\" data-dfp-name=\"kym_ros_atf_mediumrect\" data-dfp-size=\"[300, 250]\" data-name=\"300x250,300x600\" data-options='{\"containerId\":\"rectangle-unit-1\",\"lazyLoad\":true}' id=\"rectangle-unit-1\"></div> </div> <div class=\"sidebar_box c\" id=\"popular_galleries\"> <h3> Today's Top Image Galleries </h3> <table> <tr class=\"row-1\"> <td> <a href=\"/memes/cats-2019-film/photos/trending\" rel=\"nofollow\"><img alt=\"198b\" class=\"top-gallery-thumbnail\" data-src=\"https://i.kym-cdn.com/entries/icons/mobile/000/030/456/198b.jpg\" height=\"90\" src=\"https://s.kym-cdn.com/assets/blank-b3f96f160b75b1b49b426754ba188fe8.gif\" width=\"144\"/></a> <h4> <a href=\"/memes/cats-2019-film/photos/trending\" rel=\"nofollow\">Cats (2019 Film)</a> </h4> </td> <td> <a href=\"/memes/ara-ara/photos/trending\" rel=\"nofollow\"><img alt=\"Cover4\" class=\"top-gallery-thumbnail\" data-src=\"https://i.kym-cdn.com/entries/icons/mobile/000/029/968/cover4.jpg\" height=\"90\" src=\"https://s.kym-cdn.com/assets/blank-b3f96f160b75b1b49b426754ba188fe8.gif\" width=\"144\"/></a> <h4> <a href=\"/memes/ara-ara/photos/trending\" rel=\"nofollow\">Ara Ara</a> </h4> </td> </tr> <tr class=\"row-2\"> <td> <a href=\"/memes/pokemon-sword-and-shield/photos/trending\" rel=\"nofollow\"><img alt=\"3505505-pokemon-sword-and-shield\" class=\"top-gallery-thumbnail\" data-src=\"https://i.kym-cdn.com/entries/icons/mobile/000/028/736/3505505-pokemon-sword-and-shield.jpg\" height=\"90\" src=\"https://s.kym-cdn.com/assets/blank-b3f96f160b75b1b49b426754ba188fe8.gif\" width=\"144\"/></a> <h4> <a href=\"/memes/pokemon-sword-and-shield/photos/trending\" rel=\"nofollow\">Pokémon Sword and Shield</a> </h4> </td> <td> <a href=\"/memes/star-wars/photos/trending\" rel=\"nofollow\"><img alt=\"Starwars\" class=\"top-gallery-thumbnail\" data-src=\"https://i.kym-cdn.com/entries/icons/mobile/000/007/286/starwars.jpg\" height=\"90\" src=\"https://s.kym-cdn.com/assets/blank-b3f96f160b75b1b49b426754ba188fe8.gif\" width=\"144\"/></a> <h4> <a href=\"/memes/star-wars/photos/trending\" rel=\"nofollow\">Star Wars</a> </h4> </td> </tr> </table> </div> <div class=\"sidebar_box c\" id=\"researching-entries\"> <h3> <a href=\"/memes/researching\">Researching Now</a> </h3> <a href=\"/memes/events/cod-modern-warfare-highway-of-death-controversy\" rel=\"nofollow\"><img alt=\"Cover5\" class=\"gallery_icon\" data-src=\"https://i.kym-cdn.com/entries/icons/tiny/000/031/681/cover5.jpg\" height=\"42\" src=\"https://s.kym-cdn.com/assets/blank-b3f96f160b75b1b49b426754ba188fe8.gif\" width=\"42\"/></a> <div class=\"topic\"> <h6> <a href=\"/memes/events/cod-modern-warfare-highway-of-death-controversy\" rel=\"nofollow\">CoD: Modern Warfare Highway of Death Controversy</a> </h6> <div class=\"stats\"> <dl> <dd class=\"views\" title=\"1,727 views\"> <a href=\"/memes/events/cod-modern-warfare-highway-of-death-controversy\" rel=\"nofollow\">1,727 views</a> </dd> </dl> </div> </div> <div class=\"c\"></div> <a href=\"/memes/dancing-joker\" rel=\"nofollow\"><img alt=\"Cover7\" class=\"gallery_icon\" data-src=\"https://i.kym-cdn.com/entries/icons/tiny/000/031/557/cover7.jpg\" height=\"42\" src=\"https://s.kym-cdn.com/assets/blank-b3f96f160b75b1b49b426754ba188fe8.gif\" width=\"42\"/></a> <div class=\"topic\"> <h6> <a href=\"/memes/dancing-joker\" rel=\"nofollow\">Dancing Joker</a> </h6> <div class=\"stats\"> <dl> <dd class=\"views\" title=\"11,274 views\"> <a href=\"/memes/dancing-joker\" rel=\"nofollow\">11,274 views</a> </dd> </dl> </div> </div> <div class=\"c\"></div> <a href=\"/memes/i-cant-take-it-anymore-seriously-im-at-my-limit\" rel=\"nofollow\"><img alt=\"Cover9\" class=\"gallery_icon\" data-src=\"https://i.kym-cdn.com/entries/icons/tiny/000/031/532/cover9.jpg\" height=\"42\" src=\"https://s.kym-cdn.com/assets/blank-b3f96f160b75b1b49b426754ba188fe8.gif\" width=\"42\"/></a> <div class=\"topic\"> <h6> <a href=\"/memes/i-cant-take-it-anymore-seriously-im-at-my-limit\" rel=\"nofollow\">I Can't Take It Anymore, Seriously I'm at My Limit</a> </h6> <div class=\"stats\"> <dl> <dd class=\"views\" title=\"6,630 views\"> <a href=\"/memes/i-cant-take-it-anymore-seriously-im-at-my-limit\" rel=\"nofollow\">6,630 views</a> </dd> </dl> </div> </div> <div class=\"c\"></div> <a href=\"/memes/in-the-gaming-world-you-are-the-loser\" rel=\"nofollow\"><img alt=\"Cover8\" class=\"gallery_icon\" data-src=\"https://i.kym-cdn.com/entries/icons/tiny/000/031/531/cover8.jpg\" height=\"42\" src=\"https://s.kym-cdn.com/assets/blank-b3f96f160b75b1b49b426754ba188fe8.gif\" width=\"42\"/></a> <div class=\"topic\"> <h6> <a href=\"/memes/in-the-gaming-world-you-are-the-loser\" rel=\"nofollow\">In the Gaming World, You Are the Loser</a> </h6> <div class=\"stats\"> <dl> <dd class=\"views\" title=\"2,053 views\"> <a href=\"/memes/in-the-gaming-world-you-are-the-loser\" rel=\"nofollow\">2,053 views</a> </dd> </dl> </div> </div> <div class=\"c\"></div> <a href=\"/memes/did-you-seriously-talk-during-independent-reading-time\" rel=\"nofollow\"><img alt=\"Cover7\" class=\"gallery_icon\" data-src=\"https://i.kym-cdn.com/entries/icons/tiny/000/031/530/cover7.jpg\" height=\"42\" src=\"https://s.kym-cdn.com/assets/blank-b3f96f160b75b1b49b426754ba188fe8.gif\" width=\"42\"/></a> <div class=\"topic\"> <h6> <a href=\"/memes/did-you-seriously-talk-during-independent-reading-time\" rel=\"nofollow\">Did You Seriously Talk During Independent Reading Time</a> </h6> <div class=\"stats\"> <dl> <dd class=\"views\" title=\"3,655 views\"> <a href=\"/memes/did-you-seriously-talk-during-independent-reading-time\" rel=\"nofollow\">3,655 views</a> </dd> </dl> </div> </div> <div class=\"c\"></div> </div> <div class=\"sticky-sidebar\"> <div class=\"rectangle-unit-wrapper complex-ad-wrapper\"> <div class=\"complex-rectangle-unit complex-ad\" data-complex=\"true\" data-dfp-lazy=\"true\" data-dfp-name=\"kym_ros_sticky\" data-dfp-refreshable=\"true\" data-dfp-size=\"[300, 250]\" data-name=\"300x250\" data-options='{\"containerId\":\"rectangle-unit-sticky\",\"lazyLoad\":true}' id=\"rectangle-unit-sticky\"></div> </div> <div class=\"like_box\"> <div class=\"fb-page fb-page-like-sidebar\" data-adapt-container-width=\"false\" data-hide-cover=\"true\" data-href=\"https://www.facebook.com/knowyourmeme\" data-position=\"like-box\" data-show-facepile=\"false\" data-small-header=\"true\" data-width=\"300\"></div> </div> <div id=\"disable-infinite-scroll-button\"> <a class=\"large green button\" href=\"javascript:;\">Infinite Scroll <i class=\"fa fa-check-square-o\"></i> </a></div> <div class=\"privacy-policy\"> <a href=\"/privacy\" rel=\"nofollow\" target=\"_blank\">Privacy Policy</a> </div> </div>\n",
       "</aside>\n",
       "</div>\n",
       "<script id=\"44972b8b1c3142478b59b73e21224fbc\"></script>\n",
       "<script async=\"\" data-cfasync=\"false\" src=\"https://api.b2c.com/api/init-40069ffybbzfqiynrkd.js\"></script> <noscript> <img src=\"https://api.b2c.com/api/noscript-40069ffybbzfqiynrkd.gif\"/> </noscript>\n",
       "<footer id=\"footer\"> <div class=\"wrap\"> <table id=\"footer_boxes\"> <tr> <td class=\"footer_box\"> <h5>About KYM</h5> <ul> <li> <a href=\"/about\">Our Story</a> </li> <li> <a href=\"/editorials/rules-and-guidelines/\">Site Rules</a> </li> <li> <a href=\"/credits\">Credits</a> </li> <li> <a href=\"/contact\">Contact</a> </li> </ul> </td> <td class=\"footer_box\"> <h5>Meme DB</h5> <ul> <li> <a href=\"/memes\">Memes</a> </li> <li> <a href=\"/episodes\">Episodes</a> </li> <li> <a href=\"/editorials\">Editorials</a> </li> <li> <a href=\"/photos\">Images</a> </li> <li> <a href=\"/videos\">Videos</a> </li> </ul> </td> <td class=\"footer_box\"> <h5>KYM News</h5> <ul> <li> <a href=\"/news\">Newsfeed</a> </li> <li> <a href=\"/news/staff\">Staff</a> </li> <li> <a href=\"/news/contact\">Contact</a> </li> </ul> </td> <td class=\"footer_box\"> <h5>Extras!</h5> <ul> <li> <a href=\"/chat\" rel=\"nofollow\">Chat</a> </li> <li> <a href=\"/forums\">Forums</a> </li> <li> <a href=\"/editorials/the-style-guide\">Style Guide</a> </li> <li> <a href=\"/subscribe\">RSS Feeds</a> </li> </ul> </td> <td class=\"footer_box\"> <h5>KYM Social</h5> <ul> <li> <a href=\"https://www.facebook.com/knowyourmeme\" rel=\"nofollow\" target=\"_blank\">Facebook</a> </li> <li> <a href=\"https://www.pinterest.com/knowyourmeme/\" rel=\"nofollow\" target=\"_blank\">Pinterest</a> </li> <li> <a href=\"https://twitter.com/knowyourmeme\" rel=\"nofollow\" target=\"_blank\">Twitter</a> </li> <li> <a href=\"https://www.youtube.com/user/KnowYourMeme\" rel=\"nofollow\" target=\"_blank\">YouTube</a> </li> <li> <a href=\"http://tumblr.knowyourmeme.com\" rel=\"nofollow\" target=\"_blank\">Tumblr</a> </li> </ul> </td> </tr> </table> </div> </footer> <div id=\"sub_network_footer_wrapper\"> <div id=\"subnetworkfooter\"> <p class=\"footerlinks\"> <strong> Legal Information: </strong> <a href=\"/\" rel=\"nofollow\" target=\"_blank\">Know Your Meme ®</a> is a trademark of <a href=\"http://literally.media\" rel=\"nofollow\" target=\"_blank\">Literally Media Ltd.</a> By using this site, you are agreeing by the site's <a href=\"/terms-of-service\" rel=\"nofollow\" target=\"_blank\">terms of use</a> and <a href=\"/privacy\" rel=\"nofollow\" target=\"_blank\">privacy policy</a> and <a href=\"/dmca\" rel=\"nofollow\" target=\"_blank\">DMCA policy</a>. <br/> © 2007-2019 <a href=\"http://literally.media\" target=\"_blank\">Literally Media Ltd.</a> </p> </div> </div>\n",
       "<div class=\"hide\"> <div id=\"login_signup_form\"> <h3>Word Up! You must login or signup first!</h3> <table> <tr> <td class=\"login\"> <h6>Already a memeber?</h6> <p><a class=\"large red button\" href=\"/login\" rel=\"nofollow\">Login Now!</a></p> </td> <td class=\"signup\"> <h6>Don't have an account?</h6> <p><a class=\"large red button\" href=\"/signup\" rel=\"nofollow\">Sign up Now!</a></p> </td> </tr> </table> </div> </div> <div class=\"hide\"> <div id=\"abm\"> <a href=\"/whitelist-us\" id=\"abm-image-link\" rel=\"nofollow\" target=\"_blank\"><img alt=\"Abm\" data-src=\"https://s.kym-cdn.com/assets/abm-5e4f6f4a89609dcba11dbc32772815cc.png\" height=\"800\" id=\"abm-image\" src=\"https://s.kym-cdn.com/assets/blank-b3f96f160b75b1b49b426754ba188fe8.gif\" width=\"800\"/> </a><p> <a href=\"javascript:;\" id=\"abm-close-text\" rel=\"nofollow\">No thanks, take me back to the meme zone!</a> </p> </div> </div> <script type=\"text/javascript\">var _qevents = _qevents || []; (function() { var elem = document.createElement('script'); elem.src = (document.location.protocol == \"https:\" ? \"https://secure\" : \"http://edge\") + \".quantserve.com/quant.js\"; elem.async = true; elem.type = \"text/javascript\"; var scpt = document.getElementsByTagName('script')[0]; scpt.parentNode.insertBefore(elem, scpt); })(); _qevents.push([{ qacct:\"p-75z9nhQwNH4Ek\" }, { qacct:\"p-149W7Ang9fLCQ\" }]);</script> <noscript> <div style=\"display: none;\"> <img alt=\"Quantcast\" border=\"0\" height=\"1\" src=\"https://pixel.quantserve.com/pixel?a.1=p-75z9nhQwNH4Ek&amp;a.2=p-149W7Ang9fLCQ\" style=\"display: none;\" width=\"1\"/> </div> </noscript> <script type=\"text/javascript\">var _comscore = _comscore || []; _comscore.push({ c1: \"2\", c2: \"6685975\" }); (function() { var s = document.createElement(\"script\"), el = document.getElementsByTagName(\"script\")[0]; s.async = true; s.src = (document.location.protocol == \"https:\" ? \"https://sb\" : \"http://b\") + \".scorecardresearch.com/beacon.js\"; el.parentNode.insertBefore(s, el); })();</script> <noscript> <img src=\"https://sb.scorecardresearch.com/p?c1=2&amp;c2=6685975&amp;cv=2.0&amp;cj=1\"/> </noscript> <div data-sections=\"Entry Galleries\" id=\"chartbeat-sections\"></div> <script type=\"text/javascript\"> (function() { var _sf_async_config = window._sf_async_config = (window._sf_async_config || {}); _sf_async_config.uid = 6425; _sf_async_config.domain = 'knowyourmeme.com'; _sf_async_config.useCanonical = true; _sf_async_config.useCanonicalDomain = true; _sf_async_config.flickerControl = false; _sf_async_config.sections = 'Entry Galleries'; _sf_async_config.authors = ''; var _cbq = window._cbq = (window._cbq || []); _cbq.push(['_acct', 'anon']); function loadChartbeat() { var e = document.createElement('script'); var n = document.getElementsByTagName('script')[0]; e.type = 'text/javascript'; e.async = true; e.src = '//static.chartbeat.com/js/chartbeat.js'; n.parentNode.insertBefore(e, n); } loadChartbeat(); })(); </script> <script src=\"https://z-na.amazon-adsystem.com/widgets/onejs?MarketPlace=US&amp;adInstanceId=65fbfb71-0187-4864-a8c1-a476d6acab1e\" type=\"text/javascript\"></script>\n",
       "<div class=\"social-data\" data-media=\"https://s.kym-cdn.com/assets/kym-logo-large.png\" data-url=\"https://knowyourmeme.com/memes\"></div>\n",
       "<div class=\"complex-ad-wrapper adhesion hide\"> <div class=\"adhesion-dismissal\"> <a href=\"#\" id=\"adhesion_dismiss\">Close [X]</a> </div> <div class=\"complex-ad\" data-complex=\"false\" data-dfp-name=\"kym_adhesion_desktop\" data-dfp-size=\"[728, 90]\" data-options='{\"containerId\":\"kym_adhesion\"}' id=\"kym_adhesion\"></div> </div>\n",
       "<div class=\"complex-ad-wrapper\"> <div class=\"complex-ad\" data-complex=\"false\" data-dfp-name=\"kym_richmedia\" data-dfp-size=\"[1, 1]\" data-options='{\"containerId\":\"kym_richmedia\"}' id=\"kym_richmedia\"></div> </div>\n",
       "<script> /* Wrapper for Literally Media, generated on 2019-11-25T15:40:55-05:00 */ (function() { var w = window; var h = 'clarium.global.ssl.fastly.net'; w._clrm = w._clrm || {}; w._clrm.gpt = { propertyId: 'zCdiKPLKiwKRxWqZa-k8kbxaUnM', confiantCdn: h, sandbox: 0, mapping: 'W3siaSI6MiwidCI6Int7b319Ont7d319eHt7aH19IiwicCI6MCwiRCI6MSwiciI6W119LHsiaSI6NiwidCI6Int7Y299fTp7e3d9fXh7e2h9fSIsInAiOjUwLCJEIjowLCJyIjpbeyJ0IjoiZXgiLCJzIjpudWxsLCJ2IjoiY28ifV19XQ==', activation: '|||MjQxNTA1NTA4Mg==,|||MjQxNTA2NTIzNA==,|co|ex|MQ==,|||Mzg1NTU4NDU1,|||MjQ4NDIwOTk3NQ==,|||MjQ4NTExNDIyNw==,|||MjQ4NDYwMDEyMQ==,|||MjQ4NDYwMDY5MQ==,|||MjQ4NDYwMTgzNw==,|||MjQ4NTExOTgzNA==,|||MjQ4NDU5MTM0OQ==,|||MjQ4NTEwODI5Mw==,|||MjQ4NTEwODk4MA==,|||MjQ4NTEyMDQ3OQ==,|||MjQ4NDIyMDI5OA==,|||MjQ4NDIyMjIxNQ==,|||MjQ4NDYwMjU2MA==,|||MjQ4NTEyMDA1Ng==,|||MjQ4NDIwMjQ3Mg==,|||MjI1NDg0NDA3Mg==,|||MjQ4NDIwMTgzNg==,|||MjQ4NDIwNDY3MQ==,|||MjQ4NDE5ODk0Nw==,|||MjQ0MzU2MjU2Mg==,|||NTczODAxODUy,|||MjQ4NzQ4NzQzOQ==,|||MjQ4NzQ4NDIyMA==,|||MjQ4NjU3NjYyOA==,|||MjQ4NTYzMjkxMQ==,|||MjQ4NjAyMDU0MA==,|||MjQ4NjU3Mjc0Ng==,|||MjQ4NTYzMDUyMw==,|||MjQ4NTYyNTk3NQ==,|||MjQ4NTYyNzM4NQ==,|||MjQ4NjA1NzUwOQ==,|||MjQ4NTY2MTI2NA==,|||MjQ4NjU5Njc4NQ==,|||MjQ4NTYyMDEzNA==,|||MjQ4NjU2MTc0Mg==,|||MjQ4NTYyMDEzNw==,|||MjQ4NjYwNjYxMw==,|||MjQ4NTYzOTM0MA==,|||MjQ4NjYwNjYxNg==,|||MjQ4NTY2ODIzOQ==,|||MjQ4NTY2ODM2Mg==,|||MjQ4NTY2ODM2NQ==,|||MjQ4NjU3OTc0OA==,|||MjQ4NTY0MDU1Mg==,|||MjUyOTY3MzU2Mw==,|||MjUyODcxNDI4OA==,|||MjUyODcxNDI5MQ==,|||MjUyODcwOTgzMA==,|||MjUyOTY3MTk0Mw==,|||MjUyOTI3NDc0MQ==,|||MjU5MzY1MDY3Nw==,|||MjU5NDAzNjU0Mg==,|||MjU5MzY2MDcwMA==,|||MjU5NDA0NTk5NQ==,|||MjU5NDUwNTk2MA==,|||MjU5NDUwNTk2Mw==,|||MjU5NDAyMDQ5Mg==,|||MjU5NDUwMTQyNA==,|||MjU5NDA0MTM5OQ==,|||MjU5NDUyNDcxNg==,|||MjU5NDU0MDA2MQ==,|||MjU5MzY3MTA0NA==,|||MjQ4NzUzNDcxMw==,|||MjQ4NzUzNzUzMA==,|||MjQ4NzU0NDUwNQ==,|||MjQ4NzUzMDA0OA==,|||NTQ2NTQwOTcy,|||NTQ2OTMzODUy,|||NTQ2OTM0MDky,|||NTQ2OTM0NTcy,|||NTQ2OTM1Mjky,|||NTQ2OTM1Nzcy,|||NTQ2OTM2MDEy', callback: function(blockingType, blockingId, isBlocked, wrapperId, tagId, impressionData) { console.log(\"w00t one more bad ad nixed.\", arguments); } }; var e = document.createElement('script'); e.async = true; e.src = '//' + h + '/gpt/a/wrap.js?v2_1'; var s = document.getElementsByTagName('script')[0]; s.parentNode.insertBefore(e, s); })(); </script>\n",
       "</body>\n",
       "</html>"
      ]
     },
     "execution_count": 6,
     "metadata": {},
     "output_type": "execute_result"
    }
   ],
   "source": [
    "soup = BeautifulSoup(request.text)\n",
    "soup"
   ]
  },
  {
   "cell_type": "markdown",
   "metadata": {},
   "source": [
    "Попробуем найти первый тэг ```<a>```."
   ]
  },
  {
   "cell_type": "code",
   "execution_count": 7,
   "metadata": {},
   "outputs": [
    {
     "data": {
      "text/plain": [
       "<a href=\"/\" title=\"Know Your Meme\"></a>"
      ]
     },
     "execution_count": 7,
     "metadata": {},
     "output_type": "execute_result"
    }
   ],
   "source": [
    "soup.find('a')"
   ]
  },
  {
   "cell_type": "markdown",
   "metadata": {},
   "source": [
    "Для того, чтобы получить содержимое тэга тоже ничего придумывать не надо. Достаточно обратиться к полю text. В этом случае поле пустое."
   ]
  },
  {
   "cell_type": "code",
   "execution_count": 8,
   "metadata": {},
   "outputs": [
    {
     "data": {
      "text/plain": [
       "''"
      ]
     },
     "execution_count": 8,
     "metadata": {},
     "output_type": "execute_result"
    }
   ],
   "source": [
    "soup.find('a').text"
   ]
  },
  {
   "cell_type": "markdown",
   "metadata": {},
   "source": [
    "Однако, что есть \"полезного\" в этом тэге - содержимое его аттрибута ```title```. Его можно получить, вызвав ```get(attr)```, где ```attr``` - название аттрибута."
   ]
  },
  {
   "cell_type": "code",
   "execution_count": 9,
   "metadata": {},
   "outputs": [
    {
     "data": {
      "text/plain": [
       "'Know Your Meme'"
      ]
     },
     "execution_count": 9,
     "metadata": {},
     "output_type": "execute_result"
    }
   ],
   "source": [
    "soup.find('a').get('title')"
   ]
  },
  {
   "cell_type": "markdown",
   "metadata": {},
   "source": [
    "Применим полученные знания для того, чтобы получить ссылки на мемы.  \n",
    "Что нам нужно?\n",
    "* Найти все теги ```<a>```, ведущие на страницы мемов\n",
    "* Вытащить ссылку из аттрибута ```href```.  \n",
    "Изучив код страницы с помощью браузера, выясним, что все тэги ```<a>```, которые ведут на желанные мемы, имеют аттрибут ```class = \"photo\"```.\n",
    "\n",
    "Переберем все тэги ```<a>``` на странице и, если они имеют нужный аттрибут, сохраним ссылку в список.\n",
    "\n",
    "Конечно, этот код можно было уместить в одну строку генератором, но оставим \"развернутый\" код."
   ]
  },
  {
   "cell_type": "code",
   "execution_count": 10,
   "metadata": {},
   "outputs": [
    {
     "name": "stdout",
     "output_type": "stream",
     "text": [
      "http://knowyourmeme.com/memes/surprised-pikachu\n",
      "http://knowyourmeme.com/memes/cursed-emojis\n",
      "http://knowyourmeme.com/memes/folgers-brother-and-sister-commercial\n",
      "http://knowyourmeme.com/memes/blini-cat\n",
      "http://knowyourmeme.com/memes/subcultures/petscop\n",
      "http://knowyourmeme.com/memes/short-tyler1\n",
      "http://knowyourmeme.com/memes/epic-handshake\n",
      "http://knowyourmeme.com/memes/ok-boomer\n",
      "http://knowyourmeme.com/memes/double-ds-facts-book\n",
      "http://knowyourmeme.com/memes/dont-dead-open-inside\n",
      "http://knowyourmeme.com/memes/fat-yoshi\n",
      "http://knowyourmeme.com/memes/marisaface-kanmarisa\n",
      "http://knowyourmeme.com/memes/woman-yelling-at-a-cat\n",
      "http://knowyourmeme.com/memes/subcultures/joker-2019-film\n",
      "http://knowyourmeme.com/memes/wow-hot-a-what-baabhabhiat\n",
      "http://knowyourmeme.com/memes/dean-mccoppin-mug\n"
     ]
    }
   ],
   "source": [
    "url = 'http://knowyourmeme.com'\n",
    "memes_links = []\n",
    "for a in soup.find_all('a'):\n",
    "    if a.get('class') == ['photo']:\n",
    "        link = url + a.get('href')\n",
    "        memes_links.append(link)\n",
    "        \n",
    "for link in memes_links:\n",
    "    print(link)"
   ]
  },
  {
   "cell_type": "markdown",
   "metadata": {},
   "source": [
    "Отлично! Большая часть работы выполнена. Осталось понять, как скрипт будет перемещаться от страницы к странице.\n",
    "## 1.3. Перемещение между страницами  \n",
    "Нетрудно заметить, что при скроллинге каждые 16 мемов подгружается новая страница с мемами и меняется url. Получается что, чтобы получить мемы с опредленной страницы, нужно просто указать ее номер после ```http://knowyourmeme.com/memes/page/```. Проверим нашу *теорию*, попробовав загрузить мемы с первых трех страниц."
   ]
  },
  {
   "cell_type": "code",
   "execution_count": 11,
   "metadata": {},
   "outputs": [
    {
     "name": "stdout",
     "output_type": "stream",
     "text": [
      "\n",
      "Page 1:\n",
      "Found 16 memes\n",
      "\n",
      "Page 2:\n",
      "Found 16 memes\n",
      "\n",
      "Page 3:\n",
      "Found 16 memes\n"
     ]
    }
   ],
   "source": [
    "page_template = 'http://knowyourmeme.com/memes/page/{}'\n",
    "for page in range(1,4):\n",
    "    # Formatting page url\n",
    "    page_url = page_template.format(page)\n",
    "    # Creating request\n",
    "    r = requests.get(page_url, headers=header)\n",
    "    # Brewing soup\n",
    "    soup = BeautifulSoup(r.text)\n",
    "    # Using generator to fetch all the links \n",
    "    memes_links = [url + a.get('href') for a in soup.find_all('a') if a.get('class') == ['photo']]\n",
    "    print('\\nPage {}:'.format(page))\n",
    "    print('Found {} memes'.format(len(memes_links)))"
   ]
  },
  {
   "cell_type": "markdown",
   "metadata": {},
   "source": [
    "На каждой странице найдено по 16 мемов, как и ожидалось, а значит, все работает!\n",
    "\n",
    "Напишем функцию, будет принимать номер страницы и словарь, содержащий User Agent, и будет возвращать список ссылок на данной странице."
   ]
  },
  {
   "cell_type": "code",
   "execution_count": 12,
   "metadata": {},
   "outputs": [],
   "source": [
    "def get_links(page, header):\n",
    "    '''\n",
    "    Returns list of links to the memes on the page\n",
    "        page: int\n",
    "            number of the page for parsing\n",
    "        header: dict\n",
    "            headers distionary that will be passed in requests.get()\n",
    "        memes_links: [str]\n",
    "            list of links\n",
    "    '''\n",
    "    link = 'http://knowyourmeme.com/memes/all/page/{}'.format(page)\n",
    "    # Sending GET request\n",
    "    try:\n",
    "        response = requests.get(link, headers=header)\n",
    "    except:\n",
    "        return []    \n",
    "    if not response.ok:\n",
    "        print('Error code in get_links:', response.status_code)\n",
    "        return []\n",
    "    # Brewing soup\n",
    "    soup = BeautifulSoup(response.text, features='lxml')\n",
    "    # Lambda to filter all <a> tags that have 'class' attribute set to 'photo'\n",
    "    a_photo_filter = lambda tag: tag.name == 'a' and tag.get('class') == ['photo']\n",
    "    # Creating list of links to the memes\n",
    "    memes_links = ['http://knowyourmeme.com' + a.get('href') for a in soup.find_all(a_photo_filter)]\n",
    "    return memes_links"
   ]
  },
  {
   "cell_type": "markdown",
   "metadata": {},
   "source": [
    "# 2. Получение информации со страницы  \n",
    "Итак, мы добрались до самого сложного и интересного.\n",
    "\n",
    "## 2.1. Получение статистики  \n",
    "На каждой (ну или почти на каждой - все может быть...) странице с мемом есть блок, содержащий его статистику с сайта. В нее входит количество просмотров, комментариев, а также загруженных фото и видео.  \n",
    "\n",
    "Вытащить эти данные можно из тега ```<dd>``` с аттрибутом ```class``` с одним из следующих значений ```views, videos, photos, comments```. Аттрибут ```title``` будет хранить необходимую информацию в строке. Однако, в ней будут присуствовать буквы, а также большие числа будут разделены запятой.  \n",
    "Хорошо бы это почистить, верно? Преобразуем строку в нижний регистр, и удалим все запятые. Затем разделим строку на два слова: первое - значение, второе - измеряемая статистика. Запишем полученную пару значение-ключ в словарь.  \n",
    "\n",
    "Применим все это на примере мема с кричащей девушкой и котом."
   ]
  },
  {
   "cell_type": "code",
   "execution_count": 13,
   "metadata": {},
   "outputs": [
    {
     "name": "stdout",
     "output_type": "stream",
     "text": [
      "{'views': 3877325, 'videos': 21, 'images': 358, 'comments': 34}\n"
     ]
    }
   ],
   "source": [
    "link = 'https://knowyourmeme.com/memes/woman-yelling-at-a-cat'\n",
    "r = requests.get(link, headers=header)\n",
    "soup = BeautifulSoup(r.text)\n",
    "stats_dict = {}\n",
    "# Stats we're searching for\n",
    "stats = ['views', 'videos', 'photos', 'comments']\n",
    "for stat in stats:\n",
    "    dd = soup.find('dd', attrs={'class':stat})\n",
    "    # Some stats maybe not available on some pages,\n",
    "    # so we need to protect ourselves from getting an error\n",
    "    if dd:\n",
    "        val_key_str = dd.get('title').lower().replace(',', '')\n",
    "        value, key = val_key_str.split(' ')\n",
    "        stats_dict[key] = int(value)\n",
    "print(stats_dict)"
   ]
  },
  {
   "cell_type": "markdown",
   "metadata": {},
   "source": [
    "Все работает! Обернем все это в функцию для дальнейшего использования. Будем передавать в функцию уже готовый суп."
   ]
  },
  {
   "cell_type": "code",
   "execution_count": 14,
   "metadata": {},
   "outputs": [],
   "source": [
    "def get_stats(soup, stat):\n",
    "    '''\n",
    "    Return requested stat of a meme\n",
    "        soup: bs4 soup\n",
    "            soup of a meme\n",
    "        stats: string\n",
    "            stat name string: views/videos/photos/comments\n",
    "        value: int\n",
    "            stat of a meme\n",
    "    '''\n",
    "    dd = soup.find('dd', attrs={'class':stat})\n",
    "    value = dd.find_next('a').text.replace(',', '') if dd else 0\n",
    "    return int(value)"
   ]
  },
  {
   "cell_type": "markdown",
   "metadata": {},
   "source": [
    "## 2.2. Получение основной информации  \n",
    "Здесь я хочу вытащить название мема, его статус, происхождение, дату появления, тэги, дату добавления на сайт и дату последнего изменения.  \n",
    "\n",
    "Вытащить название максимально просто - это первый тэг ```<h1>``` на странице. Найдем его и получим название с помощью ```.text```."
   ]
  },
  {
   "cell_type": "code",
   "execution_count": 15,
   "metadata": {},
   "outputs": [
    {
     "name": "stdout",
     "output_type": "stream",
     "text": [
      "Woman Yelling at a Cat\n"
     ]
    }
   ],
   "source": [
    "m_name = soup.find('h1')\n",
    "m_name = m_name.text.strip() if m_name else ''\n",
    "print(m_name)"
   ]
  },
  {
   "cell_type": "markdown",
   "metadata": {},
   "source": [
    "Вся информация по статусу мема, его происхождению и тэгам вынесена в колонку справа от текста с его историей. Она представляет собой тэг ```<aside>``` с аттрибутом ```class=\"left\"```. Beautiful Soup позволяет вызывать те же функции для поиска к тэгам, найденным в супе. Мы можем использовать это и начать искать внутри ```<aside>```.  \n",
    "\n",
    "Первым тэгом ```<dl>``` внутри будет тэг, содержащий категорию страницы. Запишем его содержимое в отдельную переменную.  "
   ]
  },
  {
   "cell_type": "code",
   "execution_count": 16,
   "metadata": {},
   "outputs": [
    {
     "name": "stdout",
     "output_type": "stream",
     "text": [
      "Meme\n"
     ]
    }
   ],
   "source": [
    "properties = soup.find('aside', attrs={'class':'left'})\n",
    "m_category = properties.find('dl')\n",
    "m_category = m_category.find_next()\n",
    "m_category = m_category.text.strip() if m_category else ''\n",
    "print(m_category)"
   ]
  },
  {
   "cell_type": "markdown",
   "metadata": {},
   "source": [
    "Статус мема можно найти в первом тэге ```<dd>```.  "
   ]
  },
  {
   "cell_type": "code",
   "execution_count": 17,
   "metadata": {},
   "outputs": [
    {
     "name": "stdout",
     "output_type": "stream",
     "text": [
      "Confirmed\n"
     ]
    }
   ],
   "source": [
    "m_status = properties.find('dd')\n",
    "m_status = m_status.text.strip() if m_status else ''\n",
    "print(m_status)"
   ]
  },
  {
   "cell_type": "markdown",
   "metadata": {},
   "source": [
    "Тип мема получим, найдя первый тэг ```<a class=\"entry-type-link\" ...><a/>```.  "
   ]
  },
  {
   "cell_type": "code",
   "execution_count": 18,
   "metadata": {},
   "outputs": [
    {
     "name": "stdout",
     "output_type": "stream",
     "text": [
      "Exploitable\n"
     ]
    }
   ],
   "source": [
    "m_type = properties.find('a', attrs={'class':'entry-type-link'})\n",
    "m_type = m_type.text.strip() if m_type else ''\n",
    "print(m_type)"
   ]
  },
  {
   "cell_type": "markdown",
   "metadata": {},
   "source": [
    "Beautiful Soup также позволяет искать тэги по тексту, который они содержат. Найдем первый тэг, содержащий в тексте ```\\nYear\\n```, а затем после него найдем следующую ссылку. В тексте этой ссылки будет год появления мема.  "
   ]
  },
  {
   "cell_type": "code",
   "execution_count": 19,
   "metadata": {},
   "outputs": [
    {
     "name": "stdout",
     "output_type": "stream",
     "text": [
      "2019\n"
     ]
    }
   ],
   "source": [
    "m_year = properties.find(text='\\nYear\\n')\n",
    "m_year = m_year.find_next('a') if m_year else ''\n",
    "m_year = int(m_year.text.strip()) if m_year else ''\n",
    "print(m_year)"
   ]
  },
  {
   "cell_type": "markdown",
   "metadata": {},
   "source": [
    "Аналогично тому, как мы нашли статус мема, найдем ```<dd>``` с классом ```class=\"entry_origin_link\"```. Следующей ссылкой будет ссылка с текстом, обозначающим то, откуда пошел мем.  "
   ]
  },
  {
   "cell_type": "code",
   "execution_count": 21,
   "metadata": {},
   "outputs": [
    {
     "name": "stdout",
     "output_type": "stream",
     "text": [
      "Twitter\n"
     ]
    }
   ],
   "source": [
    "m_origin = properties.find('dd', attrs={'entry_origin_link'})\n",
    "m_origin = m_origin.find_next('a') if m_origin else ''\n",
    "m_origin = m_origin.text.strip() if m_origin else ''\n",
    "print(m_origin)"
   ]
  },
  {
   "cell_type": "markdown",
   "metadata": {},
   "source": [
    "Найдем тэги, которые добавлены к мему, таким же образом, как искали год зарождения мема - по содержимому тэга.  "
   ]
  },
  {
   "cell_type": "code",
   "execution_count": 22,
   "metadata": {},
   "outputs": [
    {
     "name": "stdout",
     "output_type": "stream",
     "text": [
      "cat, food, dinner, chair, the real housewives of beverly hills, taylor armstrong, kyle richards, deadbefordeath, perpetualwinter, 69-, apple-trump, malibu beach party from hell, missingegirl, lc28__, salad cat, table cat, lady screaming at cat, smudge, ku\n"
     ]
    }
   ],
   "source": [
    "m_tags = properties.find(text='\\nTags\\n')\n",
    "m_tags = m_tags.find_next() if m_tags else ''\n",
    "m_tags = m_tags.text.strip() if m_tags else ''\n",
    "print(m_tags)"
   ]
  },
  {
   "cell_type": "markdown",
   "metadata": {},
   "source": [
    "Вытащим дату из тэга ```abbr``` с классом ```class=\"timeago\"```. Однако, среди найденных тэгов нашлось и что-то лишнее."
   ]
  },
  {
   "cell_type": "code",
   "execution_count": 23,
   "metadata": {},
   "outputs": [
    {
     "data": {
      "text/plain": [
       "4"
      ]
     },
     "execution_count": 23,
     "metadata": {},
     "output_type": "execute_result"
    }
   ],
   "source": [
    "times = soup.find_all('abbr', attrs={'class':'timeago'})\n",
    "len(times)"
   ]
  },
  {
   "cell_type": "markdown",
   "metadata": {},
   "source": [
    "Нужные нам тэги будут содержать строки ```\"Added\"``` или ```\"Updated\"```."
   ]
  },
  {
   "cell_type": "code",
   "execution_count": 24,
   "metadata": {},
   "outputs": [
    {
     "name": "stdout",
     "output_type": "stream",
     "text": [
      "2019-06-20T11:14:05-04:00\n",
      "2019-11-24T02:06:55-05:00\n"
     ]
    }
   ],
   "source": [
    "for t in times:\n",
    "    # Split parent's tag text\n",
    "    time = t.parent.text.split('\\n')\n",
    "    # If added or updated found in list, get\n",
    "    if 'Added' in time:\n",
    "        added = t.get('title')\n",
    "    elif 'Updated' in time:\n",
    "        updated = t.get('title')\n",
    "\n",
    "print(added)\n",
    "print(updated)"
   ]
  },
  {
   "cell_type": "markdown",
   "metadata": {},
   "source": [
    "Напишем функцию, которая будет возвращать словарь из полученных значений."
   ]
  },
  {
   "cell_type": "code",
   "execution_count": 25,
   "metadata": {},
   "outputs": [],
   "source": [
    "def get_properties(soup):\n",
    "    '''\n",
    "    Return dictionary containing properties of a meme\n",
    "        soup: bs4 soup\n",
    "            soup of a meme\n",
    "        properties_dict: {str:[str/int]}\n",
    "            dict of all useful properties\n",
    "    '''\n",
    "    # Creating return dict\n",
    "    properties_dict = {}\n",
    "\n",
    "    # Name\n",
    "    m_name = soup.find('h1')\n",
    "    m_name = m_name.text.strip() if m_name else ''\n",
    "    properties_dict['name'] = m_name\n",
    "\n",
    "    # Finding <aside> tag contaning needed information\n",
    "    properties = soup.find('aside', attrs={'class':'left'})\n",
    "    if properties:\n",
    "        # Category\n",
    "        m_category = properties.find('dl')\n",
    "        m_category = m_category.find_next()\n",
    "        m_category = m_category.text.strip() if m_category else ''\n",
    "        properties_dict['category'] = m_category.lower()\n",
    "\n",
    "        m_status = properties.find_next('dd')\n",
    "        m_status = m_status.text.strip() if m_status else ''\n",
    "        properties_dict['status'] = m_status.lower()\n",
    "\n",
    "        m_type = properties.find('a', attrs={'class':'entry-type-link'})\n",
    "        m_type = m_type.text.strip() if m_type else ''\n",
    "        properties_dict['type'] = m_type.lower()\n",
    "\n",
    "        m_year = properties.find(text='\\nYear\\n')\n",
    "        m_year = m_year.find_next() if m_year else ''\n",
    "        if m_year:\n",
    "            m_year = int(m_year.text.strip()) if m_year.text.strip().isdigit() else m_year.text.strip().lower()\n",
    "        properties_dict['year'] = m_year\n",
    "\n",
    "        m_origin = properties.find('dd', attrs={'entry_origin_link'})\n",
    "        m_origin = m_origin.text.strip() if m_origin else ''\n",
    "        properties_dict['origin'] = m_origin.lower()\n",
    "\n",
    "        m_tags = properties.find(text='\\nTags\\n')\n",
    "        m_tags = m_tags.find_next() if m_tags else ''\n",
    "        m_tags = m_tags.text.strip() if m_tags else ''\n",
    "        properties_dict['tags'] = m_tags.lower()\n",
    "\n",
    "    # Fetching dates\n",
    "    times = soup.find_all('abbr', attrs={'class':'timeago'})\n",
    "    for t in times:\n",
    "        # Split parent's tag text\n",
    "        time = t.parent.text.split('\\n')\n",
    "        # If added or updated found in list, get\n",
    "        if 'Added' in time:\n",
    "            properties_dict['added'] = t.get('title')\n",
    "        elif 'Updated' in time:\n",
    "            properties_dict['updated'] = t.get('title')\n",
    "    return properties_dict"
   ]
  },
  {
   "cell_type": "markdown",
   "metadata": {},
   "source": [
    "## 2.3. Получение текстового описания  \n",
    "Весь текст находится в тэге ```<section>``` с тэгом ```class=\"bodycopy\"```. Посмотрим его содержимое."
   ]
  },
  {
   "cell_type": "code",
   "execution_count": 26,
   "metadata": {},
   "outputs": [
    {
     "data": {
      "text/plain": [
       "<section class=\"bodycopy\">\n",
       "<h2 id=\"about\">About</h2>\n",
       "<p><strong>Woman Yelling at a Cat</strong> refers to a <a class=\"internal-link\" href=\"/memes/memes\">meme</a> format featuring a screen cap of <em>The Real Housewives of Beverly Hills</em> cast members Taylor Armstrong and Kyle Richards <a class=\"internal-link\" href=\"/memes/meme-chimera\">followed by a picture</a> of a confused-looking <a class=\"auto-link\" href=\"/memes/cultures/cats\">cat</a> sitting behind a dinner plate. The format gained significant popularity across the web in mid-June 2019 and the cat was later identified as <a class=\"internal-link\" href=\"/memes/smudge-the-cat/\">Smudge the Cat</a>.</p>\n",
       "<h2 id=\"origin\">Origin</h2>\n",
       "<div id=\"nativo-entry-1\"></div> <h4 id=\"taylor-armstrong-crying-and-pointing\">Taylor Armstrong Crying and Pointing</h4>\n",
       "<p>On December 5th, 2011, episode 14 \"Malibu Beach Party From Hell\" of season two of <em>The Real Housewives of Beverly Hills</em> reality TV series premiered in the United States.<sup class=\"footnote\" id=\"fnr1\"><a class=\"footnote-superscript\" href=\"#fn1\">[1]</a></sup> In the episode, cast member Taylor Armstrong cries during an argument, with cast member Kyle Richards attempting to calm her down. (shown below).</p>\n",
       "<p><br/></p><center><iframe allow=\"accelerometer; autoplay; encrypted-media; gyroscope; picture-in-picture\" allowfullscreen=\"\" frameborder=\"0\" height=\"236\" src=\"https://www.youtube.com/embed/zJrpdH5OX-U?start=234\" width=\"420\"></iframe></center><br/>\n",
       "<p>On December 6th, <a class=\"internal-link\" href=\"/memes/sites/the-daily-mail\">Daily Mail</a> published an article describing the events of the episode, posting a still of Armstrong pointing and crying and Richards hugging her (shown below).<sup class=\"footnote\" id=\"fnr2\"><a class=\"footnote-superscript\" href=\"#fn2\">[2]</a></sup></p>\n",
       "<p><br/></p><center>\n",
       "<a href=\"/photos/1505717\" target=\"_blank\"><img alt=\"HI © BRAVO Mariah Carey Blond Lady\" class=\"kym-image image-auto-link\" data-src=\"https://i.kym-cdn.com/photos/images/newsfeed/001/505/717/49b.jpg\" id=\"photo_1505717\" src=\"https://s.kym-cdn.com/assets/blank-b3f96f160b75b1b49b426754ba188fe8.gif\" title=\"Taylor Armstrong Crying and Pointing\" width=\"425\"/></a> </center><br/>\n",
       "<h4 id=\"confused-cat-at-dinner\">Confused Cat at Dinner</h4>\n",
       "<p>On June 19th, 2018, <a class=\"internal-link\" href=\"/memes/sites/tumblr\">Tumblr</a> user deadbefordeath posted a photograph of a white cat with a confused expression sitting in a chair in front of a plate with vegetables in it, titling the post \"he no like vegetals.\" The post gained over 50,300 likes and reblogs in one year.<sup class=\"footnote\" id=\"fnr3\"><a class=\"footnote-superscript\" href=\"#fn3\">[3]</a></sup></p>\n",
       "<p><br/></p><center>\n",
       "<a href=\"/photos/1505718\" target=\"_blank\"><img alt=\"Smudge the cat sitting at the table giving a reluctant look which became the punchline image of the woman yelling at cat meme\" class=\"kym-image image-auto-link\" data-src=\"https://i.kym-cdn.com/photos/images/newsfeed/001/505/718/136.jpg\" id=\"photo_1505718\" src=\"https://s.kym-cdn.com/assets/blank-b3f96f160b75b1b49b426754ba188fe8.gif\" title=\"Confused Cat at Dinner\" width=\"425\"/></a> </center><br/>\n",
       "<p>Following the popularity of the <a class=\"internal-link\" href=\"/memes/reaction-images\">reaction image</a>, on May 27th, 2019, smudge_lord <a class=\"auto-link\" href=\"/memes/sites/instagram\">Instagram</a> account was created for the cat,<sup class=\"footnote\" id=\"fnr13\"><a class=\"footnote-superscript\" href=\"#fn13\">[13]</a></sup> with the cat's name revealed to be <a class=\"internal-link\" href=\"/memes/smudge-the-cat\">Smudge.</a></p>\n",
       "<h4 id=\"woman-yelling-at-a-cat\">Woman Yelling at a Cat</h4>\n",
       "<p>Until May 1st, 2019, both images saw moderate use as reactions on <a class=\"auto-link\" href=\"/memes/sites/twitter\">Twitter</a>, <a class=\"auto-link\" href=\"/memes/sites/4chan\">4chan</a> and other websites.<sup class=\"footnote\" id=\"fnr4\"><a class=\"footnote-superscript\" href=\"#fn4\">[4]</a></sup><sup class=\"footnote\" id=\"fnr5\"><a class=\"footnote-superscript\" href=\"#fn5\">[5]</a></sup> On May 1st, 2019, Twitter user @MISSINGEGIRL made a post containing both images, writing \"These photos together is making me lose it.\"<sup class=\"footnote\" id=\"fnr6\"><a class=\"footnote-superscript\" href=\"#fn6\">[6]</a></sup> The tweet gained over 78,900 retweets and 276,800 likes in two months (shown below).</p>\n",
       "<p><br/></p><center>\n",
       "<a href=\"/photos/1505720\" target=\"_blank\"><img alt=\"dm @MISSINGEGIRL These photos together is making me lose it 1:56 PM -1 May 2019 Facial expression Photo caption Adaptation Organism Photography\" class=\"kym-image image-auto-link\" data-src=\"https://i.kym-cdn.com/photos/images/newsfeed/001/505/720/359.jpg\" id=\"photo_1505720\" src=\"https://s.kym-cdn.com/assets/blank-b3f96f160b75b1b49b426754ba188fe8.gif\" title=\"@MISSINGEGIRL's Tweet\" width=\"425\"/></a> </center><br/>\n",
       "<h2 id=\"spread\">Spread</h2>\n",
       "<p>On May 2nd, Twitter user @lc28__ made the first known meme based on the format, gaining over 20 retweets and 180 likes (shown below, left).<sup class=\"footnote\" id=\"fnr7\"><a class=\"footnote-superscript\" href=\"#fn7\">[7]</a></sup> On June 2nd, 2019, <a class=\"auto-link\" href=\"/memes/sites/reddit\">Redditor</a> PerpetualWinter made the first known <a class=\"internal-link\" href=\"/memes/object-labeling\">object-labeling</a> meme based on the format, gaining over 310 upvotes in one month (shown below, right).<sup class=\"footnote\" id=\"fnr8\"><a class=\"footnote-superscript\" href=\"#fn8\">[8]</a></sup></p>\n",
       "<p><br/></p><center>\n",
       "<a href=\"/photos/1505746\" target=\"_blank\"><img alt=\"Me accusing my cat of cuddling with other people when I come home drunk after bottomless brunch. Facial expression Photo caption Head Organism Adaptation Human Cat\" class=\"kym-image image-auto-link\" data-src=\"https://i.kym-cdn.com/photos/images/newsfeed/001/505/746/5a0.jpg\" id=\"photo_1505746\" src=\"https://s.kym-cdn.com/assets/blank-b3f96f160b75b1b49b426754ba188fe8.gif\" style=\"height:200px;\" title=\"@lc28__'s Tweet\"/></a> <a href=\"/photos/1505743\" target=\"_blank\"><img alt=\"KNICKS FANS AND NY MEDIA NEXTYEAR KRISTAPS PORZINGIS JUST PLAYING BASKETBALL imgflp.com Cat Photo caption Felidae Organism Photography\" class=\"kym-image image-auto-link\" data-src=\"https://i.kym-cdn.com/photos/images/newsfeed/001/505/743/ff4.jpg\" id=\"photo_1505743\" src=\"https://s.kym-cdn.com/assets/blank-b3f96f160b75b1b49b426754ba188fe8.gif\" style=\"height:200px;\" title=\"There’s a storm comin\"/></a> </center><br/>\n",
       "<p>On June 9th, Redditor <del>69</del>- posted a template for the format to /r/memes subreddit.<sup class=\"footnote\" id=\"fnr9\"><a class=\"footnote-superscript\" href=\"#fn9\">[9]</a></sup> On the same day, Redditor Apple-Trump posted a meme based on the format which gained over 38,600 upvotes in twelve days (shown below).<sup class=\"footnote\" id=\"fnr10\"><a class=\"footnote-superscript\" href=\"#fn10\">[10]</a></sup></p>\n",
       "<p><br/></p><center>\n",
       "<a href=\"/photos/1505744\" target=\"_blank\"><img alt=\"Girls when they see a spider The spider Facial expression Head Photo caption Cat Organism Human\" class=\"kym-image image-auto-link\" data-src=\"https://i.kym-cdn.com/photos/images/newsfeed/001/505/744/08d.jpg\" id=\"photo_1505744\" src=\"https://s.kym-cdn.com/assets/blank-b3f96f160b75b1b49b426754ba188fe8.gif\" title=\"Thanks for the free meme template u/-69--\" width=\"425\"/></a> </center><br/>\n",
       "<p>In the following days, the format gained significant spread on Reddit, with several highly-upvoted posts appearing in <a class=\"internal-link\" href=\"/memes/dank-memes\">/r/dankmemes</a><sup class=\"footnote\" id=\"fnr11\"><a class=\"footnote-superscript\" href=\"#fn11\">[11]</a></sup><sup class=\"footnote\" id=\"fnr12\"><a class=\"footnote-superscript\" href=\"#fn12\">[12]</a></sup> and other subreddits. On November 4th, <a class=\"internal-link\" href=\"/memes/sites/ebaums-world\">EbaumsWorld</a><sup class=\"footnote\" id=\"fnr14\"><a class=\"footnote-superscript\" href=\"#fn14\">[14]</a></sup> published a <a class=\"internal-link\" href=\"/memes/listicles\">collection of notable examples</a> titled \"49 Best 'Woman Yelling at a Cat' Memes That Have Taken Over the Internet.\"</p>\n",
       "<h4 id=\"thurston-waffles-video\">Thurston Waffles Video</h4>\n",
       "<p>On October 13th, 2019, <a class=\"auto-link\" href=\"/memes/sites/facebook\">Facebook</a> user KucingMenangid posted a remix video of the Woman Yelling At Cat meme that places the cat <a class=\"internal-link\" href=\"/memes/thurston-waffles/\">Thurston Waffles</a> in Smudge's place. In a little over one week, the post received more than 727,000 views, 25,000 shares, 12,000 reactions and 3,500 comments (shown below).</p>\n",
       "<p><br/></p><center><iframe allowfullscreen=\"true\" allowtransparency=\"true\" frameborder=\"0\" height=\"407\" scrolling=\"no\" src=\"https://www.facebook.com/plugins/video.php?href=https%3A%2F%2Fwww.facebook.com%2FKucingMenangid%2Fvideos%2F525522757994366%2F&amp;show_text=0&amp;width=560\" style=\"border:none;overflow:hidden\" width=\"560\"></iframe></center><br/>\n",
       "<h2 id=\"various-examples\">Various Examples</h2>\n",
       "<p><br/></p><center>\n",
       "<a href=\"/photos/1505751\" target=\"_blank\"><img alt=\"The teacher giving the whole class detention for talking and not completing their work The one kid who was silently doing all his work u/FriedL1verAttack Rice Dotear Thanos Avengers: Endgame Cat Felidae Photo caption Organism Small to medium-sized cats Adaptation Photography Selfie\" class=\"kym-image image-auto-link\" data-src=\"https://i.kym-cdn.com/photos/images/masonry/001/505/751/fe6.jpg\" id=\"photo_1505751\" src=\"https://s.kym-cdn.com/assets/blank-b3f96f160b75b1b49b426754ba188fe8.gif\" style=\"height:200px;\" title=\"Always felt bad for this kid\"/></a> <a href=\"/photos/1505748\" target=\"_blank\"><img alt=\"Wanda blaming Thanos for Thanos losing everything Facial expression Cat Organism Photo caption Adaptation Human\" class=\"kym-image image-auto-link\" data-src=\"https://i.kym-cdn.com/photos/images/masonry/001/505/748/6af.jpg\" id=\"photo_1505748\" src=\"https://s.kym-cdn.com/assets/blank-b3f96f160b75b1b49b426754ba188fe8.gif\" style=\"height:200px;\" title=\"Who tf is you\"/></a> <br/>\n",
       "<a href=\"/photos/1505750\" target=\"_blank\"><img alt=\"Me wondering why she didn't start sucking my dick like in that video I watched My stepsister calling me a sick pervert for jerking off in her room Facial expression Head Photo caption Cat Human Adaptation Organism\" class=\"kym-image image-auto-link\" data-src=\"https://i.kym-cdn.com/photos/images/masonry/001/505/750/b96.jpg\" id=\"photo_1505750\" src=\"https://s.kym-cdn.com/assets/blank-b3f96f160b75b1b49b426754ba188fe8.gif\" style=\"height:250px;\" title=\"Those bastards lied to me\"/></a> <a href=\"/photos/1505753\" target=\"_blank\"><img alt=\"My mom telling 12year old me me how useless i playing minecraft am u/Nakoshi Niyander Facial expression Head Photo caption Human Organism\" class=\"kym-image image-auto-link\" data-src=\"https://i.kym-cdn.com/photos/images/masonry/001/505/753/c2d.jpg\" id=\"photo_1505753\" src=\"https://s.kym-cdn.com/assets/blank-b3f96f160b75b1b49b426754ba188fe8.gif\" style=\"height:250px;\" title=\"Playing minecraft is not being useless\"/></a> </center><br/>\n",
       "<h2 id=\"templates\">Templates</h2>\n",
       "<p><br/></p><center>\n",
       "<a href=\"/photos/1505721\" target=\"_blank\"><img alt=\"Mariah Carey Cat Felidae Small to medium-sized cats\" class=\"kym-image image-auto-link\" data-src=\"https://i.kym-cdn.com/photos/images/newsfeed/001/505/721/e68.jpg\" id=\"photo_1505721\" src=\"https://s.kym-cdn.com/assets/blank-b3f96f160b75b1b49b426754ba188fe8.gif\" style=\"height:170px;\" title=\"Woman Yelling at a Cat Template\"/></a> <a href=\"/photos/1505722\" target=\"_blank\"><img alt=\"Cat Felidae Small to medium-sized cats Head Beauty Nose Snapshot Human Eye\" class=\"kym-image image-auto-link\" data-src=\"https://i.kym-cdn.com/photos/images/newsfeed/001/505/722/9b8.jpg\" id=\"photo_1505722\" src=\"https://s.kym-cdn.com/assets/blank-b3f96f160b75b1b49b426754ba188fe8.gif\" style=\"height:170px;\" title=\"Woman Yelling at a Cat Template #2\"/></a> </center><br/>\n",
       "<h2 id=\"search-interest\">Search Interest</h2>\n",
       "<div class=\"google-trends-embed-wrapper\">\n",
       "<script src=\"https://ssl.gstatic.com/trends_nrtr/925_RC01/embed_loader.js\" type=\"text/javascript\"></script> <script type=\"text/javascript\">trends.embed.renderExploreWidget(\"TIMESERIES\", {\"comparisonItem\":[{\"keyword\":\"woman yelling at a cat\",\"geo\":\"\",\"time\":\"all\"}],\"category\":0,\"property\":\"\"}, {\"exploreQuery\":\"date=all&q=woman%20yelling%20at%20a%20cat\",\"guestPath\":\"https://trends.google.com:443/trends/embed/\"});</script>\n",
       "</div><h2>Know Your Meme Store</h2><br/><div id=\"shopify-collection-component-entry-body\"></div>\n",
       "<h2 id=\"external-references\">External References</h2>\n",
       "<div class=\"references\">\n",
       "<p id=\"fn1\"><sup class=\"footnote\"><a href=\"#fnr1\">[1]</a></sup> <span class=\"footnote-text\">Wikipedia – <a class=\"external-link\" href=\"https://en.wikipedia.org/wiki/List_of_The_Real_Housewives_of_Beverly_Hills_episodes#Season_2_(2011%E2%80%9312)\" target=\"_blank\">List of The Real Housewives of Beverly Hills episodes</a></span></p>\n",
       "<p id=\"fn2\"><sup class=\"footnote\"><a href=\"#fnr2\">[2]</a></sup> <span class=\"footnote-text\">Daily Mail – <a class=\"external-link\" href=\"https://www.dailymail.co.uk/tvshowbiz/article-2070491/Real-Housewives-Of-Beverly-Hills-Taylor-Armstrong-meltdown-husband-Russell.html\" target=\"_blank\">'You, outside': Taylor Armstrong has meltdown over husband Russell… as she lashes out at Housewives</a></span></p>\n",
       "<p id=\"fn3\"><sup class=\"footnote\"><a href=\"#fnr3\">[3]</a></sup> <span class=\"footnote-text\">Tumblr – <a class=\"external-link\" href=\"https://deadbeforedeath.tumblr.com/post/175034192749/he-no-like-vegetals\" target=\"_blank\">deadbeforedeath's Post</a></span></p>\n",
       "<p id=\"fn4\"><sup class=\"footnote\"><a href=\"#fnr4\">[4]</a></sup> <span class=\"footnote-text\">Twitter – <a class=\"external-link\" href=\"https://twitter.com/adorkablemarina/status/1022232017633665024\" target=\"_blank\">YOU DO NOT MAKE KO CRY!!!</a></span></p>\n",
       "<p id=\"fn5\"><sup class=\"footnote\"><a href=\"#fnr5\">[5]</a></sup> <span class=\"footnote-text\">4chan – <a class=\"external-link\" href=\"http://oweeh6jcqx3aoey2.onion.ws/v/thread/433675943/#q433704456\" target=\"_blank\">/v/ Post #433704456</a></span></p>\n",
       "<p id=\"fn6\"><sup class=\"footnote\"><a href=\"#fnr6\">[6]</a></sup> <span class=\"footnote-text\">Twitter – <a class=\"external-link\" href=\"https://twitter.com/missingegirl/status/1123647491025428480\" target=\"_blank\">@missingegirl's Tweet</a></span></p>\n",
       "<p id=\"fn7\"><sup class=\"footnote\"><a href=\"#fnr7\">[7]</a></sup> <span class=\"footnote-text\">Twitter – <a class=\"external-link\" href=\"https://twitter.com/lc28__/status/1124114483385860102\" target=\"_blank\">@lc28__</a></span></p>\n",
       "<p id=\"fn8\"><sup class=\"footnote\"><a href=\"#fnr8\">[8]</a></sup> <span class=\"footnote-text\">Reddit – <a class=\"external-link\" href=\"https://www.reddit.com/r/Mavericks/comments/bvvzvv/theres_a_storm_comin/\" target=\"_blank\">There’s a storm comin</a></span></p>\n",
       "<p id=\"fn9\"><sup class=\"footnote\"><a href=\"#fnr9\">[9]</a></sup> <span class=\"footnote-text\">Reddit – <a class=\"external-link\" href=\"https://www.reddit.com/r/memes/comments/byhaee/im_giving_out_a_free_meme_template/\" target=\"_blank\">I’m giving out a free meme template</a></span></p>\n",
       "<p id=\"fn10\"><sup class=\"footnote\"><a href=\"#fnr10\">[10]</a></sup> <span class=\"footnote-text\">Reddit – <a class=\"external-link\" href=\"https://www.reddit.com/r/memes/comments/byk05j/thanks_for_the_free_meme_template_u69/\" target=\"_blank\">Thanks for the free meme template u/-69--</a></span></p>\n",
       "<p id=\"fn11\"><sup class=\"footnote\"><a href=\"#fnr11\">[11]</a></sup> <span class=\"footnote-text\">Reddit – <a class=\"external-link\" href=\"https://www.reddit.com/r/dankmemes/comments/c0kite/who_tf_is_you/\" target=\"_blank\">Who tf is you</a></span></p>\n",
       "<p id=\"fn12\"><sup class=\"footnote\"><a href=\"#fnr12\">[12]</a></sup> <span class=\"footnote-text\">Reddit – <a class=\"external-link\" href=\"https://www.reddit.com/r/dankmemes/comments/c0oqjd/those_bastards_lied_to_me/\" target=\"_blank\">Those bastards lied to me</a></span></p>\n",
       "<p id=\"fn13\"><sup class=\"footnote\"><a href=\"#fnr13\">[13]</a></sup> <span class=\"footnote-text\">Instagram – <a class=\"external-link\" href=\"https://www.instagram.com/smudge_lord/\" target=\"_blank\">smudge_lord</a></span></p>\n",
       "<p id=\"fn14\"><sup class=\"footnote\"><a href=\"#fnr14\">[14]</a></sup> <span class=\"footnote-text\">EbaumsWorld – <a class=\"external-link\" href=\"https://www.ebaumsworld.com/pictures/woman-yelling-at-cat-memes/86009016/\" target=\"_blank\">49 best woman yelling at a cat memes</a></span></p>\n",
       "</div>\n",
       "</section>"
      ]
     },
     "execution_count": 26,
     "metadata": {},
     "output_type": "execute_result"
    }
   ],
   "source": [
    "bodycopy = soup.find('section', attrs={'class':'bodycopy'})\n",
    "bodycopy"
   ]
  },
  {
   "cell_type": "markdown",
   "metadata": {},
   "source": [
    "Краткое описание мема из секции About находится в первом тэге ```<p>```."
   ]
  },
  {
   "cell_type": "code",
   "execution_count": 27,
   "metadata": {},
   "outputs": [
    {
     "data": {
      "text/plain": [
       "'Woman Yelling at a Cat refers to a meme format featuring a screen cap of The Real Housewives of Beverly Hills cast members Taylor Armstrong and Kyle Richards followed by a picture of a confused-looking cat sitting behind a dinner plate. The format gained significant popularity across the web in mid-June 2019 and the cat was later identified as Smudge the Cat.'"
      ]
     },
     "execution_count": 27,
     "metadata": {},
     "output_type": "execute_result"
    }
   ],
   "source": [
    "about = bodycopy.find('p')\n",
    "about.text.strip()"
   ]
  },
  {
   "cell_type": "markdown",
   "metadata": {},
   "source": [
    "В секции Origin (где-то ее название - History) описано происхождение мема. Найдем первый тэг, в тексте которого есть эти слова. Следующий тэг ```<p>``` будет содержать текст."
   ]
  },
  {
   "cell_type": "code",
   "execution_count": 28,
   "metadata": {},
   "outputs": [
    {
     "data": {
      "text/plain": [
       "'On December 5th, 2011, episode 14 \"Malibu Beach Party From Hell\" of season two of The Real Housewives of Beverly Hills reality TV series premiered in the United States.[1] In the episode, cast member Taylor Armstrong cries during an argument, with cast member Kyle Richards attempting to calm her down. (shown below).'"
      ]
     },
     "execution_count": 28,
     "metadata": {},
     "output_type": "execute_result"
    }
   ],
   "source": [
    "next_h = bodycopy.find(text='Origin') or bodycopy.find(text='History')\n",
    "next_h.find_next('p').text.strip()"
   ]
  },
  {
   "cell_type": "markdown",
   "metadata": {},
   "source": [
    "Однако, не весь текст находится в одном параграфе. Связано это тем, что практически на каждой странице вперемешку с картинками. Будем двигаться по тегам внутри цикла, пока не наткнемся на тэг ```<h2>```, что будет означать окончание этой секции."
   ]
  },
  {
   "cell_type": "code",
   "execution_count": 29,
   "metadata": {},
   "outputs": [
    {
     "data": {
      "text/plain": [
       "'On December 5th, 2011, episode 14 \"Malibu Beach Party From Hell\" of season two of The Real Housewives of Beverly Hills reality TV series premiered in the United States.[1] In the episode, cast member Taylor Armstrong cries during an argument, with cast member Kyle Richards attempting to calm her down. (shown below).On December 6th, Daily Mail published an article describing the events of the episode, posting a still of Armstrong pointing and crying and Richards hugging her (shown below).[2]On June 19th, 2018, Tumblr user deadbefordeath posted a photograph of a white cat with a confused expression sitting in a chair in front of a plate with vegetables in it, titling the post \"he no like vegetals.\" The post gained over 50,300 likes and reblogs in one year.[3]Following the popularity of the reaction image, on May 27th, 2019, smudge_lord Instagram account was created for the cat,[13] with the cat\\'s name revealed to be Smudge.Until May 1st, 2019, both images saw moderate use as reactions on Twitter, 4chan and other websites.[4][5] On May 1st, 2019, Twitter user @MISSINGEGIRL made a post containing both images, writing \"These photos together is making me lose it.\"[6] The tweet gained over 78,900 retweets and 276,800 likes in two months (shown below).'"
      ]
     },
     "execution_count": 29,
     "metadata": {},
     "output_type": "execute_result"
    }
   ],
   "source": [
    "history = ''\n",
    "while next_h and next_h.name != 'h2':\n",
    "    if next_h.name == 'p':\n",
    "        history += next_h.text.strip()\n",
    "    next_h = next_h.find_next()\n",
    "history"
   ]
  },
  {
   "cell_type": "markdown",
   "metadata": {},
   "source": [
    "Весь остальной текст вытащим похожим образом. Однако, тут могут встретиться и другие заголовки, поэтому в этот раз остановимся когда дойдем до заголовка с названием Search Interest."
   ]
  },
  {
   "cell_type": "code",
   "execution_count": 30,
   "metadata": {},
   "outputs": [
    {
     "data": {
      "text/plain": [
       "'On May 2nd, Twitter user @lc28__ made the first known meme based on the format, gaining over 20 retweets and 180 likes (shown below, left).[7] On June 2nd, 2019, Redditor PerpetualWinter made the first known object-labeling meme based on the format, gaining over 310 upvotes in one month (shown below, right).[8]On June 9th, Redditor 69- posted a template for the format to /r/memes subreddit.[9] On the same day, Redditor Apple-Trump posted a meme based on the format which gained over 38,600 upvotes in twelve days (shown below).[10]In the following days, the format gained significant spread on Reddit, with several highly-upvoted posts appearing in /r/dankmemes[11][12] and other subreddits. On November 4th, EbaumsWorld[14] published a collection of notable examples titled \"49 Best \\'Woman Yelling at a Cat\\' Memes That Have Taken Over the Internet.\"On October 13th, 2019, Facebook user KucingMenangid posted a remix video of the Woman Yelling At Cat meme that places the cat Thurston Waffles in Smudge\\'s place. In a little over one week, the post received more than 727,000 views, 25,000 shares, 12,000 reactions and 3,500 comments (shown below).'"
      ]
     },
     "execution_count": 30,
     "metadata": {},
     "output_type": "execute_result"
    }
   ],
   "source": [
    "next_o = next_h.find_next('p') if next_h else ''\n",
    "other = ''\n",
    "while next_o and (next_o.name != 'h2' and next_o.text != 'Search Interest'):\n",
    "    if next_o.name == 'p':\n",
    "        other += next_o.text.strip()\n",
    "    next_o = next_o.find_next()\n",
    "other"
   ]
  },
  {
   "cell_type": "markdown",
   "metadata": {},
   "source": [
    "В тексте часто встречаются ссылки в квадратных скобках, а также сноски в круглых. Поскольку нам этого не нужно, напишем функцию, которая будет удалять это удалять. Сделаем ее вложенной в фукнции, которая будет возвращать словарь с текстовой информацией. "
   ]
  },
  {
   "cell_type": "code",
   "execution_count": 31,
   "metadata": {},
   "outputs": [],
   "source": [
    "def get_text(soup):\n",
    "    '''\n",
    "    Returns dictionary of text info\n",
    "        soup: bs4 soup\n",
    "            soup of a meme\n",
    "        text_dict: {str:str}\n",
    "            dictionary of text info\n",
    "    '''\n",
    "    def remove_brackets(string, brackets):\n",
    "        opening, closing = brackets\n",
    "        # If deleting brackets\n",
    "        if brackets == '[]':\n",
    "            start = string.find(opening)\n",
    "            end = string.find(closing)\n",
    "            while start != -1 and end != -1:\n",
    "                string = string.replace(string[start:end+1], '')\n",
    "                start = string.find(opening)\n",
    "                end = string.find(closing)\n",
    "        # Else, deleting '(shown below)'\n",
    "        else:\n",
    "            substring = '(shown below)'\n",
    "            index = string.find(substring)\n",
    "            while index != -1:\n",
    "                string = string.replace(substring, '')\n",
    "                index = string.find(substring)\n",
    "        return string\n",
    "\n",
    "    text_dict = {}\n",
    "    bodycopy = soup.find('section', attrs={'class':'bodycopy'})\n",
    "    if bodycopy:\n",
    "        # About text\n",
    "        about = bodycopy.find('p')\n",
    "        about = about.text.strip() if about else ''\n",
    "        about = remove_brackets(about, '()')\n",
    "        #about = remove_brackets(about, '[]')\n",
    "        text_dict['about'] = about\n",
    "\n",
    "        # Origin or history\n",
    "        next_h = bodycopy.find(text='Origin') or bodycopy.find(text='History')\n",
    "        next_h = next_h.find_next('p') if next_h else ''\n",
    "        history = ''\n",
    "        while next_h and next_h.name != 'h2':\n",
    "            if next_h.name == 'p':\n",
    "                history += next_h.text.strip()\n",
    "            next_h = next_h.find_next()\n",
    "        history = remove_brackets(history, '()')\n",
    "        #history = remove_brackets(history, '[]')\n",
    "        text_dict['history'] = history\n",
    "\n",
    "        # Every other text\n",
    "        next_o = next_h.find_next('p') if next_h else ''\n",
    "        other = ''\n",
    "        while next_o and (next_o.name != 'h2' and next_o.text != 'Search Interest'):\n",
    "            if next_o.name == 'p':\n",
    "                other += next_o.text.strip()\n",
    "            next_o = next_o.find_next()\n",
    "        other = remove_brackets(other, '()')\n",
    "        #other = remove_brackets(other, '[]')\n",
    "        text_dict['other'] = other\n",
    "\n",
    "    return text_dict"
   ]
  },
  {
   "cell_type": "markdown",
   "metadata": {},
   "source": [
    "## 2.4. Получение ссылки на картинку\n",
    "Сразу качать мемы мы не будем, поэтому просто вытащим ссылку на картинку.  \n",
    "Мы будем брать картинку, которая является превью мема. Она находится в тэге ```<a>``` с аттрибутом ```class=\"photo left wide\"``` или ```class=\"photo left\"``` для более старых мемов. Сначала попоробуем найти картинку с первым аттрибутом, и потом, если ничего не нашли, попробуем найти по второму аттрибуту.  \n",
    "Однако, с тэгом ```class=\"photo left\"``` есть еще и картинки ленты вверху сайта, в которой показаны последние добавленные мемы. Все они ведут на страницу мема и имеют адрес ```/memes/...``` в тэге ```href```, поэтому их будет легко отфильтровать."
   ]
  },
  {
   "cell_type": "code",
   "execution_count": 32,
   "metadata": {},
   "outputs": [
    {
     "name": "stdout",
     "output_type": "stream",
     "text": [
      "https://i.kym-cdn.com/entries/icons/original/000/030/157/womanyellingcat.jpg\n"
     ]
    }
   ],
   "source": [
    "a = soup.find('a', attrs={'class':'photo left wide'})\n",
    "if not a:\n",
    "    for a in soup.find_all('a', attrs={'class':'photo left'}):\n",
    "        if a.get('href')[:6] != '/memes':\n",
    "            break\n",
    "link = a.get('href') if a else ''\n",
    "print(link)"
   ]
  },
  {
   "cell_type": "markdown",
   "metadata": {},
   "source": [
    "Уже почти по традиции, напишем отдельную функцию."
   ]
  },
  {
   "cell_type": "code",
   "execution_count": 33,
   "metadata": {},
   "outputs": [],
   "source": [
    "def get_pic_link(soup):\n",
    "    '''\n",
    "        soup: bs4 soup\n",
    "            soup of a meme page\n",
    "        link: str\n",
    "            link to a pic\n",
    "    '''\n",
    "    a = soup.find('a', attrs={'class':'photo left wide'})\n",
    "    if not a:\n",
    "        for a in soup.find_all('a', attrs={'class':'photo left'}):\n",
    "            if a.get('href')[:6] != '/memes':\n",
    "                break\n",
    "    link = a.get('href') if a else ''\n",
    "    return link"
   ]
  },
  {
   "cell_type": "markdown",
   "metadata": {},
   "source": [
    "# 3. Объединение всего в одну функцию\n",
    "Напишем функцию, которая будет вызывать написанные ранее функции. Было бы удобно скрыть отправку запроса и варку супа внутрь самой функции, чтобы аргументамии были бы ссылка на мем и хедер для ```requests```.  \n",
    "Возможно, стоит объяснить, зачем подавать в функцию хедер. Дело в том, что если каждый раз генерировать нового юзер-агента, для сервера это тоже станет подозрительно и мы опять получим 403, будто мы и вовсе не подменяли User Agent. И правда, вряд ли реальный человек каждый запрос будет отправлять с нового браузера. Поэтому необходимо сгенерировать юзер-агент один раз, а затем использовать его для каждого запроса."
   ]
  },
  {
   "cell_type": "code",
   "execution_count": 34,
   "metadata": {},
   "outputs": [],
   "source": [
    "def get_data(link, header):\n",
    "    '''\n",
    "    Scraps the data from link\n",
    "        link: str\n",
    "            link to the meme\n",
    "        data: {str:str/int}\n",
    "            Dict contaning row of dataframe\n",
    "    '''\n",
    "    try:\n",
    "        response = requests.get(link, headers=header)\n",
    "    except:\n",
    "        return {}\n",
    "    if not response.ok:\n",
    "        print(\"Error code in get_data:\", response.status_code)\n",
    "        return {}\n",
    "    soup = BeautifulSoup(response.text, features='lxml')\n",
    "    # Creating return dict\n",
    "    data = {}\n",
    "    for stat in ['views', 'videos', 'photos', 'comments']:\n",
    "        data[stat] = get_stats(soup, stat)\n",
    "    # Updating with dicts returned by previously written functions\n",
    "    data.update(get_properties(soup))\n",
    "    data.update(get_text(soup))\n",
    "    # Adding pic link\n",
    "    data['picture'] = get_pic_link(soup)\n",
    "\n",
    "    return data"
   ]
  },
  {
   "cell_type": "markdown",
   "metadata": {},
   "source": [
    "Подключим ```pandas``` и посмотрим на то, чего мы достигли."
   ]
  },
  {
   "cell_type": "code",
   "execution_count": 35,
   "metadata": {},
   "outputs": [],
   "source": [
    "import pandas as pd"
   ]
  },
  {
   "cell_type": "code",
   "execution_count": 45,
   "metadata": {},
   "outputs": [
    {
     "data": {
      "text/plain": [
       "'Woman Yelling at a Cat'"
      ]
     },
     "execution_count": 45,
     "metadata": {},
     "output_type": "execute_result"
    }
   ],
   "source": [
    "data = get_data('http://knowyourmeme.com/memes/woman-yelling-at-a-cat', header)\n",
    "data['name']"
   ]
  },
  {
   "cell_type": "code",
   "execution_count": 57,
   "metadata": {},
   "outputs": [
    {
     "data": {
      "text/html": [
       "<div>\n",
       "<style scoped>\n",
       "    .dataframe tbody tr th:only-of-type {\n",
       "        vertical-align: middle;\n",
       "    }\n",
       "\n",
       "    .dataframe tbody tr th {\n",
       "        vertical-align: top;\n",
       "    }\n",
       "\n",
       "    .dataframe thead th {\n",
       "        text-align: right;\n",
       "    }\n",
       "</style>\n",
       "<table border=\"1\" class=\"dataframe\">\n",
       "  <thead>\n",
       "    <tr style=\"text-align: right;\">\n",
       "      <th></th>\n",
       "      <th>name</th>\n",
       "      <th>category</th>\n",
       "      <th>status</th>\n",
       "      <th>year</th>\n",
       "      <th>added</th>\n",
       "      <th>updated</th>\n",
       "      <th>views</th>\n",
       "      <th>videos</th>\n",
       "      <th>photos</th>\n",
       "      <th>comments</th>\n",
       "      <th>tags</th>\n",
       "      <th>type</th>\n",
       "      <th>about</th>\n",
       "      <th>history</th>\n",
       "      <th>other</th>\n",
       "      <th>origin</th>\n",
       "      <th>picture</th>\n",
       "    </tr>\n",
       "  </thead>\n",
       "  <tbody>\n",
       "    <tr>\n",
       "      <th>0</th>\n",
       "      <td>Woman Yelling at a Cat</td>\n",
       "      <td>meme</td>\n",
       "      <td>confirmed</td>\n",
       "      <td>2019</td>\n",
       "      <td>2019-06-20T11:14:05-04:00</td>\n",
       "      <td>2019-11-24T02:06:55-05:00</td>\n",
       "      <td>3877325</td>\n",
       "      <td>21</td>\n",
       "      <td>358</td>\n",
       "      <td>34</td>\n",
       "      <td>cat, food, dinner, chair, the real housewives ...</td>\n",
       "      <td>exploitable</td>\n",
       "      <td>Woman Yelling at a Cat refers to a meme format...</td>\n",
       "      <td>On December 5th, 2011, episode 14 \"Malibu Beac...</td>\n",
       "      <td>On May 2nd, Twitter user @lc28__ made the firs...</td>\n",
       "      <td>twitter</td>\n",
       "      <td>https://i.kym-cdn.com/entries/icons/original/0...</td>\n",
       "    </tr>\n",
       "  </tbody>\n",
       "</table>\n",
       "</div>"
      ],
      "text/plain": [
       "                     name category     status  year  \\\n",
       "0  Woman Yelling at a Cat     meme  confirmed  2019   \n",
       "\n",
       "                       added                    updated    views videos  \\\n",
       "0  2019-06-20T11:14:05-04:00  2019-11-24T02:06:55-05:00  3877325     21   \n",
       "\n",
       "  photos comments                                               tags  \\\n",
       "0    358       34  cat, food, dinner, chair, the real housewives ...   \n",
       "\n",
       "          type                                              about  \\\n",
       "0  exploitable  Woman Yelling at a Cat refers to a meme format...   \n",
       "\n",
       "                                             history  \\\n",
       "0  On December 5th, 2011, episode 14 \"Malibu Beac...   \n",
       "\n",
       "                                               other   origin  \\\n",
       "0  On May 2nd, Twitter user @lc28__ made the firs...  twitter   \n",
       "\n",
       "                                             picture  \n",
       "0  https://i.kym-cdn.com/entries/icons/original/0...  "
      ]
     },
     "execution_count": 57,
     "metadata": {},
     "output_type": "execute_result"
    }
   ],
   "source": [
    "df = pd.DataFrame(columns=['name', 'category', 'status','year', 'added', 'updated',\n",
    "                       'views', 'videos', 'photos', 'comments', 'tags', 'type',\n",
    "                       'about', 'history', 'other'])\n",
    "df = df.append(data, ignore_index=True)\n",
    "df"
   ]
  },
  {
   "cell_type": "markdown",
   "metadata": {},
   "source": [
    "# 4. Обход блокировок с помощью Tor\n",
    "Казалось бы, все готово - можно написать какой-то простенький цикл и запускать скрипт. Однако, рано или поздно, мы превысим количество запросов и сервер нас забанит.  \n",
    "Попробуем обойти это, начав скрейпить через Tor. На каждую ошибку будем менять IP и генерировать новый User Agent.  \n",
    "Для работы с Tor подключим библиотеку ```stem```, а вернее импортнем оттуда классы ```Controller``` и ```Signal```, а для того, чтобы использовать открытый Tor как прокси, подлючим модули ```socket``` и ```socks```. Модуль ```time``` нужен для того, чтобы вызывать ```sleep``` на время, необходимое тору, чтобы сменить ip. Теперь запустим Tor."
   ]
  },
  {
   "cell_type": "code",
   "execution_count": 50,
   "metadata": {},
   "outputs": [],
   "source": [
    "from stem.control import Controller\n",
    "from stem import Signal\n",
    "import socket\n",
    "import socks\n",
    "import time"
   ]
  },
  {
   "cell_type": "code",
   "execution_count": 81,
   "metadata": {},
   "outputs": [],
   "source": [
    "socks.set_default_proxy(socks.SOCKS5, \"localhost\", 9150)\n",
    "socket.socket = socks.socksocket"
   ]
  },
  {
   "cell_type": "markdown",
   "metadata": {},
   "source": [
    "Напишем функцию, которая будет возвращать наш ip-адрес."
   ]
  },
  {
   "cell_type": "code",
   "execution_count": 52,
   "metadata": {},
   "outputs": [],
   "source": [
    "def check_ip():\n",
    "    ip_url = 'https://api.ipify.org'\n",
    "    r = requests.get(ip_url)\n",
    "    if r.ok:\n",
    "        return r.text"
   ]
  },
  {
   "cell_type": "markdown",
   "metadata": {},
   "source": [
    "Если вывести результат функции, получим ip, отличный от нашего настоящего, а значит мы успешно подключились к тору.  "
   ]
  },
  {
   "cell_type": "code",
   "execution_count": 82,
   "metadata": {},
   "outputs": [
    {
     "name": "stdout",
     "output_type": "stream",
     "text": [
      "185.107.47.171\n"
     ]
    }
   ],
   "source": [
    "print(check_ip())"
   ]
  },
  {
   "cell_type": "markdown",
   "metadata": {},
   "source": [
    "Проверим, работает ли наша функция ```get_data```. Используем новый хедер со сгенерированным User Agent."
   ]
  },
  {
   "cell_type": "code",
   "execution_count": 68,
   "metadata": {},
   "outputs": [
    {
     "data": {
      "text/html": [
       "<div>\n",
       "<style scoped>\n",
       "    .dataframe tbody tr th:only-of-type {\n",
       "        vertical-align: middle;\n",
       "    }\n",
       "\n",
       "    .dataframe tbody tr th {\n",
       "        vertical-align: top;\n",
       "    }\n",
       "\n",
       "    .dataframe thead th {\n",
       "        text-align: right;\n",
       "    }\n",
       "</style>\n",
       "<table border=\"1\" class=\"dataframe\">\n",
       "  <thead>\n",
       "    <tr style=\"text-align: right;\">\n",
       "      <th></th>\n",
       "      <th>name</th>\n",
       "      <th>category</th>\n",
       "      <th>status</th>\n",
       "      <th>year</th>\n",
       "      <th>added</th>\n",
       "      <th>updated</th>\n",
       "      <th>views</th>\n",
       "      <th>videos</th>\n",
       "      <th>photos</th>\n",
       "      <th>comments</th>\n",
       "      <th>tags</th>\n",
       "      <th>type</th>\n",
       "      <th>about</th>\n",
       "      <th>history</th>\n",
       "      <th>other</th>\n",
       "      <th>origin</th>\n",
       "      <th>picture</th>\n",
       "    </tr>\n",
       "  </thead>\n",
       "  <tbody>\n",
       "    <tr>\n",
       "      <th>0</th>\n",
       "      <td>Woman Yelling at a Cat</td>\n",
       "      <td>meme</td>\n",
       "      <td>confirmed</td>\n",
       "      <td>2019</td>\n",
       "      <td>2019-06-20T11:14:05-04:00</td>\n",
       "      <td>2019-11-24T02:06:55-05:00</td>\n",
       "      <td>3877325</td>\n",
       "      <td>21</td>\n",
       "      <td>358</td>\n",
       "      <td>34</td>\n",
       "      <td>cat, food, dinner, chair, the real housewives ...</td>\n",
       "      <td>exploitable</td>\n",
       "      <td>Woman Yelling at a Cat refers to a meme format...</td>\n",
       "      <td>On December 5th, 2011, episode 14 \"Malibu Beac...</td>\n",
       "      <td>On May 2nd, Twitter user @lc28__ made the firs...</td>\n",
       "      <td>twitter</td>\n",
       "      <td>https://i.kym-cdn.com/entries/icons/original/0...</td>\n",
       "    </tr>\n",
       "    <tr>\n",
       "      <th>1</th>\n",
       "      <td>Doge</td>\n",
       "      <td>meme</td>\n",
       "      <td>confirmed</td>\n",
       "      <td>2013</td>\n",
       "      <td>2013-07-24T16:29:55-04:00</td>\n",
       "      <td>2019-12-06T08:30:40-05:00</td>\n",
       "      <td>13112807</td>\n",
       "      <td>62</td>\n",
       "      <td>1666</td>\n",
       "      <td>918</td>\n",
       "      <td>animal, dog, shiba inu, shibe, such doge, supe...</td>\n",
       "      <td>animal</td>\n",
       "      <td>Doge is a slang term for \"dog\" that is primari...</td>\n",
       "      <td>The use of the misspelled word \"doge\" to refer...</td>\n",
       "      <td>On October 28th, 2010, a photo of Kabosu was s...</td>\n",
       "      <td>tumblr</td>\n",
       "      <td>https://i.kym-cdn.com/entries/icons/original/0...</td>\n",
       "    </tr>\n",
       "  </tbody>\n",
       "</table>\n",
       "</div>"
      ],
      "text/plain": [
       "                     name category     status  year  \\\n",
       "0  Woman Yelling at a Cat     meme  confirmed  2019   \n",
       "1                    Doge     meme  confirmed  2013   \n",
       "\n",
       "                       added                    updated     views videos  \\\n",
       "0  2019-06-20T11:14:05-04:00  2019-11-24T02:06:55-05:00   3877325     21   \n",
       "1  2013-07-24T16:29:55-04:00  2019-12-06T08:30:40-05:00  13112807     62   \n",
       "\n",
       "  photos comments                                               tags  \\\n",
       "0    358       34  cat, food, dinner, chair, the real housewives ...   \n",
       "1   1666      918  animal, dog, shiba inu, shibe, such doge, supe...   \n",
       "\n",
       "          type                                              about  \\\n",
       "0  exploitable  Woman Yelling at a Cat refers to a meme format...   \n",
       "1       animal  Doge is a slang term for \"dog\" that is primari...   \n",
       "\n",
       "                                             history  \\\n",
       "0  On December 5th, 2011, episode 14 \"Malibu Beac...   \n",
       "1  The use of the misspelled word \"doge\" to refer...   \n",
       "\n",
       "                                               other   origin  \\\n",
       "0  On May 2nd, Twitter user @lc28__ made the firs...  twitter   \n",
       "1  On October 28th, 2010, a photo of Kabosu was s...   tumblr   \n",
       "\n",
       "                                             picture  \n",
       "0  https://i.kym-cdn.com/entries/icons/original/0...  \n",
       "1  https://i.kym-cdn.com/entries/icons/original/0...  "
      ]
     },
     "execution_count": 68,
     "metadata": {},
     "output_type": "execute_result"
    }
   ],
   "source": [
    "header = {'User-Agent':str(ua.chrome)}\n",
    "url = 'https://knowyourmeme.com/memes/doge'\n",
    "data = get_data(url, header)\n",
    "df = df.append(data, ignore_index=True)\n",
    "df"
   ]
  },
  {
   "cell_type": "markdown",
   "metadata": {},
   "source": [
    "Отлично, все работает! Теперь все это можно собирать в скрипт. Нужно будет написать основной цикл со сменой ip каждую ошибку."
   ]
  }
 ],
 "metadata": {
  "kernelspec": {
   "display_name": "Python 3",
   "language": "python",
   "name": "python3"
  },
  "language_info": {
   "codemirror_mode": {
    "name": "ipython",
    "version": 3
   },
   "file_extension": ".py",
   "mimetype": "text/x-python",
   "name": "python",
   "nbconvert_exporter": "python",
   "pygments_lexer": "ipython3",
   "version": "3.7.3"
  }
 },
 "nbformat": 4,
 "nbformat_minor": 2
}
